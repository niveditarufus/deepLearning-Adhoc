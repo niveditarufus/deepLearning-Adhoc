{
 "cells": [
  {
   "cell_type": "markdown",
   "metadata": {
    "id": "H067qMHyAF93"
   },
   "source": [
    "# Downloading the Dataset"
   ]
  },
  {
   "cell_type": "code",
   "execution_count": null,
   "metadata": {
    "id": "1YQMket_3ruO"
   },
   "outputs": [],
   "source": [
    "! pip install -q kaggle"
   ]
  },
  {
   "cell_type": "code",
   "execution_count": null,
   "metadata": {
    "id": "QKsN4Ay-4WUH"
   },
   "outputs": [],
   "source": [
    "from google.colab import files\n",
    "files.upload()"
   ]
  },
  {
   "cell_type": "code",
   "execution_count": null,
   "metadata": {
    "id": "egJDq9ym4cPn"
   },
   "outputs": [],
   "source": [
    "! mkdir ~/.kaggle\n",
    "! cp kaggle.json ~/.kaggle/"
   ]
  },
  {
   "cell_type": "code",
   "execution_count": null,
   "metadata": {
    "id": "fyaKk5xy4glG"
   },
   "outputs": [],
   "source": [
    "! chmod 600 ~/.kaggle/kaggle.json"
   ]
  },
  {
   "cell_type": "code",
   "execution_count": null,
   "metadata": {
    "colab": {
     "base_uri": "https://localhost:8080/"
    },
    "id": "UYiQkp5w4rKp",
    "outputId": "7687e7a3-012d-4e89-e418-d3238eda6814"
   },
   "outputs": [
    {
     "name": "stdout",
     "output_type": "stream",
     "text": [
      "Downloading enron-email-dataset.zip to /content\n",
      " 96% 342M/358M [00:04<00:00, 97.1MB/s]\n",
      "100% 358M/358M [00:04<00:00, 90.8MB/s]\n"
     ]
    }
   ],
   "source": [
    "! kaggle datasets download -d wcukierski/enron-email-dataset"
   ]
  },
  {
   "cell_type": "code",
   "execution_count": null,
   "metadata": {
    "colab": {
     "base_uri": "https://localhost:8080/"
    },
    "id": "rgCxYPod5JRv",
    "outputId": "0253f08f-1f20-4cb0-cead-f2a7840b0ea1"
   },
   "outputs": [
    {
     "name": "stdout",
     "output_type": "stream",
     "text": [
      "Archive:  /content/enron-email-dataset.zip\n",
      "  inflating: ./emails.csv            \n"
     ]
    }
   ],
   "source": [
    "!unzip /content/enron-email-dataset.zip -d ."
   ]
  },
  {
   "cell_type": "code",
   "execution_count": null,
   "metadata": {
    "id": "9cw1cY-f5WG9"
   },
   "outputs": [],
   "source": [
    "!rm -rf enron-email-dataset.zip kaggle.json"
   ]
  },
  {
   "cell_type": "code",
   "execution_count": null,
   "metadata": {
    "colab": {
     "base_uri": "https://localhost:8080/"
    },
    "id": "7l_CyPTx5kqj",
    "outputId": "fead688b-3d9b-4c2a-c01c-d96217515165"
   },
   "outputs": [
    {
     "name": "stdout",
     "output_type": "stream",
     "text": [
      "emails.csv  sample_data\n"
     ]
    }
   ],
   "source": [
    "!ls"
   ]
  },
  {
   "cell_type": "markdown",
   "metadata": {
    "id": "ZrfU0ASvAMJG"
   },
   "source": [
    "# Preprocessing the data\n",
    "\n"
   ]
  },
  {
   "cell_type": "code",
   "execution_count": null,
   "metadata": {
    "id": "H4F-3xPV5oow"
   },
   "outputs": [],
   "source": [
    "import pandas as pd\n",
    "import email"
   ]
  },
  {
   "cell_type": "code",
   "execution_count": null,
   "metadata": {
    "id": "txIYkZsr5rbK"
   },
   "outputs": [],
   "source": [
    "dataset = pd.read_csv('emails.csv')"
   ]
  },
  {
   "cell_type": "code",
   "execution_count": null,
   "metadata": {
    "colab": {
     "base_uri": "https://localhost:8080/"
    },
    "id": "a0frNGyV5yfZ",
    "outputId": "c45fac21-64bb-4010-f959-58ad24842122"
   },
   "outputs": [
    {
     "data": {
      "text/plain": [
       "[('Message-ID', '<11146116.1075840320069.JavaMail.evans@thyme>'),\n",
       " ('Date', 'Mon, 4 Feb 2002 08:49:58 -0800 (PST)'),\n",
       " ('From', 'laura.vuittonet@enron.com'),\n",
       " ('To',\n",
       "  'barry.tycholiz@enron.com, stephanie.miller@enron.com, \\n\\thouston <.ward@enron.com>, eric.bass@enron.com, \\n\\tdavid.baumbach@enron.com, gary.bryan@enron.com, jd.buss@enron.com, \\n\\tmorris.larubbio@enron.com, a..martin@enron.com, \\n\\tmichael.olsen@enron.com, brian.redmond@enron.com, \\n\\tcharles.weldon@enron.com'),\n",
       " ('Subject', 'FW: Fundamentals Presentation'),\n",
       " ('Mime-Version', '1.0'),\n",
       " ('Content-Type', 'text/plain; charset=us-ascii'),\n",
       " ('Content-Transfer-Encoding', '7bit'),\n",
       " ('X-From', 'Vuittonet, Laura </O=ENRON/OU=NA/CN=RECIPIENTS/CN=LVUITTON>'),\n",
       " ('X-To',\n",
       "  'Tycholiz, Barry </O=ENRON/OU=NA/CN=RECIPIENTS/CN=Btychol>, Miller, Stephanie </O=ENRON/OU=NA/CN=RECIPIENTS/CN=Smiller2>, Ward, Kim S (Houston) </O=ENRON/OU=NA/CN=RECIPIENTS/CN=Kward>, Bass, Eric </O=ENRON/OU=NA/CN=RECIPIENTS/CN=Ebass>, Baumbach, David </O=ENRON/OU=NA/CN=RECIPIENTS/CN=Dbaumba>, Bryan, Gary </O=ENRON/OU=NA/CN=RECIPIENTS/CN=Gbryan>, Buss, Jd </O=ENRON/OU=NA/CN=RECIPIENTS/CN=Jeremy_buss>, Larubbio, Morris </O=ENRON/OU=NA/CN=RECIPIENTS/CN=Mlarubbi>, Martin, Thomas A. </O=ENRON/OU=NA/CN=RECIPIENTS/CN=Tmartin>, Olsen, Michael </O=ENRON/OU=NA/CN=RECIPIENTS/CN=Molsen2>, Redmond, Brian </O=ENRON/OU=NA/CN=RECIPIENTS/CN=Bredmon>, Weldon, V. Charles </O=ENRON/OU=NA/CN=RECIPIENTS/CN=Vweldon>'),\n",
       " ('X-cc', ''),\n",
       " ('X-bcc', ''),\n",
       " ('X-Folder', '\\\\ExMerge - Bass, Eric\\\\Inbox'),\n",
       " ('X-Origin', 'BASS-E'),\n",
       " ('X-FileName', 'eric bass 6-25-02.PST')]"
      ]
     },
     "execution_count": 11,
     "metadata": {
      "tags": []
     },
     "output_type": "execute_result"
    }
   ],
   "source": [
    "email.message_from_string(dataset.loc[15436]['message']).items()"
   ]
  },
  {
   "cell_type": "code",
   "execution_count": null,
   "metadata": {
    "colab": {
     "base_uri": "https://localhost:8080/",
     "height": 35
    },
    "id": "Zq4SQSHw7L02",
    "outputId": "89db283a-cd9c-4b32-a2f7-67d0c36e61b4"
   },
   "outputs": [
    {
     "data": {
      "application/vnd.google.colaboratory.intrinsic+json": {
       "type": "string"
      },
      "text/plain": [
       "'Here is our forecast\\n\\n '"
      ]
     },
     "execution_count": 12,
     "metadata": {
      "tags": []
     },
     "output_type": "execute_result"
    }
   ],
   "source": [
    "email.message_from_string(dataset.loc[0]['message']).get_payload()"
   ]
  },
  {
   "cell_type": "code",
   "execution_count": null,
   "metadata": {
    "id": "l9vf9reV8KIg"
   },
   "outputs": [],
   "source": [
    "def get_field(field, messages):\n",
    "    column = []\n",
    "    for message in messages:\n",
    "        e = email.message_from_string(message)\n",
    "        column.append(e.get(field))\n",
    "    return column"
   ]
  },
  {
   "cell_type": "code",
   "execution_count": null,
   "metadata": {
    "id": "h3WA-mRS9ZMi"
   },
   "outputs": [],
   "source": [
    "def get_payload(messages):\n",
    "    content_message = []\n",
    "    for message in messages:\n",
    "        content_message.append(email.message_from_string(message).get_payload())\n",
    "    return content_message"
   ]
  },
  {
   "cell_type": "code",
   "execution_count": null,
   "metadata": {
    "id": "0g0nquWj8O0C"
   },
   "outputs": [],
   "source": [
    "df = pd.DataFrame(columns=['from','to','cc','bcc','date','subject','message'])\n",
    "\n",
    "df[\"from\"] = get_field(\"From\", dataset[\"message\"])\n",
    "df[\"to\"] = get_field(\"To\", dataset[\"message\"])\n",
    "df[\"cc\"] = get_field(\"X-cc\", dataset[\"message\"])\n",
    "df[\"bcc\"] = get_field(\"X-bcc\", dataset[\"message\"])\n",
    "df[\"date\"] = get_field(\"Date\", dataset[\"message\"])\n",
    "df[\"subject\"] = get_field(\"Subject\", dataset[\"message\"])\n",
    "df[\"message\"] = get_payload(dataset[\"message\"])"
   ]
  },
  {
   "cell_type": "code",
   "execution_count": null,
   "metadata": {
    "colab": {
     "base_uri": "https://localhost:8080/",
     "height": 1000
    },
    "id": "6xv052Lc9GuM",
    "outputId": "b4b86382-7a57-4966-85c0-69695b0f016a"
   },
   "outputs": [
    {
     "data": {
      "text/html": [
       "<div>\n",
       "<style scoped>\n",
       "    .dataframe tbody tr th:only-of-type {\n",
       "        vertical-align: middle;\n",
       "    }\n",
       "\n",
       "    .dataframe tbody tr th {\n",
       "        vertical-align: top;\n",
       "    }\n",
       "\n",
       "    .dataframe thead th {\n",
       "        text-align: right;\n",
       "    }\n",
       "</style>\n",
       "<table border=\"1\" class=\"dataframe\">\n",
       "  <thead>\n",
       "    <tr style=\"text-align: right;\">\n",
       "      <th></th>\n",
       "      <th>from</th>\n",
       "      <th>to</th>\n",
       "      <th>cc</th>\n",
       "      <th>bcc</th>\n",
       "      <th>date</th>\n",
       "      <th>subject</th>\n",
       "      <th>message</th>\n",
       "    </tr>\n",
       "  </thead>\n",
       "  <tbody>\n",
       "    <tr>\n",
       "      <th>0</th>\n",
       "      <td>phillip.allen@enron.com</td>\n",
       "      <td>tim.belden@enron.com</td>\n",
       "      <td></td>\n",
       "      <td></td>\n",
       "      <td>Mon, 14 May 2001 16:39:00 -0700 (PDT)</td>\n",
       "      <td></td>\n",
       "      <td>Here is our forecast\\n\\n</td>\n",
       "    </tr>\n",
       "    <tr>\n",
       "      <th>1</th>\n",
       "      <td>phillip.allen@enron.com</td>\n",
       "      <td>john.lavorato@enron.com</td>\n",
       "      <td></td>\n",
       "      <td></td>\n",
       "      <td>Fri, 4 May 2001 13:51:00 -0700 (PDT)</td>\n",
       "      <td>Re:</td>\n",
       "      <td>Traveling to have a business meeting takes the...</td>\n",
       "    </tr>\n",
       "    <tr>\n",
       "      <th>2</th>\n",
       "      <td>phillip.allen@enron.com</td>\n",
       "      <td>leah.arsdall@enron.com</td>\n",
       "      <td></td>\n",
       "      <td></td>\n",
       "      <td>Wed, 18 Oct 2000 03:00:00 -0700 (PDT)</td>\n",
       "      <td>Re: test</td>\n",
       "      <td>test successful.  way to go!!!</td>\n",
       "    </tr>\n",
       "    <tr>\n",
       "      <th>3</th>\n",
       "      <td>phillip.allen@enron.com</td>\n",
       "      <td>randall.gay@enron.com</td>\n",
       "      <td></td>\n",
       "      <td></td>\n",
       "      <td>Mon, 23 Oct 2000 06:13:00 -0700 (PDT)</td>\n",
       "      <td></td>\n",
       "      <td>Randy,\\n\\n Can you send me a schedule of the s...</td>\n",
       "    </tr>\n",
       "    <tr>\n",
       "      <th>4</th>\n",
       "      <td>phillip.allen@enron.com</td>\n",
       "      <td>greg.piper@enron.com</td>\n",
       "      <td></td>\n",
       "      <td></td>\n",
       "      <td>Thu, 31 Aug 2000 05:07:00 -0700 (PDT)</td>\n",
       "      <td>Re: Hello</td>\n",
       "      <td>Let's shoot for Tuesday at 11:45.</td>\n",
       "    </tr>\n",
       "    <tr>\n",
       "      <th>...</th>\n",
       "      <td>...</td>\n",
       "      <td>...</td>\n",
       "      <td>...</td>\n",
       "      <td>...</td>\n",
       "      <td>...</td>\n",
       "      <td>...</td>\n",
       "      <td>...</td>\n",
       "    </tr>\n",
       "    <tr>\n",
       "      <th>517396</th>\n",
       "      <td>john.zufferli@enron.com</td>\n",
       "      <td>kori.loibl@enron.com</td>\n",
       "      <td></td>\n",
       "      <td></td>\n",
       "      <td>Wed, 28 Nov 2001 13:30:11 -0800 (PST)</td>\n",
       "      <td>Trade with John Lavorato</td>\n",
       "      <td>This is a trade with OIL-SPEC-HEDGE-NG (John L...</td>\n",
       "    </tr>\n",
       "    <tr>\n",
       "      <th>517397</th>\n",
       "      <td>john.zufferli@enron.com</td>\n",
       "      <td>john.lavorato@enron.com</td>\n",
       "      <td></td>\n",
       "      <td></td>\n",
       "      <td>Wed, 28 Nov 2001 12:47:48 -0800 (PST)</td>\n",
       "      <td>Gas Hedges</td>\n",
       "      <td>Some of my position is with the Alberta Term b...</td>\n",
       "    </tr>\n",
       "    <tr>\n",
       "      <th>517398</th>\n",
       "      <td>john.zufferli@enron.com</td>\n",
       "      <td>dawn.doucet@enron.com</td>\n",
       "      <td></td>\n",
       "      <td></td>\n",
       "      <td>Wed, 28 Nov 2001 07:20:00 -0800 (PST)</td>\n",
       "      <td>RE: CONFIDENTIAL</td>\n",
       "      <td>2\\n\\n -----Original Message-----\\nFrom: \\tDouc...</td>\n",
       "    </tr>\n",
       "    <tr>\n",
       "      <th>517399</th>\n",
       "      <td>john.zufferli@enron.com</td>\n",
       "      <td>jeanie.slone@enron.com</td>\n",
       "      <td></td>\n",
       "      <td></td>\n",
       "      <td>Tue, 27 Nov 2001 11:52:45 -0800 (PST)</td>\n",
       "      <td>Calgary Analyst/Associate</td>\n",
       "      <td>Analyst\\t\\t\\t\\t\\tRank\\n\\nStephane Brodeur\\t\\t\\...</td>\n",
       "    </tr>\n",
       "    <tr>\n",
       "      <th>517400</th>\n",
       "      <td>john.zufferli@enron.com</td>\n",
       "      <td>livia_zufferli@monitor.com</td>\n",
       "      <td></td>\n",
       "      <td></td>\n",
       "      <td>Mon, 26 Nov 2001 10:48:43 -0800 (PST)</td>\n",
       "      <td>RE: ali's essays</td>\n",
       "      <td>i think the YMCA has a class that is for peopl...</td>\n",
       "    </tr>\n",
       "  </tbody>\n",
       "</table>\n",
       "<p>517401 rows × 7 columns</p>\n",
       "</div>"
      ],
      "text/plain": [
       "                           from  ...                                            message\n",
       "0       phillip.allen@enron.com  ...                          Here is our forecast\\n\\n \n",
       "1       phillip.allen@enron.com  ...  Traveling to have a business meeting takes the...\n",
       "2       phillip.allen@enron.com  ...                     test successful.  way to go!!!\n",
       "3       phillip.allen@enron.com  ...  Randy,\\n\\n Can you send me a schedule of the s...\n",
       "4       phillip.allen@enron.com  ...                Let's shoot for Tuesday at 11:45.  \n",
       "...                         ...  ...                                                ...\n",
       "517396  john.zufferli@enron.com  ...  This is a trade with OIL-SPEC-HEDGE-NG (John L...\n",
       "517397  john.zufferli@enron.com  ...  Some of my position is with the Alberta Term b...\n",
       "517398  john.zufferli@enron.com  ...  2\\n\\n -----Original Message-----\\nFrom: \\tDouc...\n",
       "517399  john.zufferli@enron.com  ...  Analyst\\t\\t\\t\\t\\tRank\\n\\nStephane Brodeur\\t\\t\\...\n",
       "517400  john.zufferli@enron.com  ...  i think the YMCA has a class that is for peopl...\n",
       "\n",
       "[517401 rows x 7 columns]"
      ]
     },
     "execution_count": 16,
     "metadata": {
      "tags": []
     },
     "output_type": "execute_result"
    }
   ],
   "source": [
    "df"
   ]
  },
  {
   "cell_type": "markdown",
   "metadata": {
    "id": "LA8DadDY3J7p"
   },
   "source": [
    "# Email Summarization"
   ]
  },
  {
   "cell_type": "code",
   "execution_count": null,
   "metadata": {
    "colab": {
     "base_uri": "https://localhost:8080/"
    },
    "id": "E28g9WQWAmkp",
    "outputId": "54981c5e-1e9f-4c9a-9064-9c6a8f159fe7"
   },
   "outputs": [
    {
     "name": "stdout",
     "output_type": "stream",
     "text": [
      "Collecting sentence-transformers\n",
      "\u001b[?25l  Downloading https://files.pythonhosted.org/packages/c4/87/49dc49e13ac107ce912c2f3f3fd92252c6d4221e88d1e6c16747044a11d8/sentence-transformers-1.1.0.tar.gz (78kB)\n",
      "\u001b[K     |████████████████████████████████| 81kB 6.5MB/s \n",
      "\u001b[?25hCollecting transformers<5.0.0,>=3.1.0\n",
      "\u001b[?25l  Downloading https://files.pythonhosted.org/packages/d8/b2/57495b5309f09fa501866e225c84532d1fd89536ea62406b2181933fb418/transformers-4.5.1-py3-none-any.whl (2.1MB)\n",
      "\u001b[K     |████████████████████████████████| 2.1MB 13.9MB/s \n",
      "\u001b[?25hRequirement already satisfied, skipping upgrade: tqdm in /usr/local/lib/python3.7/dist-packages (from sentence-transformers) (4.41.1)\n",
      "Requirement already satisfied, skipping upgrade: torch>=1.6.0 in /usr/local/lib/python3.7/dist-packages (from sentence-transformers) (1.8.1+cu101)\n",
      "Requirement already satisfied, skipping upgrade: numpy in /usr/local/lib/python3.7/dist-packages (from sentence-transformers) (1.19.5)\n",
      "Requirement already satisfied, skipping upgrade: scikit-learn in /usr/local/lib/python3.7/dist-packages (from sentence-transformers) (0.22.2.post1)\n",
      "Requirement already satisfied, skipping upgrade: scipy in /usr/local/lib/python3.7/dist-packages (from sentence-transformers) (1.4.1)\n",
      "Requirement already satisfied, skipping upgrade: nltk in /usr/local/lib/python3.7/dist-packages (from sentence-transformers) (3.2.5)\n",
      "Collecting sentencepiece\n",
      "\u001b[?25l  Downloading https://files.pythonhosted.org/packages/f5/99/e0808cb947ba10f575839c43e8fafc9cc44e4a7a2c8f79c60db48220a577/sentencepiece-0.1.95-cp37-cp37m-manylinux2014_x86_64.whl (1.2MB)\n",
      "\u001b[K     |████████████████████████████████| 1.2MB 38.5MB/s \n",
      "\u001b[?25hRequirement already satisfied, skipping upgrade: packaging in /usr/local/lib/python3.7/dist-packages (from transformers<5.0.0,>=3.1.0->sentence-transformers) (20.9)\n",
      "Collecting sacremoses\n",
      "\u001b[?25l  Downloading https://files.pythonhosted.org/packages/75/ee/67241dc87f266093c533a2d4d3d69438e57d7a90abb216fa076e7d475d4a/sacremoses-0.0.45-py3-none-any.whl (895kB)\n",
      "\u001b[K     |████████████████████████████████| 901kB 38.5MB/s \n",
      "\u001b[?25hCollecting tokenizers<0.11,>=0.10.1\n",
      "\u001b[?25l  Downloading https://files.pythonhosted.org/packages/ae/04/5b870f26a858552025a62f1649c20d29d2672c02ff3c3fb4c688ca46467a/tokenizers-0.10.2-cp37-cp37m-manylinux2010_x86_64.whl (3.3MB)\n",
      "\u001b[K     |████████████████████████████████| 3.3MB 39.7MB/s \n",
      "\u001b[?25hRequirement already satisfied, skipping upgrade: importlib-metadata; python_version < \"3.8\" in /usr/local/lib/python3.7/dist-packages (from transformers<5.0.0,>=3.1.0->sentence-transformers) (3.10.1)\n",
      "Requirement already satisfied, skipping upgrade: filelock in /usr/local/lib/python3.7/dist-packages (from transformers<5.0.0,>=3.1.0->sentence-transformers) (3.0.12)\n",
      "Requirement already satisfied, skipping upgrade: regex!=2019.12.17 in /usr/local/lib/python3.7/dist-packages (from transformers<5.0.0,>=3.1.0->sentence-transformers) (2019.12.20)\n",
      "Requirement already satisfied, skipping upgrade: requests in /usr/local/lib/python3.7/dist-packages (from transformers<5.0.0,>=3.1.0->sentence-transformers) (2.23.0)\n",
      "Requirement already satisfied, skipping upgrade: typing-extensions in /usr/local/lib/python3.7/dist-packages (from torch>=1.6.0->sentence-transformers) (3.7.4.3)\n",
      "Requirement already satisfied, skipping upgrade: joblib>=0.11 in /usr/local/lib/python3.7/dist-packages (from scikit-learn->sentence-transformers) (1.0.1)\n",
      "Requirement already satisfied, skipping upgrade: six in /usr/local/lib/python3.7/dist-packages (from nltk->sentence-transformers) (1.15.0)\n",
      "Requirement already satisfied, skipping upgrade: pyparsing>=2.0.2 in /usr/local/lib/python3.7/dist-packages (from packaging->transformers<5.0.0,>=3.1.0->sentence-transformers) (2.4.7)\n",
      "Requirement already satisfied, skipping upgrade: click in /usr/local/lib/python3.7/dist-packages (from sacremoses->transformers<5.0.0,>=3.1.0->sentence-transformers) (7.1.2)\n",
      "Requirement already satisfied, skipping upgrade: zipp>=0.5 in /usr/local/lib/python3.7/dist-packages (from importlib-metadata; python_version < \"3.8\"->transformers<5.0.0,>=3.1.0->sentence-transformers) (3.4.1)\n",
      "Requirement already satisfied, skipping upgrade: idna<3,>=2.5 in /usr/local/lib/python3.7/dist-packages (from requests->transformers<5.0.0,>=3.1.0->sentence-transformers) (2.10)\n",
      "Requirement already satisfied, skipping upgrade: urllib3!=1.25.0,!=1.25.1,<1.26,>=1.21.1 in /usr/local/lib/python3.7/dist-packages (from requests->transformers<5.0.0,>=3.1.0->sentence-transformers) (1.24.3)\n",
      "Requirement already satisfied, skipping upgrade: certifi>=2017.4.17 in /usr/local/lib/python3.7/dist-packages (from requests->transformers<5.0.0,>=3.1.0->sentence-transformers) (2020.12.5)\n",
      "Requirement already satisfied, skipping upgrade: chardet<4,>=3.0.2 in /usr/local/lib/python3.7/dist-packages (from requests->transformers<5.0.0,>=3.1.0->sentence-transformers) (3.0.4)\n",
      "Building wheels for collected packages: sentence-transformers\n",
      "  Building wheel for sentence-transformers (setup.py) ... \u001b[?25l\u001b[?25hdone\n",
      "  Created wheel for sentence-transformers: filename=sentence_transformers-1.1.0-cp37-none-any.whl size=119615 sha256=a4cb01488a9408fa64be47645fa577897e312dca6078640d0bebae1ce205e55d\n",
      "  Stored in directory: /root/.cache/pip/wheels/84/cb/21/1066bff3027215c760ca14a198f698bca8fccb92e33e2327eb\n",
      "Successfully built sentence-transformers\n",
      "Installing collected packages: sacremoses, tokenizers, transformers, sentencepiece, sentence-transformers\n",
      "Successfully installed sacremoses-0.0.45 sentence-transformers-1.1.0 sentencepiece-0.1.95 tokenizers-0.10.2 transformers-4.5.1\n"
     ]
    }
   ],
   "source": [
    "%pip install -U sentence-transformers"
   ]
  },
  {
   "cell_type": "code",
   "execution_count": null,
   "metadata": {
    "colab": {
     "base_uri": "https://localhost:8080/",
     "height": 66,
     "referenced_widgets": [
      "ccd9483aed64416882fa037c6e5cf803",
      "e5b02479f66743469be3c3b9daa69723",
      "e90f5da9c3574cf5ae16d40c0427c5d1",
      "818427b63b9d4ed6b3479d1cbe7110ed",
      "58e402f7aaa6459e8dfeb3c7c95951b0",
      "b49b6b96e10d45e7a17ee43448cff518",
      "c3ef01bcd7fd4bb39efbf38ee694a933",
      "5953676a515b4c438c7b9f8ac3f4e4d5"
     ]
    },
    "id": "s6a5ofbD5Fry",
    "outputId": "406ebfef-6f50-4d3c-c192-89e31b44f50c"
   },
   "outputs": [
    {
     "data": {
      "application/vnd.jupyter.widget-view+json": {
       "model_id": "ccd9483aed64416882fa037c6e5cf803",
       "version_major": 2,
       "version_minor": 0
      },
      "text/plain": [
       "HBox(children=(FloatProgress(value=0.0, max=305584576.0), HTML(value='')))"
      ]
     },
     "metadata": {
      "tags": []
     },
     "output_type": "display_data"
    },
    {
     "name": "stdout",
     "output_type": "stream",
     "text": [
      "\n"
     ]
    }
   ],
   "source": [
    "from sentence_transformers import SentenceTransformer\n",
    "model = SentenceTransformer('paraphrase-distilroberta-base-v1')"
   ]
  },
  {
   "cell_type": "code",
   "execution_count": null,
   "metadata": {
    "id": "i-E91fjP5Joe"
   },
   "outputs": [],
   "source": [
    "sentences = ['This framework generates embeddings for each input sentence',\n",
    "    'Sentences are passed as a list of string.', \n",
    "    'The quick brown fox jumps over the lazy dog.']\n",
    "sentence_embeddings = model.encode(sentences)"
   ]
  },
  {
   "cell_type": "code",
   "execution_count": null,
   "metadata": {
    "colab": {
     "base_uri": "https://localhost:8080/"
    },
    "id": "TuMK2dkx482k",
    "outputId": "a876fefc-fa43-44fd-f3a8-1734a45c876f"
   },
   "outputs": [
    {
     "data": {
      "text/plain": [
       "array([[ 0.19731508,  0.1210537 , -0.2581328 , ...,  0.16053145,\n",
       "         0.10602241,  0.55408746],\n",
       "       [-0.257479  ,  0.2462943 ,  0.0946965 , ..., -0.14210276,\n",
       "         0.14410567,  0.51566   ],\n",
       "       [ 0.05094927,  0.24235828,  0.15774007, ..., -0.20625304,\n",
       "        -0.08491805,  0.06364136]], dtype=float32)"
      ]
     },
     "execution_count": 20,
     "metadata": {
      "tags": []
     },
     "output_type": "execute_result"
    }
   ],
   "source": [
    "sentence_embeddings"
   ]
  },
  {
   "cell_type": "code",
   "execution_count": null,
   "metadata": {
    "colab": {
     "base_uri": "https://localhost:8080/"
    },
    "id": "zikAsy5H67-T",
    "outputId": "4d94f721-6205-4bd3-80bb-6dc94ee177f6"
   },
   "outputs": [
    {
     "name": "stdout",
     "output_type": "stream",
     "text": [
      "Collecting lexrank\n",
      "\u001b[?25l  Downloading https://files.pythonhosted.org/packages/e1/25/f139d8526e014b6bf6021305492cd7ccffbfa10999802fce4813808b04e4/lexrank-0.1.0-py3-none-any.whl (69kB)\n",
      "\u001b[K     |████████████████████████████████| 71kB 6.2MB/s  eta 0:00:01\n",
      "\u001b[?25hRequirement already satisfied: nltk in /usr/local/lib/python3.7/dist-packages (3.2.5)\n",
      "Collecting path.py>=10.5\n",
      "  Downloading https://files.pythonhosted.org/packages/8f/04/130b7a538c25693c85c4dee7e25d126ebf5511b1eb7320e64906687b159e/path.py-12.5.0-py3-none-any.whl\n",
      "Requirement already satisfied: numpy>=1.13.3 in /usr/local/lib/python3.7/dist-packages (from lexrank) (1.19.5)\n",
      "Requirement already satisfied: scipy>=0.19.0 in /usr/local/lib/python3.7/dist-packages (from lexrank) (1.4.1)\n",
      "Requirement already satisfied: pyrsistent>=0.14.0 in /usr/local/lib/python3.7/dist-packages (from lexrank) (0.17.3)\n",
      "Collecting urlextract>=0.7\n",
      "  Downloading https://files.pythonhosted.org/packages/c3/24/0f5c690a4ef9b5d30845517ef14c35ce6a3d96e5b0ae0db6895bb194ab10/urlextract-1.2.0-py3-none-any.whl\n",
      "Requirement already satisfied: regex>=2017.11.9 in /usr/local/lib/python3.7/dist-packages (from lexrank) (2019.12.20)\n",
      "Requirement already satisfied: six in /usr/local/lib/python3.7/dist-packages (from nltk) (1.15.0)\n",
      "Collecting path\n",
      "  Downloading https://files.pythonhosted.org/packages/d3/2a/b0f97e1b736725f6ec48a8bd564ee1d1f3f945bb5d39cb44ef8bbe66bd14/path-15.1.2-py3-none-any.whl\n",
      "Requirement already satisfied: idna in /usr/local/lib/python3.7/dist-packages (from urlextract>=0.7->lexrank) (2.10)\n",
      "Collecting uritools\n",
      "  Downloading https://files.pythonhosted.org/packages/3d/cf/b081118f4505e3092bfaad94d14b78ec8344976cea142ed767b240cbf243/uritools-3.0.1-py3-none-any.whl\n",
      "Requirement already satisfied: appdirs in /usr/local/lib/python3.7/dist-packages (from urlextract>=0.7->lexrank) (1.4.4)\n",
      "Requirement already satisfied: filelock in /usr/local/lib/python3.7/dist-packages (from urlextract>=0.7->lexrank) (3.0.12)\n",
      "Installing collected packages: path, path.py, uritools, urlextract, lexrank\n",
      "Successfully installed lexrank-0.1.0 path-15.1.2 path.py-12.5.0 uritools-3.0.1 urlextract-1.2.0\n"
     ]
    }
   ],
   "source": [
    "%pip install lexrank nltk"
   ]
  },
  {
   "cell_type": "code",
   "execution_count": null,
   "metadata": {
    "id": "VfgjjND07Sun"
   },
   "outputs": [],
   "source": [
    "import numpy as np\n",
    "from scipy.sparse.csgraph import connected_components\n",
    "\n",
    "def degree_centrality_scores(\n",
    "    similarity_matrix,\n",
    "    threshold=None,\n",
    "    increase_power=True,\n",
    "):\n",
    "    if not (\n",
    "        threshold is None\n",
    "        or isinstance(threshold, float)\n",
    "        and 0 <= threshold < 1\n",
    "    ):\n",
    "        raise ValueError(\n",
    "            '\\'threshold\\' should be a floating-point number '\n",
    "            'from the interval [0, 1) or None',\n",
    "        )\n",
    "    if threshold is None:\n",
    "        markov_matrix = create_markov_matrix(similarity_matrix)\n",
    "    else:\n",
    "        markov_matrix = create_markov_matrix_discrete(\n",
    "            similarity_matrix,\n",
    "            threshold,\n",
    "        )\n",
    "    scores = stationary_distribution(\n",
    "        markov_matrix,\n",
    "        increase_power=increase_power,\n",
    "        normalized=False,\n",
    "    )\n",
    "    return scores\n",
    "\n",
    "\n",
    "def _power_method(transition_matrix, increase_power=True):\n",
    "    eigenvector = np.ones(len(transition_matrix))\n",
    "    if len(eigenvector) == 1:\n",
    "        return eigenvector\n",
    "    transition = transition_matrix.transpose()\n",
    "    while True:\n",
    "        eigenvector_next = np.dot(transition, eigenvector)\n",
    "        if np.allclose(eigenvector_next, eigenvector):\n",
    "            return eigenvector_next\n",
    "        eigenvector = eigenvector_next\n",
    "        if increase_power:\n",
    "            transition = np.dot(transition, transition)\n",
    "\n",
    "def connected_nodes(matrix):\n",
    "    _, labels = connected_components(matrix)\n",
    "    groups = []\n",
    "    for tag in np.unique(labels):\n",
    "        group = np.where(labels == tag)[0]\n",
    "        groups.append(group)\n",
    "    return groups\n",
    "\n",
    "\n",
    "def create_markov_matrix(weights_matrix):\n",
    "    n_1, n_2 = weights_matrix.shape\n",
    "    if n_1 != n_2:\n",
    "        raise ValueError('\\'weights_matrix\\' should be square')\n",
    "    row_sum = weights_matrix.sum(axis=1, keepdims=True)\n",
    "    return weights_matrix / row_sum\n",
    "\n",
    "def create_markov_matrix_discrete(weights_matrix, threshold):\n",
    "    discrete_weights_matrix = np.zeros(weights_matrix.shape)\n",
    "    ixs = np.where(weights_matrix >= threshold)\n",
    "    discrete_weights_matrix[ixs] = 1\n",
    "    return create_markov_matrix(discrete_weights_matrix)\n",
    "\n",
    "\n",
    "def graph_nodes_clusters(transition_matrix, increase_power=True):\n",
    "    clusters = connected_nodes(transition_matrix)\n",
    "    clusters.sort(key=len, reverse=True)\n",
    "    centroid_scores = []\n",
    "    for group in clusters:\n",
    "        t_matrix = transition_matrix[np.ix_(group, group)]\n",
    "        eigenvector = _power_method(t_matrix, increase_power=increase_power)\n",
    "        centroid_scores.append(eigenvector / len(group))\n",
    "    return clusters, centroid_scores\n",
    "\n",
    "\n",
    "def stationary_distribution(\n",
    "    transition_matrix,\n",
    "    increase_power=True,\n",
    "    normalized=True,\n",
    "):\n",
    "    n_1, n_2 = transition_matrix.shape\n",
    "    if n_1 != n_2:\n",
    "        raise ValueError('\\'transition_matrix\\' should be square')\n",
    "    distribution = np.zeros(n_1)\n",
    "    grouped_indices = connected_nodes(transition_matrix)\n",
    "    for group in grouped_indices:\n",
    "        t_matrix = transition_matrix[np.ix_(group, group)]\n",
    "        eigenvector = _power_method(t_matrix, increase_power=increase_power)\n",
    "        distribution[group] = eigenvector\n",
    "    if normalized:\n",
    "        distribution /= n_1\n",
    "    return distribution"
   ]
  },
  {
   "cell_type": "code",
   "execution_count": null,
   "metadata": {
    "id": "8Oh7cBG580eB"
   },
   "outputs": [],
   "source": [
    "from torch import Tensor, device\n",
    "import torch \n",
    "\n",
    "def cos_sim(a: Tensor, b: Tensor):\n",
    "    \"\"\"\n",
    "    Computes the cosine similarity cos_sim(a[i], b[j]) for all i and j.\n",
    "    :return: Matrix with res[i][j]  = cos_sim(a[i], b[j])\n",
    "    \"\"\"\n",
    "    if not isinstance(a, torch.Tensor):\n",
    "        a = torch.tensor(a)\n",
    "    if not isinstance(b, torch.Tensor):\n",
    "        b = torch.tensor(b)\n",
    "    if len(a.shape) == 1:\n",
    "        a = a.unsqueeze(0)\n",
    "    if len(b.shape) == 1:\n",
    "        b = b.unsqueeze(0)\n",
    "    a_norm = torch.nn.functional.normalize(a, p=2, dim=1)\n",
    "    b_norm = torch.nn.functional.normalize(b, p=2, dim=1)\n",
    "    return torch.mm(a_norm, b_norm.transpose(0, 1))"
   ]
  },
  {
   "cell_type": "code",
   "execution_count": null,
   "metadata": {
    "colab": {
     "base_uri": "https://localhost:8080/"
    },
    "id": "9H0ZURkJ6q3L",
    "outputId": "233aa95c-fcf0-4738-e22f-4c1f8857cec3"
   },
   "outputs": [
    {
     "name": "stdout",
     "output_type": "stream",
     "text": [
      "[nltk_data] Downloading package punkt to /root/nltk_data...\n",
      "[nltk_data]   Unzipping tokenizers/punkt.zip.\n",
      "Num sentences: 29\n",
      "\n",
      "\n",
      "Summary:\n",
      "Located at the southern tip of the U.S. state of New York, the city is the center of the New York metropolitan area, the largest metropolitan area in the world by urban landmass.\n",
      "New York City (NYC), often called simply New York, is the most populous city in the United States.\n",
      "Anchored by Wall Street in the Financial District of Lower Manhattan, New York City has been called both the world's leading financial center and the most financially powerful city in the world, and is home to the world's two largest stock exchanges by total market capitalization, the New York Stock Exchange and NASDAQ.\n",
      "New York City has been described as the cultural, financial, and media capital of the world, significantly influencing commerce, entertainment, research, technology, education, politics, tourism, art, fashion, and sports.\n",
      "If the New York metropolitan area were a sovereign state, it would have the eighth-largest economy in the world.\n"
     ]
    }
   ],
   "source": [
    "import nltk\n",
    "from sentence_transformers import SentenceTransformer, util\n",
    "import numpy as np\n",
    "\n",
    "nltk.download('punkt')\n",
    "model = SentenceTransformer('paraphrase-distilroberta-base-v1')\n",
    "\n",
    "document = \"\"\"\n",
    "New York City (NYC), often called simply New York, is the most populous city in the United States. With an estimated 2019 population of 8,336,817 distributed over about 302.6 square miles (784 km2), New York City is also the most densely populated major city in the United States. Located at the southern tip of the U.S. state of New York, the city is the center of the New York metropolitan area, the largest metropolitan area in the world by urban landmass. With almost 20 million people in its metropolitan statistical area and approximately 23 million in its combined statistical area, it is one of the world's most populous megacities. New York City has been described as the cultural, financial, and media capital of the world, significantly influencing commerce, entertainment, research, technology, education, politics, tourism, art, fashion, and sports. Home to the headquarters of the United Nations, New York is an important center for international diplomacy.\n",
    "Situated on one of the world's largest natural harbors, New York City is composed of five boroughs, each of which is a county of the State of New York. The five boroughs—Brooklyn, Queens, Manhattan, the Bronx, and Staten Island—were consolidated into a single city in 1898. The city and its metropolitan area constitute the premier gateway for legal immigration to the United States. As many as 800 languages are spoken in New York, making it the most linguistically diverse city in the world. New York is home to more than 3.2 million residents born outside the United States, the largest foreign-born population of any city in the world as of 2016. As of 2019, the New York metropolitan area is estimated to produce a gross metropolitan product (GMP) of $2.0 trillion. If the New York metropolitan area were a sovereign state, it would have the eighth-largest economy in the world. New York is home to the highest number of billionaires of any city in the world.\n",
    "New York City traces its origins to a trading post founded by colonists from the Dutch Republic in 1624 on Lower Manhattan; the post was named New Amsterdam in 1626. The city and its surroundings came under English control in 1664 and were renamed New York after King Charles II of England granted the lands to his brother, the Duke of York. The city was regained by the Dutch in July 1673 and was subsequently renamed New Orange for one year and three months; the city has been continuously named New York since November 1674. New York City was the capital of the United States from 1785 until 1790, and has been the largest U.S. city since 1790. The Statue of Liberty greeted millions of immigrants as they came to the U.S. by ship in the late 19th and early 20th centuries, and is a symbol of the U.S. and its ideals of liberty and peace. In the 21st century, New York has emerged as a global node of creativity, entrepreneurship, and environmental sustainability, and as a symbol of freedom and cultural diversity. In 2019, New York was voted the greatest city in the world per a survey of over 30,000 people from 48 cities worldwide, citing its cultural diversity.\n",
    "Many districts and landmarks in New York City are well known, including three of the world's ten most visited tourist attractions in 2013. A record 62.8 million tourists visited New York City in 2017. Times Square is the brightly illuminated hub of the Broadway Theater District, one of the world's busiest pedestrian intersections, and a major center of the world's entertainment industry. Many of the city's landmarks, skyscrapers, and parks are known around the world. Manhattan's real estate market is among the most expensive in the world. Providing continuous 24/7 service and contributing to the nickname The City that Never Sleeps, the New York City Subway is the largest single-operator rapid transit system worldwide, with 472 rail stations. The city has over 120 colleges and universities, including Columbia University, New York University, Rockefeller University, and the City University of New York system, which is the largest urban public university system in the United States. Anchored by Wall Street in the Financial District of Lower Manhattan, New York City has been called both the world's leading financial center and the most financially powerful city in the world, and is home to the world's two largest stock exchanges by total market capitalization, the New York Stock Exchange and NASDAQ.\n",
    "\"\"\"\n",
    "\n",
    "sentences = nltk.sent_tokenize(document)\n",
    "print(\"Num sentences:\", len(sentences))\n",
    "embeddings = model.encode(sentences, convert_to_tensor=True)\n",
    "cos_scores = cos_sim(embeddings, embeddings).numpy()\n",
    "centrality_scores = degree_centrality_scores(cos_scores, threshold=None)\n",
    "most_central_sentence_indices = np.argsort(-centrality_scores)\n",
    "print(\"\\n\\nSummary:\")\n",
    "for idx in most_central_sentence_indices[0:5]:\n",
    "    print(sentences[idx].strip())"
   ]
  },
  {
   "cell_type": "code",
   "execution_count": null,
   "metadata": {
    "id": "5oVhGGh_nt1D"
   },
   "outputs": [],
   "source": [
    "messages = []\n",
    "for index, row in df.iterrows():\n",
    "  messages.append(row['message'])"
   ]
  },
  {
   "cell_type": "code",
   "execution_count": null,
   "metadata": {
    "id": "UKndzAyz4KB-"
   },
   "outputs": [],
   "source": [
    "messages = sorted(messages, key=len)"
   ]
  },
  {
   "cell_type": "code",
   "execution_count": null,
   "metadata": {
    "id": "8kzkT7BuDriV"
   },
   "outputs": [],
   "source": [
    "messages = list(reversed(messages))"
   ]
  },
  {
   "cell_type": "code",
   "execution_count": null,
   "metadata": {
    "colab": {
     "base_uri": "https://localhost:8080/"
    },
    "id": "wC6_O3aJoeQl",
    "outputId": "144bd541-ad81-422d-b0cf-460dcb6f1f4c"
   },
   "outputs": [
    {
     "name": "stdout",
     "output_type": "stream",
     "text": [
      "0\n"
     ]
    }
   ],
   "source": [
    "summaries = []\n",
    "for x in range(100,101):\n",
    "    message = messages[x]\n",
    "    top_5 = []\n",
    "    sentences = nltk.sent_tokenize(message)\n",
    "    embeddings = model.encode(sentences, convert_to_tensor=True)\n",
    "    cos_scores = cos_sim(embeddings, embeddings).numpy()\n",
    "    centrality_scores = degree_centrality_scores(cos_scores, threshold=None)\n",
    "    most_central_sentence_indices = np.argsort(-centrality_scores)\n",
    "    print(len(summaries))\n",
    "    for idx in most_central_sentence_indices[0:5]:\n",
    "        top_5.append(sentences[idx].strip())\n",
    "    summaries.append([message, top_5])"
   ]
  },
  {
   "cell_type": "code",
   "execution_count": null,
   "metadata": {
    "colab": {
     "base_uri": "https://localhost:8080/"
    },
    "id": "2nK5j55cFDgZ",
    "outputId": "afcee5a1-5ee4-46d8-aae6-404938787e09"
   },
   "outputs": [
    {
     "data": {
      "text/plain": [
       "['Please see the following articles:\\n\\nSac Bee, Tues, 5/1:  \"$18 billion power tab projected: An immediate=20\\noutcry greets Davis\\' plan for state energy purchases through June 2002\"\\n\\nSac Bee, Tues, 5/1:  \"PUC seeks to retain PG&E control\"\\n\\nSac Bee, Tues, 5/1:  \"Legislators propose tax on energy profits\"\\n\\nSac Bee, Tues, 5/1:  \"Dan Walters: Davis finally generates an energy plan,=\\n=20\\nbut will it work?\"\\n\\nSac Bee, Tues, 5/1:  \"Soaring energy bills hurt eateries: Many restaurants =\\nin=20\\ncapital area,=20\\ndespite good patronage, expect to raise menu prices\"\\n\\nSac Bee, Mon, 4/30:  \"Empowering the public                 (Editorial)\\nObstacles keep cities out of energy\"\\n\\nSac Bee, Tues, 5/1:  \"Daniel Weintraub: An energy trader says it\\'s time to=\\n=20\\nlimit profits\"   (Editorial)\\n\\nLA Times, Tues, 5/1:  \"Power Companies Step Up Lobbying\"\\n\\nLA Times, Tues, 5/1:  \"Power Marketer Ordered by FERC to Refund $8 Million\"\\n\\nLA Times, Tues, 5/1:  \"Davis Turns to Bankruptcy Court for Help in Plan to =\\nBuy\\nPower Grid\"\\n\\nSF Chron, Tues, 5/1:  \"Feds want surcharge to pay utilities\\' debts=20\\nTHE PLAN: Additional rate boost likely, cash would go to power suppliers\"\\n\\nSF Chron (AP), Tues, 5/1:  \"Lawmakers offer bills aimed at cutting natural=\\n=20\\ngas prices\"\\n\\nSF Chron (AP), Tues, 5/1:  \"Developments in California\\'s energy crisis\"\\n\\nSF Chron, Tues, 5/1:  \"Second try for tax cut in Oakland=20\\nSmaller utility levy likely after Brown veto\"\\n\\nSF Chron, Tues, 5/1:  \"Feds want surcharge to pay utilities\\' debts=20\\nTHE PLAN: Additional rate boost likely, cash would go to power suppliers\"\\n\\nSF Chron, Tues, 5/1:  \"Warning of a summer power \\'Armageddon\\'=20\\nDavis aide paints dire scenario in push for bonds to buy power \"\\n\\nMercury News, Tues, 5/1: \"Cheney rejects conservation\"\\n\\nMercury News (AP), Tues, 5/1:  \"Federal energy regulators propose surcharge=\\n=20\\nplan\\nto pay utilities\\' debt\"\\n\\nMercury News, Tues, 5/1:  \"Record prices for power expected this summer in=\\n=20\\nU.S.\"\\n\\nMercury News, Tues, 5/1:  \"Davis calls generators on carpet\"\\n\\nMercury News, Tues, 5/1:  \"PG&E lobbied heavily just before bankruptcy\"\\n\\nOC Register, Tues, 5/1:  \"Cheney outlines energy strategy for U.S.\"\\n\\nOC Register, Tues, 5/1:  \"Bush taking a supply-side policy on energy\"\\n\\nOC Register, Tues, 5/1:  \"Power supplier will pay to settle\"\\n\\nOC Register, Tues, 5/1:  \"Energy notebook: Bills target high natural-gas=20\\nprices\"\\n\\nOC Register, Tues, 5/1:  \"Leadership blackout\\nGov. Davis seems unplugged in dealing with the crisis \"           =20\\n(Commentary)\\n\\nIndividual.com (Bridgenews), Tues, 5/1:  \"Calif. Gov Davis/ PG&E utility=20\\ncreditors may like grid sale --Davis sees Calif energy supply\\noutstripping need by fall \\'03 --Davis/ PG&E credit\"\\n\\nIndividual.com (AP), Tues, 5/1:  \"Davis Optimistic Despite Power Woes\"\\n\\n\\nNY Times, Tues, 5/1:  \"Cheney Promotes Increasing Supply as Energy Policy\"\\n\\nNY Times, Tues, 5/1:  \"River\\'s Power Aids California and Enriches the=20\\nNorthwest\"\\n\\nWash. Post, Tues, 5/1:  \"Bush Energy Plan Will Emphasize Production; Cheney=\\n:=20\\nConservation Is Part of Effort\"\\n\\nEnergy Insight, Tues, 5/1:  \"Western Dreaming: A Buyer\\'s Cartel\"\\n\\n---------------------------------------------------------------------------=\\n---\\n---------------------------------------------------------------\\n\\n$18 billion power tab projected: An immediate outcry greets Davis\\' plan for=\\n=20\\nstate energy purchases through June 2002.\\nBy Emily Bazar and Jim Sanders\\nBee Capitol Bureau\\n(Published May 1, 2001)=20\\nSeeking to sell his energy rescue plan to reluctant Republicans, Gov. Gray=\\n=20\\nDavis on Monday released a long-awaited financial plan that shows the state=\\n=20\\nwill spend more than $18 billion on electricity through June 2002, but can=\\n=20\\nmaneuver the energy crisis without additional rate increases or draining th=\\ne=20\\nstate budget.=20\\nHis projections, however, were immediately attacked by lawmakers and indust=\\nry=20\\nexperts, who called them overly optimistic and unrealistic.=20\\nThe plan, which Davis is using to bolster his energy effort with legislator=\\ns=20\\nand Wall Street, is based on a series of assumptions, among them that the=\\n=20\\nstate will pay significantly less for electricity on the spot market during=\\n=20\\nthe hottest summer months than it pays now, and that dozens of shuttered=20\\nsmall generators will start selling discount electricity again.=20\\n\"No one has a crystal ball into the future,\" state Treasurer Phil Angelides=\\n=20\\ntold reporters. \"The administration\\'s plan makes some assumptions, as any=\\n=20\\nplan must. The question is, are they reasonable assumptions, and what do we=\\n=20\\nneed to do collectively to make the plan succeed?\"=20\\nThe Democratic governor has long faced criticism for refusing to divulge=20\\ndetails about the state\\'s power purchases, both on the expensive spot marke=\\nt=20\\nand under long-term contracts.=20\\nLast week, the issue was thrust into the forefront when Assembly Republican=\\ns=20\\ntold the governor they would not vote for a bill authorizing the sale of $1=\\n0=20\\nbillion in revenue bonds to pay for the state\\'s power purchases until they=\\n=20\\nreceived additional information.=20\\nIf legislators don\\'t pass the bill -- which requires a two-thirds majority=\\n=20\\nand, therefore, Republican votes -- Angelides said the state might miss a M=\\nay=20\\n8 deadline for closing on a crucial $4.1 billion bridge loan.=20\\nOn Monday, Davis relented, releasing his response in the form of an=20\\ninch-thick document filled with tables, bar graphs and projections. The pla=\\nn=20\\ngives the first detailed, month-by-month account of the state Department of=\\n=20\\nWater Resources\\' expected power purchases through 2002.=20\\nBut the projections failed to win votes immediately in the Assembly=20\\nRepublican caucus, where Minority Floor Leader Dave Cox said he is not yet=\\n=20\\nready to support the proposed $10 billion in bonds. The caucus will meet=20\\ntoday to decide what to do next, he said.=20\\n\"Many of the assumptions are questionable and there is no answer as to what=\\n=20\\nwill happen if the assumptions prove incorrect,\" said Assemblyman Keith=20\\nRichman, R-Sun Valley. \"I\\'m very concerned.\"=20\\nDavis\\' plan relies on numerous estimates, including likely summer=20\\ntemperatures and annual rainfall, and an assumption that Californians will=\\n=20\\nuse 7 percent less energy this year than they did last year.=20\\nPrivate consultants who helped draft the plan also predicted that most of t=\\nhe=20\\nsmall generators that stopped producing electricity because they hadn\\'t bee=\\nn=20\\npaid for months will resume production at discounted rates. They argued tha=\\nt=20\\ntheir assumptions are conservative and allow for unexpected changes.=20\\n\"There are lots of variables that are not simply assumptions,\" said Joseph=\\n=20\\nFichera, an investment banker with Saber Partners in New York City and a=20\\nconsultant to the administration. \"I would say probably 80 percent is what =\\nwe=20\\nknow are facts and 20 percent are expectations.\"=20\\nRepublican lawmakers and others were particularly uncomfortable with the=20\\nadministration\\'s conclusion that the state will spend an average of $195 pe=\\nr=20\\nmegawatt-hour for electricity on the spot market in July, August and=20\\nSeptember, the hottest months of the year when electricity is expected to b=\\ne=20\\nsold at a premium.=20\\nSome have predicted that the costs could go much higher.=20\\n\"There\\'s a reasonable chance this summer that the state will be paying $1=\\n=20\\nbillion per week\" for electricity, Severin Borenstein, head of the Universi=\\nty=20\\nof California Energy Institute, told state regulators last week.=20\\nWith summer prices forecast to be $500 to $700 per megawatt-hour, and the=\\n=20\\nstate Department of Water Resources expected to need more than 200,000=20\\nmegawatt-hours a day, it would be easy to rack up billion-dollar power bill=\\ns,=20\\nhe said in an interview.=20\\nThe state spent $90 million on power on a single day last week, but prices=\\n=20\\ndeclined somewhat afterward, according to the governor\\'s press office.=20\\nDavis\\' Cabinet secretary, Susan Kennedy, defended the estimated summertime=\\n=20\\ncost, saying the state has secured enough long-term contracts to limit its=\\n=20\\nexposure to the most expensive spot market prices.=20\\n\"It\\'s almost impossible to say what\\'s plausible and what isn\\'t,\" said Mike=\\n=20\\nFlorio, an attorney with The Utility Reform Network, a Bay Area consumer=20\\ngroup.=20\\nIt makes sense that power costs, overall, would drop as more long-term=20\\ncontracts kick in and the state buys less electricity on the spot market, h=\\ne=20\\nsaid. But many of those contracts are still being negotiated.=20\\n\"What this assumes about contracts that have not been signed is the really=\\n=20\\ninteresting question,\" he said.=20\\nAssemblyman Tony Strickland, R-Thousand Oaks, said the Davis administration=\\n=20\\nhasn\\'t been able to provide assurances that if bonds are sold now, more won=\\n\\'t=20\\nbe needed in the future.=20\\n\"Their assumptions are nothing more than educated guesses,\" Strickland said=\\n.=20\\n\"And the educated guess of the Legislature was that we wouldn\\'t be in the=\\n=20\\npower buying business in the first place.\"=20\\nKennedy conceded that the administration\\'s plan has its limits, and won\\'t=\\n=20\\nprevent the state from experiencing rolling blackouts in the coming months =\\nif=20\\nprices get too high or its assumptions are proved wrong.=20\\n\"The bottom line will be we will either need to borrow a little bit more or=\\n=20\\nwe\\'re going to see more blackouts,\" she said.=20\\n\\nThe Bee\\'s Emily Bazar can be reached at (916) 326-5540 or ebazar@sacbee.com=\\n.=20\\nBee staff writers Carrie Peyton and John Hill contributed to this report.\\n---------------------------------------------------------------------------=\\n---\\n---------------------------------------------\\nPUC seeks to retain PG&E control=20\\nBy Claire Cooper\\nBee Legal Affairs Writer\\n(Published May 1, 2001)=20\\nSAN FRANCISCO -- Warning that California consumers and the state economy=20\\ncould be in grave danger, the state Public Utilities Commission urged a=20\\nfederal bankruptcy judge Monday not to sever the commission\\'s regulatory=20\\ncontrol of Pacific Gas and Electric Co.=20\\nOn April 9, three days after filing for Chapter 11 bankruptcy protection,=\\n=20\\nPG&E petitioned the Bankruptcy Court to block parts of a recent PUC order.=\\n=20\\nPG&E said the provisions conflicted with bankruptcy rules and interfered wi=\\nth=20\\nits legal right to recover skyrocketing wholesale energy coasts.=20\\nThe provisions at issue -- adopted by the PUC on March 27 along with a 30=\\n=20\\npercent rate increase -- imposed new accounting requirements on the=20\\nutilities, but the consequences were potentially dramatic. Depending on the=\\n=20\\nway certain costs are counted, PG&E may or may not be entitled to early=20\\ntermination of an electricity rate freeze adopted by the Legislature five=\\n=20\\nyears ago.=20\\nPG&E said the accounting provisions changed the rules retroactively and=20\\nartificially extended the rate freeze.=20\\nBut the PUC disagreed -- and said the issue is even larger. In a series of=\\n=20\\ndocuments filed Monday, the commission characterized PG&E\\'s petition as \"th=\\ne=20\\nfirst step in (the company\\'s) plan to deregulate itself.\" If PG&E succeeds =\\nin=20\\nstripping California of its power to regulate its electric utilities, the=\\n=20\\ncommission said, \"PG&E may be able to claim an artificial end to the rate=\\n=20\\nfreeze, which could result in drastically higher retail electric rates. The=\\n=20\\nharm to California\\'s consumers and economy could be grave.\"=20\\nThe commission said that the petition should be dismissed on grounds of=20\\n\"sovereign immunity\" -- the state\\'s right not to be sued by private parties=\\n=20\\n-- and because the nation\\'s bankruptcy laws bar interference with the state=\\n\\'s=20\\nexercise of its regulatory powers.=20\\n\"The accounting proposal the commission adopted was illegal before we filed=\\n=20\\nfor Chapter 11,\" PG&E spokesman Ron Low said Monday. \"Now that we are in=20\\nChapter 11, it not only affects our shareholders, it also impacts our=20\\ncreditors.\"=20\\n\\nThe Bee\\'s Claire Cooper can be reached at (415) 551-7701 or=20\\nccooper@sacbee.com.\\n---------------------------------------------------------------------------=\\n---\\n------------------------\\nLegislators propose tax on energy profits=20\\nBy Kevin Yamamura\\nBee Capitol Bureau\\n(Published May 1, 2001)=20\\nWith power producers reaping profits that increased fivefold last year, som=\\ne=20\\nstate lawmakers are pushing a tax on future earnings as the best way to kee=\\np=20\\ngenerators honest.=20\\nCalifornia would recoup 100 percent of power profits deemed unreasonable=20\\nthrough a \"windfall profits tax\" proposed by state Sen. Nell Soto, D-Pomona=\\n.=20\\nHer bill, SB 1x, cleared the Senate Appropriations Committee on Monday on a=\\n=20\\n7-3 vote.=20\\nThe proposal would force generators to give the state any money collected=\\n=20\\nabove a reasonable limit determined by the state Public Utilities Commissio=\\nn.=20\\nThat money probably would be doled out in equal portions to state taxpayers=\\n,=20\\npossibly through income tax returns, though details remain vague.=20\\nThe bill is aimed principally at five out-of-state companies -- AES Corp.,=\\n=20\\nDuke Energy Corp., Dynegy Inc., Mirant and Reliant -- that bought Californi=\\na=20\\npower plants under deregulation and saw profits increase last year at an=20\\naverage of 508 percent, according to Democratic estimates.=20\\n\"What this bill says is, \\'You can\\'t come in and rip us off,\\' \" said Senate=\\n=20\\nPresident Pro Tem John Burton, D-San Francisco.=20\\nCritics said the proposal would only discourage companies from building new=\\n=20\\npower plants in California or producing power when the state needs it most.=\\n=20\\nDuring the worst of California\\'s energy blues, utilities and the state have=\\n=20\\npaid generators and marketers well above 30 cents per kilowatt-hour.=20\\nSoto has suggested an 8 cents a kilowatt-hour cap, meaning that any price=\\n=20\\ncharged above that would be considered unreasonable. If a generator were to=\\n=20\\ncharge 30 cents, for instance, it would have to return 22 cents to the stat=\\ne=20\\nin the form of the new tax.=20\\nAlthough the proposal could have the direct effect of knocking down soaring=\\n=20\\nenergy prices, it would also send a message that the state will not tolerat=\\ne=20\\nprice gouging, some lawmakers said.=20\\n\"We have been royally mistreated,\" said Sen. Jack Scott, D-Altadena, a=20\\nco-author of the bill. \"And we have allowed a great deal of California mone=\\ny=20\\nto leave the state at the expense of ratepayers, taxpayers and businesses.\"=\\n=20\\nBut energy producers challenged the bill, saying it would simply discourage=\\n=20\\ncompanies from building plants in California or from upgrading existing=20\\nfacilities.=20\\nThe tax \"does nothing to solve the fundamental problem in California, and=\\n=20\\nthat\\'s mainly the lack of supply,\" said Richard Wheatley, a spokesman for=\\n=20\\nHouston-based Reliant.=20\\n\"There is no way, given natural-gas prices today, that we could make any=20\\nmoney under the price caps in this bill,\" said Carl London, a lobbyist for=\\n=20\\nInterGen, a Boston-based generator.=20\\nIn turn, the state\\'s businesses would suffer through sustained power=20\\nblackouts because supply would remain low, said Carrie Lee-Coke, general=20\\ncounsel of the California Manufacturers and Technology Association.=20\\n\"There is one simple truth, and that is there is too little energy=20\\nproduction,\" Lee-Coke said, calling Soto\\'s bill the \"wrong medicine\" for=20\\nCalifornia.=20\\nAlthough electricity generated in California would be affected, it is uncle=\\nar=20\\nwhether the state can legally impose restrictions on power from outside the=\\n=20\\nstate.=20\\nRepublicans on Monday opposed the plan, citing disincentives for power=20\\ncompanies to boost supply and resultant blackouts. But the bill needs suppo=\\nrt=20\\nonly from majority Democrats to pass.=20\\n\"The economic reality is that the people cannot afford to be gouged any=20\\nlonger,\" Soto said.=20\\n\\nThe Bee\\'s Kevin Yamamura can be reached at (916) 326-5542 or=20\\nkyamamura@sacbee.com.\\n---------------------------------------------------------------------------=\\n---\\n------------------------\\nDan Walters: Davis finally generates an energy plan, but will it work?\\n\\n\\n(Published May 1, 2001)=20\\nAfter months of issuing buzzwords, sound bites and bold predictions that=20\\nproved wrong, Gov. Gray Davis finally unveiled Monday what aides said was a=\\n=20\\ncomprehensive plan to shepherd California through the energy crisis.=20\\nThe thick compendium of charts, tables and narrative, prepared by a financi=\\nal=20\\nconsulting firm and peddled to legislators and journalists by a squad of=20\\nadministration aides, was designed to bolster Davis\\' case for legislative=\\n=20\\napproval of a $12.5 billion bond issue. About half the money would repay th=\\ne=20\\nstate\\'s beleaguered general fund, which has been drained for power purchase=\\ns,=20\\nand the rest would ease the impact on ratepayers\\' bills for future power=20\\npurchases.=20\\nAdministration officials insisted it is a realistic scheme based on=20\\nreasonable assumptions -- but legislators of both parties remained skeptica=\\nl=20\\nsince the governor\\'s previous assumptions and projections about the crisis=\\n=20\\nhad proved to be uniformly wrong. It remains uncertain, therefore, whether=\\n=20\\nthe bond issue bill that the administration says is vital will win=20\\nlegislative approval this week -- at least in the size Davis is seeking. Ev=\\nen=20\\nDemocrats are wary.=20\\nLegislative analysts zeroed in on a couple of assumptions that are central =\\nto=20\\nthe workability of the plan:=20\\nThat Californians will severely curtail their energy use this summer in=20\\nresponse to supply shortages, a big ad campaign and sharp price increases.=\\n=20\\nThat the state can buy spot market power this summer at rates far below wha=\\nt=20\\nit has been paying and what the power futures market indicates will be the=\\n=20\\nsummer spot price.=20\\nIf either of those two assumptions is off the mark, the state could face=20\\nsevere and prolonged blackouts and/or could go billions of dollars deeper=\\n=20\\ninto debt.=20\\nAdministration aides insisted that their assumptions are reasonable, based =\\non=20\\nwhat is known now about power consumption habits and the availability and=\\n=20\\nprice of power for the summer, when demand usually rises sharply to run air=\\n=20\\nconditioning.=20\\n\"This is not a guess,\" Susan Kennedy, a top Davis aide, told reporters in=\\n=20\\nresponse to sharp questioning about the plan\\'s projection of making spot=20\\nmarket power purchases during the summer at an average of $195 per=20\\nmegawatt-hour, 40 percent less than what the state is paying now. The curre=\\nnt=20\\nfutures market price for California-delivered power in July and August is=\\n=20\\nabout $500 per megawatt-hour, but administration officials insist they have=\\n=20\\ncontracted for much of the summer peak load at lower costs, leaving less=20\\nexposure to the spot market.=20\\nIf it all works as Davis hopes, customers of the three major utilities --=\\n=20\\nabout 70 percent of Californians -- will see a sharp boost in their rates=\\n=20\\nsoon, and that will be enough to finance the $20 billion in power purchase=\\n=20\\ndebts incurred by the utilities and the state so far, plus pay for future=\\n=20\\npurchases.=20\\nThe bonds would pick up the costs not covered by the raised rates in the=20\\nearly years of the scheme, then be paid off later as rates remain high but=\\n=20\\npower costs go down. A sharp decline in power costs later in the decade is=\\n=20\\nanother major assumption in Davis\\' plan, based on still another assumption=\\n=20\\nthat massive generating facilities will be built within a few years.=20\\nThe administration\\'s new set of assumptions replaces suppositions that prov=\\ned=20\\nto be very wrong, such as Davis\\' oft-expressed belief that power rates woul=\\nd=20\\nnot have to be raised. And the new scheme also includes elements that Davis=\\n=20\\nhad rejected last year, such as long-term contracting for power and the=20\\nability of rate increases to drive down consumption.=20\\nWill it work? Will ratepayers, taxpayers, voters, financiers, legislators a=\\nnd=20\\nothers be persuaded that Davis finally has his act together and that his=20\\nscheme is workable and fair? And will consumer activists be placated by a=\\n=20\\nplan that assumes ratepayers will shoulder the utilities\\' massive debts? St=\\nay=20\\ntuned. This crisis is still a long way from being a footnote to California=\\n=20\\nhistory.=20\\n\\nThe Bee\\'s Dan Walters can be reached at (916) 321-1195 or dwalters@sacbee.c=\\nom\\n.\\n---------------------------------------------------------------------------=\\n---\\n------------------------\\nSoaring energy bills hurt eateries: Many restaurants in capital area, despi=\\nte=20\\ngood patronage, expect to raise menu prices.=20\\nBy Cathleen Ferraro\\nBee Staff Writer\\n(Published May 1, 2001)=20\\nSo far, it appears to be the economic slump that wasn\\'t.=20\\nAcross the region, most restaurateurs say they aren\\'t seeing patrons pull=\\n=20\\nback on how often they eat out or what they order. That\\'s significant becau=\\nse=20\\ndining out is one of the first luxuries people typically eliminate when tim=\\nes=20\\nget rough -- or even appear to be slowing down.=20\\nAt the same time, restaurant owners who say business is good remain anxious=\\n=20\\nabout the relentless energy crisis. They complain about big utility bills=\\n=20\\nthat promise to stay bloated through the summer and about higher operating=\\n=20\\ncosts from vendors now passing along their own inflated energy expenses.=20\\nThat all adds up to pricier menus.=20\\n\"I hoped not to increase prices, but there\\'s no slack when basic utilities=\\n=20\\nare so high now,\" said Barbara Mikacich, owner of Sacramento\\'s Andiamo=20\\nrestaurant, which expects to come out with a new menu in June.=20\\nWith a few exceptions, local bakery cafes, pizza shops, swanky steakhouses=\\n=20\\nand more are about to raise food prices while trying to cut back on energy=\\n=20\\nuse. Restaurants are taking such steps because they\\'re bracing for more=20\\nenergy problems and fear that the economic downturn -- while not obvious no=\\nw=20\\n-- could be around the corner.=20\\n\"We\\'re watching all the little things,\" said Mark Platt, operating partner =\\nat=20\\nP.F. Chang\\'s China Bistro in Roseville where sales are still strong. \"But=\\n=20\\nthere\\'s no dramatic way for us to save on our use of gas here. We have to u=\\nse=20\\nwoks.\"=20\\nNo menu price hikes or staff layoffs are in the wind at P.F. Chang\\'s, Platt=\\n=20\\nsaid. But the popular restaurant has changed some of its routine tasks to=\\n=20\\noffset gas and electric utility bills that have climbed from a combined=20\\n$12,500 a month when it opened in September to $16,000 now.=20\\nSo each morning, cooks at P.F. Chang\\'s no longer spend 20 minutes over=20\\ngas-fired flames removing carbon from the bottom of nine main woks. Now the=\\ny=20\\nget the job done in five minutes.=20\\nMeanwhile, the restaurant\\'s timers have been adjusted so that lights and ai=\\nr=20\\nconditioners turn on later in the day and shut off sooner.=20\\nElsewhere in Roseville, Carvers Steaks & Chops -- traditionally a lunchtime=\\n=20\\nhot spot with developers, bankers and other professionals -- stopped using=\\n=20\\nits five gas fireplaces.=20\\n\"We used to run them from 11 a.m. to 11 p.m., six days a week,\" said genera=\\nl=20\\nmanager Gary Kowalsky. \"But we quit lighting them because they\\'re strictly=\\n=20\\nfor ambience.\"=20\\nPrompting that change is Carvers\\' combined utility bill. It used to run=20\\n$6,000 a month but has jumped to $10,000.=20\\nNo layoffs are planned at Carvers. Menu price hikes took effect six weeks a=\\ngo=20\\nwhen the restaurant added 50 cents to $1 to the prices for steak dishes.=20\\nAt Casey\\'s Bakery & Cafe on Sacramento\\'s Folsom Boulevard, the gas bill has=\\n=20\\ndoubled since February, said owner Casey Hayden. So instead of running=20\\nconvection ovens \"all day long,\" as he put it, the shop organizes jobs now =\\nso=20\\nthat more pastries and desserts bake at the same time, reducing use of the=\\n=20\\ncafe\\'s gas ovens.=20\\nIn mid-March, Casey\\'s reduced its operating hours from six days a week down=\\n=20\\nto just three, Friday through Sunday, in response to the energy crunch,=20\\nstagnant walk-in business during the week and an increase in wholesale=20\\naccounts.=20\\nSacramento\\'s Cafe Melange at 24th Street and Second Avenue also slashed hou=\\nrs=20\\ndue to higher utility costs, closing now at 7 p.m. instead of 11 p.m. Owner=\\n=20\\nMarrie Morris said she may raise prices in the next month or two.=20\\nHeating and cooling the large warehouse environment of Fox & Goose Public=\\n=20\\nHouse on R Street has always been challenging. But now the midtown restaura=\\nnt=20\\nis facing a Pacific Gas and Electric bill that topped $1,200 in March -- or=\\n=20\\ndouble the amount from a year earlier.=20\\nThat strain on top of higher produce, dairy and labor costs has prompted Fo=\\nx=20\\n& Goose to print a new menu due out in June. It will include some of the mo=\\nst=20\\npopular items from the now-closed Greta\\'s Cafe -- previously operated by Fo=\\nx=20\\n& Goose owner Allyson Dalton -- and several higher priced items.=20\\n\"About 50 percent of the menu is going up, but nominally, 2 to 3 percent,\"=\\n=20\\nsaid Dalton.=20\\nSacramento\\'s Original Pete\\'s pizza chain, which is slated to open a Davis=\\n=20\\noutlet, its sixth, this week, cut off its janitorial service. The cleaning=\\n=20\\nduties will be handled by staffers. The restaurant also turned off many=20\\nlights and now runs just one oven instead of two during slow times. It, too=\\n,=20\\nplans to raise menu prices soon.=20\\n\"We will take a very modest increase across the board, about 3 percent,\" sa=\\nid=20\\nfounder Steve Presson, who also noted \"early warning signs\" of an economic=\\n=20\\nslowdown, including more customers writing bad checks, credit card numbers=\\n=20\\nbeing denied and the use of fraudulent cards.=20\\nNow with the threat of rolling summer blackouts, restaurateurs are even=20\\nedgier because such power outages might discourage dining out, typically mo=\\nre=20\\npopular during warm weather and extra daylight hours.=20\\nA blackout at Carvers, the Roseville steakhouse, for example, would mean a=\\n=20\\nshutdown of its gas valves and computer-operated cash register system, said=\\n=20\\nmanager Kowalsky.=20\\n\"I hope there\\'s some resolution to all of this,\" he said. \"I can\\'t imagine=\\n=20\\nanything worse than a building full of hungry people who you can\\'t serve.\"\\n---------------------------------------------------------------------------=\\n---\\n------------------------\\nBee Editorial\\nEmpowering the public\\nObstacles keep cities out of energy\\n\\n\\n(Published April 30, 2001)\\n\\nIn a city the size of Davis, how many citizens does it take to kill an=20\\ninitiative to create a public power agency and remove PG&E as the supplier =\\nof=20\\nelectricity? Only three. That\\'s because, under state law, a five-member=20\\ngovernment agency, the county Local Agency Formation Commission (LAFCO),=20\\nwhich operates largely in obscurity, can reject the proposal before it even=\\n=20\\ngets to the ballot box.=20\\nOver the past several decades, laws such as this have made it harder for=20\\ncommunities to leave the domain of the investor-owned utilities and turn=20\\npower into a public enterprise. Sacramento\\'s long struggle to create its=20\\nmunicipal utility district (SMUD) began in the 1920s. It took two decades o=\\nf=20\\nfighting a resistant PG&E for SMUD to get into the distribution business. I=\\nf=20\\ntoday\\'s laws were in effect back then, Sacramentans might still be fighting=\\n,=20\\nor have given up long ago.=20\\nAmid the pile of energy-related legislation in the capitol is one that seek=\\ns=20\\nto remove these roadblocks to public power. At the heart of SB 23x by Sens.=\\n=20\\nNell Soto of Pomona and John Burton of San Francisco are two valuable=20\\nreforms. If the private utilities don\\'t manage to kill this bill, the futur=\\ne=20\\nwill provide interesting choices for communities that are beginning to asse=\\nss=20\\ntheir energy options.=20\\nThe first reform in SB 23x would be to prevent LAFCOs from blocking electio=\\nns=20\\nto decide whether to create a public power agency. LAFCOs now hold this vet=\\no=20\\npower. This is how residents in and around the city of Davis were prevented=\\n=20\\nlast year from voting on a public power initiative on the ballot. They had=\\n=20\\nthousands of signatures on their initiative petitions. But they didn\\'t have=\\n=20\\nthree votes on LAFCO. SB 23x would give LAFCO an advisory role, so that=20\\nvoters can take their findings into consideration.=20\\nThe second reform would change what happens when a newly formed public powe=\\nr=20\\nagency decides to purchase the local electric distribution lines from PG&E.=\\n A=20\\nlaw passed in the early 1990s gave PG&E considerable leverage in court to=\\n=20\\nchallenge whether it\\'s necessary for the municipal utility to buy its wires=\\n.=20\\nPG&E seeks to substitute its will for that of the voters. SB 23x returns to=\\n=20\\nthe municipal utility the legal presumption that it can take over the lines=\\n,=20\\nleaving the courts to settle on the appropriate price. This is the proper=\\n=20\\nrole of the courts.=20\\nA new municipal utility doesn\\'t necessarily have to buy the lines and get=\\n=20\\ninto the distribution business. It may simply buy power in bulk and pass on=\\n=20\\nthe savings to its citizens. The first step is for communities to assess=20\\ntheir options. Davis residents are once again mulling secession from PG&E, =\\nas=20\\nare activists in Fresno, communities within Orange County and San Francisco=\\n.=20\\nIt\\'s too soon to say whether these seeds of a modern-day public power=20\\nmovement ultimately come to fruition. Yet the mere threat of secession acts=\\n=20\\nas an appropriate check against the investor-owned utilities. Communities a=\\nre=20\\nnot their hostages. SB 23x returns to communities the power of choice.=20\\n---------------------------------------------------------------------------=\\n---\\n------------------------\\n\\nDaniel Weintraub: An energy trader says it\\'s time to limit profits\\n\\n\\n(Published May 1, 2001)=20\\n\\nIn a sea of angry finger-pointing, name-calling and ridicule, Keith Bailey=\\n=20\\nstands out as an island of calm, a lonely voice of reason who understands=\\n=20\\nthat a company\\'s long-term self-interest is about more than how much money =\\nit=20\\ncan make today.=20\\nMost Californians probably have never heard of Bailey, a Kansas City native=\\n=20\\nand chief executive officer of Tulsa-based Williams Cos. -- a private energ=\\ny=20\\ntrader that has profited handsomely from the state\\'s recent miseries. But=\\n=20\\nGolden Staters from Gov. Gray Davis on down ought to embrace this Oklahoma=\\n=20\\nresident. He might be the man who saves our future.=20\\nBailey is proposing that federal electricity regulators place temporary cap=\\ns=20\\non the profits that he and his competitors may earn between now and fall=20\\n2002, when supply and demand will be closer to balance and sanity might=20\\nreturn to the West\\'s energy market.=20\\nHis rationale is this: To save California\\'s private electricity market, new=\\n=20\\npower plants are desperately needed. But not enough of those plants will be=\\n=20\\nbuilt if generators are not confident they will be paid for the product the=\\ny=20\\nalready are providing.=20\\nCalifornians, though, don\\'t want to promise payment without knowing they wi=\\nll=20\\nbe able to afford the bill. Short-term caps on profits, Bailey believes, ar=\\ne=20\\nthe best way to ease the state\\'s fears, get everybody paid and move on to a=\\n=20\\nsystem that works -- for suppliers and customers.=20\\n\"One of the things we are hoping to do with our proposal is create somethin=\\ng=20\\nthat California can look at and say, \\'So long as prices are determined on=\\n=20\\nthis basis, we\\'re prepared to pay,\\' \" Bailey said in an interview. \"This is=\\n a=20\\nmechanism that lets the state say, \\'We\\'re not signing a blank check. We don=\\n\\'t=20\\nknow what the price is going to be, but we do know how it will be=20\\ndetermined.\\' \"=20\\nBailey\\'s proposal is different from the limited price caps approved last we=\\nek=20\\nby the Federal Energy Regulatory Commission -- and far better for Californi=\\na.=20\\nThe federal caps would come with all sorts of strings attached, would kick =\\nin=20\\nonly during emergencies and would be focused on prices, not profits. Bailey=\\n=20\\nis proposing that all power sold from now through summer 2002 be priced at=\\n=20\\nthe cost of producing it, plus a profit of 15 percent. That\\'s more than a=\\n=20\\nregulated utility would make but less than most private companies seek, and=\\n=20\\nfar less than electricity providers have been earning of late.=20\\nCynics might note that Bailey is proposing caps only after his company has=\\n=20\\nsqueezed all it can from California. The firm reported last week that profi=\\nts=20\\ndoubled in the first quarter of 2001 over a year ago, with pretax income fr=\\nom=20\\nits energy services nearly tripling, to $600 million. Much of the 4,000=20\\nmegawatts of electricity that Williams controls in California is already=20\\ncommitted in long-term contracts -- so Bailey has relatively little to lose=\\n=20\\nif what remains can only be sold at controlled prices.=20\\nBut here is at least one measure of Bailey\\'s sincerity: His company still i=\\ns=20\\nowed $252 million for electricity it has provided California. And he\\'s not=\\n=20\\ninsisting that the debt be paid before his proposed profit caps take effect=\\n,=20\\nor even as part of the deal.=20\\n\"Clearly there is a past that has to be dealt with,\" he said. \"Whether that=\\n=20\\nultimately gets dealt with in bankruptcy court or negotiations with the=20\\nparties, it will sort itself out one way or another. Perhaps if we find=20\\nprices that work going forward, that could be used as a framework.\"=20\\nBailey, an engineer by training, says no one should mistake his proposal fo=\\nr=20\\na lack of confidence in free markets. He still firmly believes that a=20\\nderegulated energy market would be best for California and the rest of the=\\n=20\\nWest in the long term. He just wants to make sure there is a long term.=20\\nBailey is watching, and listening, to California. He hears talk of seizing=\\n=20\\npower plants, of turning to a public power system. He describes these ideas=\\n=20\\nas Draconian and says they would not solve the problem. But he also knows=\\n=20\\nthere is a limit to what Californians -- and their elected leaders -- can=\\n=20\\ntake.=20\\n\"I recognize we live in a democracy, and lots of things could happen,\" he=\\n=20\\nsaid.=20\\nWhat he is proposing, in effect, is a safety valve. He wants to limit the=\\n=20\\nmarket in order to save it.=20\\n\"This is an extraordinary situation,\" Bailey said. \"We need to help create=\\n=20\\nsome breathing room. ... We all have to work together, and this is the righ=\\nt=20\\nthing to do.\"=20\\nBailey\\'s proposal, made at a conference of energy producers and traders in=\\n=20\\nOklahoma last week, was almost lost amid all the focus on the price caps=20\\napproved in Washington. But there is still time to give the idea the=20\\nattention it deserves. Properly nourished, it could be the breakthrough tha=\\nt=20\\nsolves this crisis. Davis and others in California should seize the moment.=\\n=20\\n\\nThe Bee\\'s Daniel Weintraub can be reached at (916) 321-1914 or at=20\\ndweintraub@sacbee.com.\\n---------------------------------------------------------------------------=\\n---\\n-----------------\\n\\n\\nPower Companies Step Up Lobbying=20\\n\\n\\nBy JULIE TAMAKI and MIGUEL BUSTILLO, Times Staff Writers=20\\n\\n?????SACRAMENTO--As California\\'s electricity crisis exploded this year, so=\\n=20\\ndid lobbying by energy companies.\\n?????Pacific Gas & Electric Co., which has filed for bankruptcy protection,=\\n=20\\nspent $622,000 lobbying lawmakers and Gov. Gray Davis\\' administration durin=\\ng=20\\nthe first three months of the year, according to reports filed with the sta=\\nte=20\\nMonday.\\n?????The reports show that seven energy companies spent more than $1 millio=\\nn=20\\non lobbying as they ramped up their response to the crisis. Houston-based=\\n=20\\npower producer Reliant Energy, for example, spent nearly $100,000 on lobbyi=\\nng=20\\nfirms through March 31--almost four times the $25,523 it spent during all o=\\nf=20\\nlast year.\\n?????The documents show that lobbyists for the firms were hard at work tryi=\\nng=20\\nto influence a horde of energy-related measures, from legislation to set ne=\\nw=20\\nrates for small power producers to a bill that put California in the=20\\nelectricity purchasing business.\\n?????PG&E spokesman Ron Low said his company racked up hundreds of thousand=\\ns=20\\nof dollars in expenses in its unsuccessful effort to reach an agreement wit=\\nh=20\\nthe state on the purchase of its transmission lines. An unprecedented numbe=\\nr=20\\nof energy-related bills added to PG&E\\'s need to hire lobbyists, Low said.\\n?????\"During the first quarter this year, more than 350 bills were introduc=\\ned=20\\nin the Legislature that deal with the energy industry,\" Low said. \"Almost a=\\nll=20\\nthose bills affected our customers and required staff analysis, testimony=\\n=20\\nbefore legislative committees, and questions to be answered for legislators=\\n=20\\nand their staff.\"\\n?????Sempra Energy, the parent firm of San Diego Gas & Electric, spent=20\\n$192,000 lobbying lawmakers in Sacramento and regulators at the Public=20\\nUtilities Commission, roughly half of what it spent all of last year.\\n?????The utility also made campaign contributions to political parties and=\\n=20\\nSacramento politicians, giving $250 to Lt. Gov. Cruz Bustamante, $750 each =\\nto=20\\nAssembly members Keith Richman (R-Northridge) and George Runner Jr.=20\\n(R-Lancaster) and $1,000 to Sen. Kevin Murray (D-Culver City), among others=\\n.\\n?????A lobbying report for the parent company of Southern California Edison=\\n=20\\nwas not available Monday evening. The reports were required to be filed bot=\\nh=20\\nelectronically and by mail, postmarked by midnight Monday.\\n?????Electricity merchants and generators also boosted their spending. El=\\n=20\\nPaso Energy Corp., which owns one of the main natural gas pipelines into=20\\nCalifornia, spent nearly $22,000. It reported lobbying Davis\\' office and th=\\ne=20\\nCalifornia Energy Commission.\\n?????Lobbyists hired by the company, according to the report, also spent $6=\\n07=20\\non dinners held in January and February with five lawmakers and an Assembly=\\n=20\\nstaff member to discuss energy-related issues.\\n?????Assemblyman Roderick Wright, the Los Angeles Democrat who chairs the=\\n=20\\nAssembly\\'s Utilities and Commerce Committee, dined with a lobbyist=20\\nrepresenting El Paso on Feb. 21 at the Esquire Grill, a Sacramento=20\\nrestaurant, according to the report. Assemblyman Joe Canciamilla=20\\n(D-Pittsburg), who heads a subcommittee exploring natural gas issues, also=\\n=20\\nate at the Esquire on El Paso\\'s tab that night.\\n?????The Houston-based power firm Dynegy Inc. spent $32,261 on lobbying=20\\nthrough March 31, compared to $24,000 during all of last year. Another=20\\nHouston energy company, electricity marketer Enron Corp., spent $66,994.\\n?????Duke Energy is among the firms paying top dollar for Sacramento=20\\nlobbyists as it seeks to build power plants in California to capitalize on=\\n=20\\nthe state\\'s energy shortage. The company reported spending more than $62,00=\\n0=20\\non lobbying through March 31--more than it spent all of last year.\\n?????\"We would be remiss in not ensuring that our voice is heard in=20\\nSacramento,\" said Duke Energy spokesman Tom Williams, adding that his firm\\'=\\ns=20\\nproposed Moss Landing power plant would provide \"30% of the new generation=\\n=20\\n[of electricity] for the whole state of California in 2002.\"\\n?????\"They\\'re [lobbyists] not speaking for us, he added. \"They\\'re helping u=\\ns=20\\nknow exactly who to speak with to make sure we\\'re appropriately heard--and=\\n=20\\nfrankly, to ensure that we can get our power plants built.\"\\n---=20\\n?????Times staff writer Nancy Vogel contributed to this story.\\n\\nCopyright 2001 Los Angeles Times=20\\n---------------------------------------------------------------------------=\\n---\\n-----------------------------------\\n\\n\\nPower Marketer Ordered by FERC to Refund $8 Million=20\\nEnergy: Williams Energy agrees to pay but admits no wrongdoing in taking=20\\nplants offline.=20\\n\\nBy NANCY VOGEL and ROBERT J. LOPEZ, Times Staff Writers=20\\n\\n?????In the first action of its kind during the California energy crisis,=\\n=20\\nfederal regulators have ordered an out-of-state electricity marketer to=20\\nrefund $8 million in connection with allegations that plants were improperl=\\ny=20\\nshut down to hike power prices.\\n?????Tulsa-based Williams Energy Marketing & Trading has agreed to pay the=\\n=20\\nrefund under an order issued Monday by the Federal Energy Regulatory=20\\nCommission.\\n?????The firm, which admitted no wrongdoing in the settlement agreement, wa=\\ns=20\\nprobed for allegedly forcing utilities to pay higher prices by taking key=\\n=20\\ngenerating units in Long Beach and Huntington Beach offline in April and Ma=\\ny=20\\nof last year.=20\\n?????Paula Hall-Collins, a Williams spokeswoman, said her company settled t=\\no=20\\nend the matter. She said that the company would have been exonerated had it=\\n=20\\npursued the case.\\n?????\"We decided to go ahead with the settlement in order to put it behind =\\nus=20\\nand move forward to more productive matters concerning California power=20\\nissues,\" she said.\\n?????While federal investigations of alleged overcharges by several firms a=\\nre=20\\ncontinuing, Monday\\'s order marked the first time a major power merchant has=\\n=20\\nbeen forced to pay back earnings since California forged into electricity=\\n=20\\nderegulation in 1996.\\n?????Critics and the state\\'s independent grid operator have accused power=\\n=20\\nsellers of unjustly ratcheting up electricity prices in part by taking plan=\\nts=20\\noffline.\\n?????In the case of Williams, the federal energy panel investigated the=20\\nshutdown of power plants that were obligated to provide electricity to the=\\n=20\\nstate.\\n?????Desperate for power, California\\'s grid operator had to turn to another=\\n=20\\nprovider and pay as much $750 per megawatt-hour--more than 10 times the=20\\nnormal price. The $8-million refund will go back to the grid operator.\\n?????Williams markets power produced at California plants owned by AES Corp=\\n.=20\\nof Arlington, Va.\\n?????Federal investigators probed the actions of both Williams and AES, but=\\n=20\\nthe refund order affects only Williams. Initially, FERC had sought a refund=\\n=20\\nof about $10.8 million, but settled for $8 million in the compromise=20\\nagreement.=20\\n?????AES spokesman Aaron Thomas said the power plants in question were shut=\\n=20\\ndown because of mechanical problems. He noted that his firm derived no prof=\\nit=20\\nfrom the replacement power sold by Williams.\\n?????\"We literally get paid to convert Williams\\' gas into Williams\\'=20\\nelectricity, which they then sell into the marketplace,\" Thomas said. \"We\\'r=\\ne=20\\nnot paying any fines, and we didn\\'t do anything wrong.\"\\n---=20\\n?????Times staff writers Rich Connell and Richard Simon contributed to this=\\n=20\\nstory.\\n\\nCopyright 2001 Los Angeles Times=20\\n---------------------------------------------------------------------------=\\n---\\n-----------------------------------------\\n\\n\\nDavis Turns to Bankruptcy Court for Help in Plan to Buy Power Grid=20\\nUtility: He seeks support from panel representing creditors of PG&E. The fi=\\nrm=20\\nhas rebuffed state\\'s offers.=20\\n\\nBy DAN MORAIN and RICHARD SIMON, Times Staff Writers=20\\n\\n?????SAN FRANCISCO--Foiled in his first attempt to buy Pacific Gas &=20\\nElectric\\'s transmission grid, Gov. Gray Davis said Monday that he has tried=\\n a=20\\nnew tactic: bypassing the company and attempting to build support for the=\\n=20\\ndeal in Bankruptcy Court.\\n?????Davis\\' plan to buy the grid appeared to have ended disastrously last=\\n=20\\nmonth when the giant utility filed for bankruptcy protection. But Davis sai=\\nd=20\\nhis advisors now are trying to sell the idea to a committee of PG&E credito=\\nrs=20\\nthat hold a stake in the utility\\'s Chapter 11 proceeding.\\n?????The creditors committee, representing the hundreds of companies owed=\\n=20\\nmoney by PG&E, does not by itself hold the power to accept or reject the=20\\ndeal, which Davis sees as a key to his plan to restructure the state\\'s=20\\ncrippled electricity system. But the committee will play an important role =\\nin=20\\nany reorganization plan that is ultimately hammered out in U.S. Bankruptcy=\\n=20\\nCourt.\\n?????Given that power, Davis sent advisors to brief the committee last=20\\nWednesday. The advisors told the committee about the deal they struck with=\\n=20\\nSouthern California Edison to buy its share of the statewide transmission=\\n=20\\ngrid, and the similar deal that PG&E rejected.\\n?????\"I\\'m not saying they embraced it entirely,\" Davis said, after speaking=\\n=20\\nat a conference of technology entrepreneurs put on by the J.P. Morgan=20\\ninvestment bank. \"But they liked parts of it, asked good questions, and I=\\n=20\\nthought it was a good beginning.\"\\n?????Paul Aronzon, the lead lawyer for the creditors committee, stressed th=\\nat=20\\nthe meeting with Davis\\' advisors would not lead directly to a deal. The=20\\ngovernor\\'s representatives \"did not come out and say, \\'Would you guys sell =\\nus=20\\nthe transmission grid?\\' \" he said. Rather, Aronzon said, the advisors simpl=\\ny=20\\nbrought the creditors up to speed on what Davis has put on the table.\\n?????Davis has offered more than $7 billion to buy the transmission systems=\\n=20\\nof Edison, San Diego Gas & Electric and PG&E. So far, only Edison has=20\\naccepted the deal. The cash infusion would help the utilities restructure=\\n=20\\ntheir debts, and ultimately relieve the state of the need to continue buyin=\\ng=20\\nelectricity on their behalf.\\n?????The Davis administration made public Monday its most detailed breakdow=\\nn=20\\nyet on the costs it expects to incur purchasing electricity over the next=\\n=20\\nyears.\\n?????However, the extra information failed to satisfy Republican lawmakers,=\\n=20\\nwho are holding up legislation needed to repay the state budget for the=20\\nbillions already spent on electricity.\\n?????California will spend $15 billion buying power this year, according to=\\n=20\\nprojections by Davis\\' advisors.\\n?????But that total will drop to $9 billion next year and $7 billion the ne=\\nxt=20\\nas long-term electricity contracts, energy conservation efforts and new pow=\\ner=20\\nsupplies combine to lower the state\\'s costs.\\n?????With money from higher electric rates and a planned $12.5-billion bond=\\n,=20\\nthe state should be able to cover the costs of power and operate at a surpl=\\nus=20\\nstarting in November 2002, the administration projected.\\n?????Several Republicans took note of the date: It is the month of the 2002=\\n=20\\ngubernatorial election, when Davis is expected to seek a second term.\\n?????The figures were based on a dizzying number of assumptions about the=\\n=20\\nstate\\'s energy future. The projections assume, for example, that California=\\nns=20\\nwill reduce energy consumption by 7%, and that 90% of the state\\'s alternati=\\nve=20\\nenergy producers will soon generate electricity again. Now only about 65% a=\\nre=20\\nonline.\\n?????Davis administration officials defended the figures, saying that they=\\n=20\\nwere conservative.\\n?????The reaction to the figures reflects a growing rift between Democrats=\\n=20\\nand Republicans over how best to solve the state\\'s problems. Efforts have=\\n=20\\nbeen lurching unsteadily on several fronts, including the courts, the state=\\n=20\\nLegislature and Congress, with considerable political head-butting taking=\\n=20\\nplace in the last two.\\n?????In Washington today, a key congressional panel is expected to take up=\\n=20\\nemergency legislation intended to help California, although Davis and other=\\n=20\\nDemocrats have criticized the effort as useless.\\n?????The bill\\'s 19 provisions would, among other things, provide federal ai=\\nd=20\\nto relieve a bottleneck in the state\\'s transmission system, permit governor=\\ns=20\\nto obtain temporary waivers of environmental rules to boost power supplies,=\\n=20\\nand direct federal disaster officials to help California prepare for=20\\nblackouts.\\n?????A spokesman for Davis said the Republican-drafted legislation offers \"=\\na=20\\nlot of things we don\\'t need, and fails to address the one thing we do need,=\\n\"=20\\nnamely firm price controls on wholesale electricity sales.\\n?????Democrats and Republicans have strong, fundamental disagreements about=\\n=20\\nhow best to solve the crisis, with Democrats supporting price controls, if=\\n=20\\nonly temporarily, and many Republicans, including President Bush, opposed t=\\no=20\\ntampering with the market.\\n?????Several Democrats who attended a White House ceremony Monday to mark=\\n=20\\nBush\\'s first 100 days in office spoke briefly to the president about the=20\\nenergy situation.\\n?????\"He was not very sympathetic,\" said Rep. Bob Filner (D-San Diego), an=\\n=20\\nadvocate of price controls. \"They have their minds pretty well made up.\"\\n?????In one effort to seize the initiative, a divided state Senate=20\\nAppropriations Committee approved a bill Monday that would impose a windfal=\\nl=20\\nprofits tax on electricity sellers who gouge California consumers. Revenue=\\n=20\\nfrom the tax would flow back to Californians in the form of a credit on the=\\nir=20\\nstate income taxes, starting next April 15.\\n?????\"Our backs are to the wall,\" said one sponsor of the bill, Sen. Jack=\\n=20\\nScott (D-Altadena). \"We believe that this is one time when we can stand up =\\nto=20\\nan avaricious energy generator and say, \\'No more.\\' \"\\n?????On a 7-3 vote, Democrats on the committee voted for the bill, SB1X, an=\\nd=20\\nRepublicans lined up against it. The measure moved to the Senate floor, whe=\\nre=20\\nit will require only a simple majority of 21 votes and is expected to pass.\\n?????Davis has said he is open to signing a windfall profits bill, but he h=\\nas=20\\nnot publicly lobbied for its passage.\\n?????Also Monday, legislation was introduced in the Assembly to bolster=20\\nnatural gas supplies in the state. Tight supplies have led to soaring costs=\\n=20\\nfor natural gas, the fuel most commonly used to generate electricity in=20\\nCalifornia.\\n---=20\\n?????Morain reported from San Francisco and Simon from Washington. Times=20\\nstaff writers Miguel Bustillo, Carl Ingram and Julie Tamaki in Sacramento,=\\n=20\\nTim Reiterman in San Francisco and Mitchell Landsberg in Los Angeles=20\\ncontributed to this story.\\n\\n---------------------------------------------------------------------------=\\n---\\n----------------------------------------------\\n\\nFeds want surcharge to pay utilities\\' debts=20\\nTHE PLAN: Additional rate boost likely, cash would go to power suppliers=20\\nCarolyn Said, Chronicle Staff Writer\\nTuesday, May 1, 2001=20\\n,2001 San Francisco Chronicle=20\\nURL:=20\\nhttp://www.sfgate.com/cgi-bin/article.cgi?file=3D/c/a/2001/05/01/MN9985.DTL=\\n=20\\nFederal energy regulators have proposed a surcharge on wholesale electricit=\\ny=20\\nsales in California to compensate generating companies, angering state=20\\nofficials who say the idea amounts to gouging consumers.=20\\nThe Federal Energy Regulatory Commission suggested collecting the money to=\\n=20\\nreimburse electricity suppliers who have debts from Pacific Gas and Electri=\\nc=20\\nCo., Southern California Edison and San Diego Gas & Electric Co. Power=20\\ncompanies accrued some $6 billion in unpaid bills from California\\'s=20\\nstruggling utilities in late 2000 and early this year, until the state=20\\nstepped in to take over the purchasing of power.=20\\n\"Under the pretense of helping California, (FERC) is proposing to steal=20\\nadditional money from California ratepayers to pad the pockets of the greed=\\ny=20\\nenergy companies,\" Gov. Gray Davis said in a statement. \"FERC does not care=\\n=20\\none wit about the ratepayer. Their plan is a total capitulation to the ener=\\ngy=20\\ncompanies.\"=20\\nSen. Dianne Feinstein, D-Calif., who has been an outspoken critic of FERC\\'s=\\n=20\\npolicies in California, said the surcharge would \"ensure that power=20\\ngenerators get paid fully for their price gouging. That is outrageous and=\\n=20\\nwill further alienate Californians.\"=20\\nThe surcharge presumably would be levied on the California Department of=20\\nWater Resources, which, as the state\\'s purchasing agent, has already spent=\\n=20\\nmore than $5 billion on power since January. The DWR\\'s costs, in turn, are=\\n=20\\nlikely to be borne by California\\'s consumers and taxpayers.=20\\nFERC would require the California Independent System Operator, which runs t=\\nhe=20\\nstate\\'s power grid, to collect the surcharge. But state regulators could=20\\nchallenge the surcharge.=20\\n\"We have 30 days to comment to FERC and are considering our options,\" said=\\n=20\\nSean Gallagher, state counsel at the California Public Utilities Commission=\\n.=20\\n\"If (FERC\\'s) concern is public policy and maintaining just and reasonable=\\n=20\\nprices for consumers, I don\\'t quite understand why they would get into the=\\n=20\\nmiddle of a legal wrangle about past bills\\' getting paid,\" said Severin=20\\nBorenstein, director of the University of California Energy Institute in=20\\nBerkeley. \"It is true the firms would like to get paid. I\\'m not sure what=\\n=20\\nFERC has to do with helping them collect their money.\"=20\\nA \\'GOUGING TAX\\'\\nConsumer advocates characterized the surcharge as a \"gouging tax\" that=20\\nunderscores the Bush administration\\'s close ties to energy firms, many of=\\n=20\\nwhich are based in President Bush\\'s home state of Texas.=20\\n\"This is evidence that FERC and the administration are more interested in=\\n=20\\nprotecting the energy industry than the consumers or taxpayers of=20\\nCalifornia,\" said Doug Heller, a consumer advocate with the Los Angeles-bas=\\ned=20\\nFoundation for Taxpayer and Consumer Rights. \"It\\'s back-billing us to pay=\\n=20\\nprices that were unjust and unreasonable per the FERC\\'s own analysis.\"=20\\nFERC\\'s Curt Hebert, a Mississippi Republican whom President Bush appointed=\\n=20\\nchairman of the commission, was behind the surcharge proposal, which he tol=\\nd=20\\nthe Wall Street Journal was a way \"to stabilize the market.\" Hebert did not=\\n=20\\nreturn calls for comment.=20\\nThe surcharge was proposed in FERC\\'s 39-page \"mitigation\" plan to alleviate=\\n=20\\nwholesale electricity prices in California during power emergencies; the pl=\\nan=20\\nwas released last week. FERC said it would accept public comment on the=20\\nproposal for 30 days, after which it would decide whether to implement it.=\\n=20\\nCOMPLICATED ISSUES\\nEven the power industry, the presumptive beneficiary of the surcharge, did=\\n=20\\nnot express whole-hearted support for it.=20\\n\"I\\'m glad they brought it up,\" said Gary Ackerman, executive director of th=\\ne=20\\nWestern Power Trading Forum, which represents all major buyers and sellers =\\nof=20\\nwholesale electricity in California. \"But it skirts the issue of what\\'s sta=\\nte=20\\nregulated and what\\'s federally regulated. I\\'m not sure how federal regulato=\\nrs=20\\ncan pass a charge on wholesale costs which then ends up on consumers, witho=\\nut=20\\nthe state saying it\\'s OK.\"=20\\nSome of the proposal\\'s wording is unclear. It discusses, for example, wheth=\\ner=20\\nthe surcharge money \"should cover all past-due amounts or only future unpai=\\nd=20\\nbills starting from the date the plan is begun.\"=20\\nThe reference to \"future unpaid bills\" is puzzling since, with the state of=\\n=20\\nCalifornia picking up the tab, electricity suppliers no longer are=20\\naccumulating unpaid bills from the utilities.=20\\n\"That could become a self-fulfilling prophecy; we don\\'t want to go there,\"=\\n=20\\nAckerman said about the idea of \"future unpaid bills.\"=20\\nThe FERC proposal also implies that electricity generators have reduced=20\\nproduction in California, an allegation the power companies themselves deny=\\n.=20\\nFERC asked for comments on whether the surcharge \"would help to increase=20\\nproduction by creating a greater assurance that generators will be paid.\"=\\n=20\\nE-mail Carolyn Said at csaid@sfchronicle.com.=20\\n,2001 San Francisco Chronicle ? Page?A - 1=20\\n---------------------------------------------------------------------------=\\n---\\n---------------------------------------------------------------\\nLawmakers offer bills aimed at cutting natural gas prices=20\\nJENNIFER COLEMAN, Associated Press Writer\\nTuesday, May 1, 2001=20\\n,2001 Associated Press=20\\nURL:=20\\nhttp://www.sfgate.com/cgi-bin/article.cgi?file=3D/news/archive/2001/05/01/s=\\ntate0\\n949EDT0128.DTL&type=3Dnews=20\\n(05-01) 06:49 PDT SACRAMENTO (AP) -- Gov. Gray Davis is relying on stringen=\\nt=20\\nconservation measures, increased electricity supply and quick Legislative=\\n=20\\nauthority to proceed with a $12.5 billion revenue bond issue to head off=20\\nblackouts this summer.=20\\nDavis administration officials briefed lawmakers Monday on the governor\\'s=\\n=20\\nplan to rescue Southern California Edison by buying the utility\\'s=20\\ntransmission lines.=20\\nThe extra financial details Davis\\' representatives gave Assembly Republican=\\ns=20\\ninclude forecasts of the Department of Water Resources\\' summer power=20\\npurchases -- the same figures the state will use to find buyers for $12.5=\\n=20\\nbillion in bonds to pay for future power.=20\\nThose forecasts, some Republicans said, count on too many things falling in=\\nto=20\\nplace, including the assumption that all of the state\\'s financially trouble=\\nd=20\\nalternative energy producers will be online.=20\\nThough energy analysts have predicted skyrocketing energy costs for summer =\\n--=20\\nup to $1,500 per megawatt hour -- the governor\\'s plan calculates an average=\\n=20\\ncost of $195 per megawatt hour over June, July and August.=20\\nThat\\'s because DWR cut long-term contracts covering a major part of the=20\\nelectricity needed during peak times, said Ron Nichols, senior managing=20\\ndirector for Navigant Consulting Inc.=20\\nLong-term contracts and conservation will minimize the effect of the expect=\\ned=20\\nhigh spot prices, Nichols said.=20\\nIn essence, Davis aides, much of the conservation will be spurred by sticke=\\nr=20\\nshock felt by consumers when they get their higher rates on their June bill=\\ns.=20\\nPG&E customers will see a 34 percent increase, Southern California Edison\\'s=\\n=20\\nwill jump 32 and San Diego Gas and Electric rates will jump 44 percent.=20\\nDavis\\' consultants predict the state can conserve up to 7,234 megawatts=20\\nduring peak demand -- about 16 percent of a 45,000 megawatt load that summe=\\nr=20\\nweather can bring on. One megawatt is roughly enough power for 750 homes.=\\n=20\\nMuch of that conservation, 2,484 megawatts, will come from three different=\\n=20\\nconservation programs through the California Independent System Operator,=\\n=20\\nkeeper of the state\\'s power grid.=20\\nDavis\\' \\'\\'20/20\\'\\' conservation plan is expected to cut another 2,200 megawat=\\nts=20\\nof demand. The rest of the cuts come from the sticker shock of higher=20\\nconsumer rates and by estimating how much less power Californians are using=\\n=20\\nthis year compared to last year.=20\\n``If we\\'re wrong, there are certain reserves built in,\\'\\' said Susan Kennedy=\\n,=20\\ndeputy chief of staff and secretary of cabinet. Either the state borrows mo=\\nre=20\\nor there will be blackouts, she added, and if the price of power goes highe=\\nr=20\\nthan expectations, the state won\\'t be able to afford it.=20\\nBy the end of 2002, Davis estimates, DWR will spend $26.9 billion to buy=20\\npower for customers of the three financially ailing utilities. Of that, $12=\\n.5=20\\nbillion will be paid for by revenue bonds that will add up to one cent per=\\n=20\\nkilowatt hour to customer bills for 15 years.=20\\nThe Legislature approved the revenue bonds based on a formula that would se=\\nt=20\\nthe amount of the issue. Now Davis\\' representatives say it\\'s urgent that th=\\ne=20\\nLegislature approve a bill with a firm cap so they could begin the bond sal=\\ne.=20\\n``We need the unambiguous authority to sell bonds. We need it right now. We=\\n=20\\ncannot afford any delays,\\'\\' Kennedy said.=20\\nA bill putting a $10 billion limit on the bonds stalled in the Assembly las=\\nt=20\\nweek after Republicans refused to vote for it until they received more=20\\ndetails about Davis\\' power buys and long-term contracts.=20\\nRepublicans wondered about the ability of the alternative generators to be=\\n=20\\nonline, a sentiment shared by the industry. Currently, about one-third are=\\n=20\\noff-line now because PG&E and Edison owe them more than $1 billion.=20\\nThe Public Utilities Commission ordered the utilities to pay those generato=\\nrs=20\\nevery other week starting April 1, but the large debts have the generators=\\n=20\\nfighting to stay open, said Jan Smutny-Jones, executive director of the=20\\nIndependent Energy Producers.=20\\nDavis\\' predictions aren\\'t rosy, but realistic, said Joseph Fichera, a=20\\nfinancial adviser for the governor. ``It minimizes the risk of blackouts, b=\\nut=20\\nyou can never eliminate it.\\'\\'=20\\nAlso Monday, an Assembly subcommittee unveiled four bills Monday designed t=\\no=20\\nincrease supplies of natural gas, including streamlining approvals for gas=\\n=20\\nstorage and new pipelines.=20\\nAfter conducting hearings on the market, the subcommittee is recommending t=\\nhe=20\\nstate streamline the PUC\\'s process to approve underground natural gas stora=\\nge=20\\nfacilities and new pipelines, allow lower-grade California natural gas to b=\\ne=20\\nused by industrial users and reform tariffs to see if they discourage=20\\ninvestments in a variety of natural gas-related ventures.=20\\nMeanwhile, the state remained free of power alerts Tuesday morning as=20\\nreserves stayed above 7 percent.=20\\nOn the Net:=20\\nThe bill numbers are: AB78x by Canciamilla; AB73x by Canciamilla and=20\\nDickerson; AB23x, by Assemblyman Dennis Cardoza, D-Atwater, and Assemblywom=\\nan=20\\nBarbara Matthews, D-Tracy; and AB42x, by Diaz.=20\\nRead the bills at www.assembly.ca.gov=20\\n,2001 Associated Press ?=20\\n---------------------------------------------------------------------------=\\n---\\n---------------------------------------------------------------\\nDevelopments in California\\'s energy crisis=20\\nThe Associated Press\\nTuesday, May 1, 2001=20\\n,2001 Associated Press=20\\nURL:=20\\nhttp://www.sfgate.com/cgi-bin/article.cgi?file=3D/news/archive/2001/05/01/s=\\ntate0\\n946EDT0127.DTL&type=3Dnews=20\\n, , -- (05-01) 06:46 PDT Developments in California\\'s energy crisis:=20\\nTUESDAY:< ?-- An Assembly electricity oversight committee releases report o=\\nn its ?investigation of alleged natural gas price and supply manipulation. =\\n?-- The state remains free of power alerts as electricity reserves stay abo=\\nve ?7 percent. ?MONDAY:<=20\\n-- Gov. Gray Davis\\' staff briefs Assembly Republicans on the plan to purcha=\\nse=20\\nSouthern California Edison\\'s transmission lines. The governor estimates tha=\\nt=20\\nduring peak hours this summer, Californians can conserve more than 7,000=20\\nmegawatts. That\\'s enough power for more than 5 million homes. Davis\\' advise=\\nrs=20\\nsay the Legislature needs to quickly approve a bill that would let the stat=\\ne=20\\nissue bonds to buy power for customers of Pacific Gas and Electric, San Die=\\ngo=20\\nGas and Electric and Edison. The bonds would also repay the general fund fo=\\nr=20\\nthe more than $5 billion the state has already spent on power.=20\\n-- PG&E\\'s transmission lines could still be bought by the state despite the=\\n=20\\nutility seeking bankruptcy protection when an earlier deal with state=20\\nnegotiators fell through, Davis says. Davis tells reporters that a creditor=\\ns=20\\ncommittee of businesses owed money by PG&E asked the state for a briefing o=\\nn=20\\ntalks to buy San Diego Gas and Electric Co.\\'s transmission lines. Davis say=\\ns=20\\nhe believes there is still some possibility of buying PG&E\\'s lines.=20\\n-- Williams Energy agrees to pay $8 million to settle charges by federal=20\\nregulators that the company withheld power to drive up prices.=20\\n``We decided to settle to put this behind us and to put our full attention=\\n=20\\ntoward more productive matters in relation to California versus going throu=\\ngh=20\\na costly and long hearing process,\\'\\' said Williams spokeswoman Paula=20\\nHall-Collins. She said Williams ``is confident that a full hearing of the=\\n=20\\nfacts would have exonerated us entirely.\\'\\'=20\\n-- Members of the Assembly Subcommittee on Natural Gas Costs and Availabili=\\nty=20\\nunveil legislation to cut natural gas prices.=20\\n-- The state Assembly approves a bill that lets a private energy company=20\\npurchase a shuttered PG&E power plant. The North American Power Group plans=\\n=20\\nto reopen the Kern Power Plant that PG&E shut down in 1985. Once renovated,=\\n=20\\nit will provide enough electricity about 180,000 homes. The bill moves to t=\\nhe=20\\nSenate.=20\\n-- The state remains free of power alerts as electricity reserves stay abov=\\ne=20\\n7 percent.=20\\n<=20\\nWHAT\\'S NEXT:<\\n-- Davis\\' representatives continue negotiating with Sempra, the parent=20\\ncompany of San Diego Gas and Electric Co., to buy the utility\\'s transmissio=\\nn=20\\nlines.=20\\nTHE PROBLEM:\\nHigh demand, high wholesale energy costs, transmission glitches and a tight=\\n=20\\nsupply worsened by scarce hydroelectric power in the Northwest and=20\\nmaintenance at aging California power plants are all factors in California\\'=\\ns=20\\nelectricity crisis.=20\\nEdison and PG&E say they\\'ve lost nearly $14 billion since June to high=20\\nwholesale prices the state\\'s electricity deregulation law bars them from=20\\npassing on to consumers. PG&E, saying it hasn\\'t received the help it needs=\\n=20\\nfrom regulators or state lawmakers, filed for federal bankruptcy protection=\\n=20\\nApril 6.=20\\nElectricity and natural gas suppliers, scared off by the two companies\\' poo=\\nr=20\\ncredit ratings, are refusing to sell to them, leading the state in January =\\nto=20\\nstart buying power for the utilities\\' nearly 9 million residential and=20\\nbusiness customers. The state is also buying power for a third investor-own=\\ned=20\\nutility, San Diego Gas & Electric, which is in better financial shape than=\\n=20\\nmuch larger Edison and PG&E but also struggling with high wholesale power=\\n=20\\ncosts.=20\\nThe Public Utilities Commission has raised rates as much as 46 percent to=\\n=20\\nhelp finance the state\\'s multibillion-dollar power buys.=20\\n,2001 Associated Press ?=20\\n---------------------------------------------------------------------------=\\n---\\n---------------------------------------------------------------\\nSecond try for tax cut in Oakland=20\\nSmaller utility levy likely after Brown veto=20\\nTyche Hendricks, Chronicle Staff Writer\\nTuesday, May 1, 2001=20\\n,2001 San Francisco Chronicle=20\\nURL:=20\\nhttp://www.sfgate.com/cgi-bin/article.cgi?file=3D/chronicle/archive/2001/05=\\n/01/M\\nNE216500.DTL&type=3Dnews=20\\nOakland -- The Oakland City Council is set to scale back plans for a=20\\nsix-month cut in the city\\'s utility users tax in the face of a first-ever=\\n=20\\nveto by Mayor Jerry Brown, who said the city may not be able to afford the=\\n=20\\ncut.=20\\nA week after the council voted 5 to 2 to give residents relief on their=20\\nskyrocketing gas and electric bills by reducing the tax the city imposes,=\\n=20\\ncouncil members said yesterday that they will reconsider the plan and may=\\n=20\\ngive a break only to the poorest Oaklanders.=20\\nCity Council President Ignacio De La Fuente, the author of the tax cut=20\\nproposal, said he plans to revise the measure at tonight\\'s council meeting.=\\n=20\\nUnder the revision, low-income residents would be exempt from the tax, whic=\\nh=20\\ncould cost the city an estimated $300,000.=20\\n\"The mayor has some legitimate concerns,\" De La Fuente said. He said he wou=\\nld=20\\npostpone consideration of a cut for all residents until after the state has=\\n=20\\napproved its budget for the coming year.=20\\nThe council\\'s latest move came after Brown last week invoked his authority =\\nto=20\\nblock legislation, a power he was granted under the 1998 strong-mayor=20\\nordinance that he wrote and voters approved.=20\\nIn the letter, Brown said the six-month tax break would take $1.6 million=\\n=20\\nfrom the city coffers and could be construed as a permanent tax cut, which=\\n=20\\nunder state Proposition 218 would require approval by two-thirds of the=20\\nvoters to reinstate.=20\\n\"In addition,\" the mayor wrote, \"the current budget hemorrhaging in=20\\nSacramento threatens to reduce expected state revenues to the city on which=\\n=20\\nthe current city budget is based.\" Brown said he would support relief for=\\n=20\\nthose least able to pay.=20\\nThe council had planned to temporarily reduce the city\\'s utility tax from 7=\\n.=20\\n5 percent to roughly 6 percent for most residents and eliminate it entirely=\\n=20\\nfor low-income households that qualify for PG&E\\'s assistance program.=20\\nAfter the council approved the tax cut last week, city leaders heard a repo=\\nrt=20\\nfrom the city manager\\'s budget analyst confirming that state money for=20\\nCalifornia\\'s cities might be reduced for the next fiscal year.=20\\n\"We all wanted to do this,\" said Councilwoman Jane Brunner, referring to=20\\nherself and four other council members, including De La Fuente, who voted f=\\nor=20\\nthe utility tax relief.=20\\n\"But they are saying that the (state\\'s) energy costs may dip into some of t=\\nhe=20\\nregular general fund money (for city and county governments). And that may =\\nbe=20\\nvery significant.\"=20\\nCouncilwoman Nancy Nadel, who voted against the tax cut along with Dick=20\\nSpees, said tax relief for low-income residents would cost the city roughly=\\n=20\\n$300,000, which she called a more reasonable figure. The eighth council=20\\nposition was vacant last week but will be filled tonight when council membe=\\nr-=20\\nelect Moses Mayne is sworn in.=20\\nBrown\\'s action marks the first time he has exercised his law-blocking power=\\n=20\\nunder Measure X, which allows the mayor to send new legislation back to the=\\n=20\\ncouncil for reconsideration if it is passed with fewer than six votes.=20\\nIf the council cannot muster six votes on its second review, the law would=\\n=20\\nnot take effect.=20\\nRusso said the fact that Brown has not used his veto power until now, more=\\n=20\\nthan halfway into his four-year term, shows that he is able to work with th=\\ne=20\\ncouncil.=20\\n\"I think it\\'s significant that this is first time (he\\'s used the veto),\" sa=\\nid=20\\nRusso. \"It has been 2 1/2 years of some pretty controversial and contentiou=\\ns=20\\nstuff.\"=20\\nE-mail Tyche Hendricks at thendricks@sfchronicle.com.=20\\n,2001 San Francisco Chronicle ? Page?A - 13=20\\n---------------------------------------------------------------------------=\\n---\\n---------------------------------------------------------------\\nFeds want surcharge to pay utilities\\' debts=20\\nTHE PLAN: Additional rate boost likely, cash would go to power suppliers=20\\nCarolyn Said, Chronicle Staff Writer\\nTuesday, May 1, 2001=20\\n,2001 San Francisco Chronicle=20\\nURL:=20\\nhttp://www.sfgate.com/cgi-bin/article.cgi?file=3D/chronicle/archive/2001/05=\\n/01/M\\nN9985.DTL&type=3Dnews=20\\nFederal energy regulators have proposed a surcharge on wholesale electricit=\\ny=20\\nsales in California to compensate generating companies, angering state=20\\nofficials who say the idea amounts to gouging consumers.=20\\nThe Federal Energy Regulatory Commission suggested collecting the money to=\\n=20\\nreimburse electricity suppliers who have debts from Pacific Gas and Electri=\\nc=20\\nCo., Southern California Edison and San Diego Gas & Electric Co. Power=20\\ncompanies accrued some $6 billion in unpaid bills from California\\'s=20\\nstruggling utilities in late 2000 and early this year, until the state=20\\nstepped in to take over the purchasing of power.=20\\n\"Under the pretense of helping California, (FERC) is proposing to steal=20\\nadditional money from California ratepayers to pad the pockets of the greed=\\ny=20\\nenergy companies,\" Gov. Gray Davis said in a statement. \"FERC does not care=\\n=20\\none wit about the ratepayer. Their plan is a total capitulation to the ener=\\ngy=20\\ncompanies.\"=20\\nSen. Dianne Feinstein, D-Calif., who has been an outspoken critic of FERC\\'s=\\n=20\\npolicies in California, said the surcharge would \"ensure that power=20\\ngenerators get paid fully for their price gouging. That is outrageous and=\\n=20\\nwill further alienate Californians.\"=20\\nThe surcharge presumably would be levied on the California Department of=20\\nWater Resources, which, as the state\\'s purchasing agent, has already spent=\\n=20\\nmore than $5 billion on power since January. The DWR\\'s costs, in turn, are=\\n=20\\nlikely to be borne by California\\'s consumers and taxpayers.=20\\nFERC would require the California Independent System Operator, which runs t=\\nhe=20\\nstate\\'s power grid, to collect the surcharge. But state regulators could=20\\nchallenge the surcharge.=20\\n\"We have 30 days to comment to FERC and are considering our options,\" said=\\n=20\\nSean Gallagher, state counsel at the California Public Utilities Commission=\\n.=20\\n\"If (FERC\\'s) concern is public policy and maintaining just and reasonable=\\n=20\\nprices for consumers, I don\\'t quite understand why they would get into the=\\n=20\\nmiddle of a legal wrangle about past bills\\' getting paid,\" said Severin=20\\nBorenstein, director of the University of California Energy Institute in=20\\nBerkeley. \"It is true the firms would like to get paid. I\\'m not sure what=\\n=20\\nFERC has to do with helping them collect their money.\"=20\\nA \\'GOUGING TAX\\'\\nConsumer advocates characterized the surcharge as a \"gouging tax\" that=20\\nunderscores the Bush administration\\'s close ties to energy firms, many of=\\n=20\\nwhich are based in President Bush\\'s home state of Texas.=20\\n\"This is evidence that FERC and the administration are more interested in=\\n=20\\nprotecting the energy industry than the consumers or taxpayers of=20\\nCalifornia,\" said Doug Heller, a consumer advocate with the Los Angeles-bas=\\ned=20\\nFoundation for Taxpayer and Consumer Rights. \"It\\'s back-billing us to pay=\\n=20\\nprices that were unjust and unreasonable per the FERC\\'s own analysis.\"=20\\nFERC\\'s Curt Hebert, a Mississippi Republican whom President Bush appointed=\\n=20\\nchairman of the commission, was behind the surcharge proposal, which he tol=\\nd=20\\nthe Wall Street Journal was a way \"to stabilize the market.\" Hebert did not=\\n=20\\nreturn calls for comment.=20\\nThe surcharge was proposed in FERC\\'s 39-page \"mitigation\" plan to alleviate=\\n=20\\nwholesale electricity prices in California during power emergencies; the pl=\\nan=20\\nwas released last week. FERC said it would accept public comment on the=20\\nproposal for 30 days, after which it would decide whether to implement it.=\\n=20\\nCOMPLICATED ISSUES\\nEven the power industry, the presumptive beneficiary of the surcharge, did=\\n=20\\nnot express whole-hearted support for it.=20\\n\"I\\'m glad they brought it up,\" said Gary Ackerman, executive director of th=\\ne=20\\nWestern Power Trading Forum, which represents all major buyers and sellers =\\nof=20\\nwholesale electricity in California. \"But it skirts the issue of what\\'s sta=\\nte=20\\nregulated and what\\'s federally regulated. I\\'m not sure how federal regulato=\\nrs=20\\ncan pass a charge on wholesale costs which then ends up on consumers, witho=\\nut=20\\nthe state saying it\\'s OK.\"=20\\nSome of the proposal\\'s wording is unclear. It discusses, for example, wheth=\\ner=20\\nthe surcharge money \"should cover all past-due amounts or only future unpai=\\nd=20\\nbills starting from the date the plan is begun.\"=20\\nThe reference to \"future unpaid bills\" is puzzling since, with the state of=\\n=20\\nCalifornia picking up the tab, electricity suppliers no longer are=20\\naccumulating unpaid bills from the utilities.=20\\n\"That could become a self-fulfilling prophecy; we don\\'t want to go there,\"=\\n=20\\nAckerman said about the idea of \"future unpaid bills.\"=20\\nThe FERC proposal also implies that electricity generators have reduced=20\\nproduction in California, an allegation the power companies themselves deny=\\n.=20\\nFERC asked for comments on whether the surcharge \"would help to increase=20\\nproduction by creating a greater assurance that generators will be paid.\"=\\n=20\\nE-mail Carolyn Said at csaid@sfchronicle.com.=20\\n,2001 San Francisco Chronicle ? Page?A - 1=20\\n---------------------------------------------------------------------------=\\n---\\n---------------------------------------------------------------\\nWarning of a summer power \\'Armageddon\\'=20\\nDavis aide paints dire scenario in push for bonds to buy power=20\\nLynda Gledhill, Greg Lucas, Chronicle Sacramento Bureau\\nTuesday, May 1, 2001=20\\n,2001 San Francisco Chronicle=20\\nURL:=20\\nhttp://www.sfgate.com/cgi-bin/article.cgi?file=3D/chronicle/archive/2001/05=\\n/01/M\\nN192706.DTL&type=3Dnews=20\\nSacramento -- Trying to drum up support to issue $12.5 billion in bonds to=\\n=20\\nbuy power, a top adviser to Gov. Gray Davis warned lawmakers yesterday of=\\n=20\\n\"Armageddon\" this summer if key assumptions on energy generation and=20\\nconservation fail to materialize.=20\\nPresenting a 67-page document to lawmakers, Davis\\' top energy consultants=\\n=20\\nsaid numerous assumptions -- such as increased conservation and more=20\\nalternative generating facilities returning to full operation -- must pan=\\n=20\\nout.=20\\nWithout that, Davis\\' Cabinet secretary, Susan Kennedy, said an \"Armageddon=\\n=20\\nscenario\" would take place, according to numerous lawmakers in the meeting.=\\n=20\\nThat could include more blackouts or additional borrowing, Kennedy said in =\\na=20\\nbriefing later with reporters. \"Everything has to fall in place.\"=20\\nBut one key assumption was immediately blasted by an energy industry offici=\\nal=20\\nas \"completely unrealistic.\"=20\\nThe administration document forecasts that 90 percent of the state\\'s=20\\nalternative generators will be back on line by June. About one-third are=20\\ncurrently not operating because they are not being paid by California\\'s deb=\\nt-=20\\nridden utilities.=20\\n\"That is complete lunacy at this point,\" said Jerry Bloom, a spokesman for=\\n=20\\nthe California Cogeneration Council. \"The assumption simply does not reflec=\\nt=20\\nthe reality of the market. It shows once again that the governor is not=20\\nlistening.\"=20\\nAmong the other assumptions is a 7 percent conservation rate and the approv=\\nal=20\\nof the deal between the state and Southern California Edison Co. for the=20\\npurchase of the utility\\'s transmission lines. Davis has set a target of=20\\nconserving 10 percent.=20\\nIn San Francisco yesterday, Davis told a high-tech business conference that=\\n=20\\nthe state will have to walk a tightrope to get through the summer.=20\\n\"We are going to have to set the Guinness Book of Records in this state in=\\n=20\\norder to avoid disruptions this summer,\" he said.=20\\nState Treasurer Phil Angelides said the assumptions were \"fair and rational=\\n\"=20\\nbut warned many of the assumptions are beyond the state\\'s control.=20\\n\"The biggest threat to making this plan work is if generators take prices=\\n=20\\nfrom the current level, which is horrendous, to obscenely horrendous,\" he=\\n=20\\nsaid after meeting with Assembly Republicans for an hour on the proposed bo=\\nnd=20\\nsale.=20\\nThe dire scenarios were used by the administration officials to convince=20\\nAssembly Republicans to approve a bond authorization, which is scheduled to=\\n=20\\ncome up for a vote on Thursday.=20\\nGOP members balked at approving the huge bond issuance without further=20\\ndetails from the administration. But yesterday\\'s information simply raised=\\n=20\\nmore questions in many minds.=20\\n\"It\\'s kind of like peeling back an onion -- as you peel something back you=\\n=20\\nfind something else out,\" said Assemblyman George Runner, R-Lancaster.=20\\nAssemblyman Tony Strickland, R-Thousand Oaks, said Republicans want to be=\\n=20\\nsure there won\\'t be a continuing need to issue larger amounts of bonds in t=\\nhe=20\\nfuture.=20\\n\"The governor\\'s office is asking us to approve the biggest bond in American=\\n=20\\nhistory, and we\\'re just supposed to trust them on a lot of this stuff,\" he=\\n=20\\nsaid. \"What happens if the assumptions don\\'t happen? Do we need another $7=\\n=20\\nbillion or $10 billion in loans? Is the existing rate structure enough or=\\n=20\\nwill they ask for more? We want to know.\"=20\\nRepublican votes are needed to approve the bond issuing authority on an=20\\nurgency basis.=20\\nThe current bill only allows for $10 billion, but the administration now sa=\\nys=20\\nit needs $12.5 billion. Kennedy said another request for more financing wil=\\nl=20\\nbe made later to close that gap.=20\\nThe predictions use the rate increase proposed by Davis, which averages abo=\\nut=20\\n37 percent. His rate increase would pay off not only the revenue bond issue=\\nd=20\\nby the state, but also a $8 billion bond issued by the utilities to pay off=\\n=20\\nsome of their back debt.=20\\nAngelides has pressed for the bonding authority because the commitments for=\\n=20\\nshort-term bridge loans -- which would provide the state with money during=\\n=20\\nthe several weeks it would take to issue the bonds -- expire on May 8.=20\\nHowever, most of the GOP members of the Assembly said they have not been=20\\nconvinced of the need for the bridge loans.=20\\nRunner said normal budgetary borrowing will keep the general fund whole unt=\\nil=20\\nthe bonds can be issued. Republicans believe the emphasis on the short term=\\n=20\\nfunding is to allow Davis to present a rosier budget later this month.=20\\nTim Gage, Davis\\' director of finance, said the authorization is needed=20\\nimmediately to give sellers confidence that the state is credit-worthy and=\\n=20\\ncan continue to purchase power. Currently, the state is being charged a=20\\ncredit premium, he said.=20\\n\"I\\'m deeply concerned if the bridge loan, the first step, doesn\\'t come=20\\ntogether it will do harm getting the energy bond to the market,\" Angelides=\\n=20\\nsaid.=20\\nMeanwhile, the state Public Utilities Commission yesterday accused Pacific=\\n=20\\nGas & Electric Co. of trying to use bankruptcy to escape state regulation a=\\nnd=20\\nraise rates drastically.=20\\nThe PUC asked a federal bankruptcy judge to dismiss PG&E\\'s challenge to=20\\naccounting changes ordered by the state commission on March 27 that would=\\n=20\\nmake it harder for the utility to pass along to customers its $8.9 billion=\\n=20\\ndebt for electricity purchases.=20\\nChronicle staff writers Bob Egelko and Tanya Schevitz contributed to this=\\n=20\\nstory.=20\\nE-mail Lynda Gledhill at lgledhill@sfchronicle.com and Greg Lucas at=20\\nglucas@sfchronicle.com.=20\\n,2001 San Francisco Chronicle ? Page?A - 3=20\\n---------------------------------------------------------------------------=\\n---\\n---------------------------------------------------------------\\n\\n\\n\\n\\nCheney rejects conservation=20\\nPosted at 11:03 p.m. PDT Monday, April 30, 2001=20\\nBY JIM PUZZANGHERA=20\\n\\nMercury News Washington Bureau=20\\n\\n\\nWASHINGTON -- The energy woes of California and the nation cannot be solved=\\n=20\\nwith price controls or conservation, but only by increasing the country\\'s=\\n=20\\nsupply of oil and natural gas and using more coal and nuclear power, Vice=\\n=20\\nPresident Dick Cheney said Monday.=20\\nCheney was laying the groundwork for the announcement later this month of a=\\n=20\\nmajor energy proposal. The vice president argued that without adopting the=\\n=20\\nBush administration plan, California\\'s energy crisis may spread to the rest=\\n=20\\nof the country.=20\\n``A few years ago, many people had never heard the term `rolling blackout.\\'=\\n=20\\nNow, everybody in California knows the term all too well. And the rest of=\\n=20\\nAmerica is starting to wonder when these rolling blackouts might roll over=\\n=20\\nthem,\\'\\' Cheney said in a Toronto speech to the Associated Press.=20\\n``Without a clear, coherent energy strategy for the nation, all Americans=\\n=20\\ncould one day go through what Californians are experiencing now, or worse,\\'=\\n\\'=20\\nwarned Cheney, who leads the administration\\'s high-level energy task force.=\\n=20\\nCheney\\'s speech was notable more for its tone than its substance. Much of t=\\nhe=20\\ndetail he offered is similar to what Energy Secretary Spencer Abraham laid=\\n=20\\nout last month. He reiterated the need for more than 1,300 new power plants=\\n=20\\nand 38,000 miles of additional natural gas pipeline. Cheney also repeated a=\\nn=20\\nadministration claim that the area to be opened for drilling in Alaska\\'s=20\\nenvironmentally sensitive Arctic National Wildlife Refuge would be smaller=\\n=20\\nthan Washington\\'s Dulles airport.=20\\nBut Cheney, who ran a Texas company that provided services to the energy=20\\nindustry, used blunt language to dismiss the idea that conservation could b=\\ne=20\\na major solution to the problem.=20\\n``The aim here is efficiency, not austerity,\\'\\' Cheney said, rejecting the=\\n=20\\nnotion that Americans should be told to ``do more with less.\\'\\'=20\\n``Conservation may be a sign of personal virtue, but it is not a sufficient=\\n=20\\nbasis for a sound, comprehensive energy policy,\\'\\' he said.=20\\nContrast with Gov. Davis=20\\nLarge-scale conservation is one of California Gov. Gray Davis\\' efforts for=\\n=20\\ngetting through this summer without extensive blackouts. Earlier this=20\\nmonthLast month, Davis approved an $850 million energy conservation plan th=\\nat=20\\noffers incentives to try to shave at least 2,000 megawatts during peak hour=\\ns=20\\nfrom the state\\'s electricity usage.=20\\nDavis on Monday blasted condemned Bush and Cheney for belittling conservati=\\non=20\\nprograms.=20\\n``It\\'s clear that the Bush administration has an energy bias. Both the=20\\npresident and the vice president come from an oil- and gas-producing state.=\\n=20\\nThat is their bias,\\'\\' Davis said, referring to Bush\\'s Texas oil roots and=\\n=20\\nCheney\\'s tenure as the head of Texas-based Halliburton Co. ``And I do belie=\\nve=20\\nwe should build more plants and produce more energy, but at the same time, =\\nwe=20\\nmust become more energy-efficient.\\'\\'=20\\nDavis and other California officials have also pushed the administration to=\\n=20\\nlimit the price of electricity throughout the West this summer. Although=20\\nfederal regulators approved measures last week designed to rein in the cost=\\n=20\\nof electricity in California, the plan fell far short of hard price caps.=\\n=20\\nCheney on Monday restated the White House\\'s opposition to price caps, sayin=\\ng=20\\nthey were among a number of the ``usual quick fixes\\'\\' that have failed to=\\n=20\\nsolve the problem over the years.=20\\n``Price controls, tapping strategic reserves, creating new federal agencies=\\n=20\\n-- if these were any solution, we\\'d have resolved the problems a long time=\\n=20\\nago,\\'\\' Cheney said.=20\\nOther sources rejected=20\\nThe vice president rejected the idea that alternative sources of energy cou=\\nld=20\\nreplace our dependence on fossil fuels such as oil, gas and coal, at least=\\n=20\\nfor a long time.=20\\n``The reality is that fossil fuels supply virtually a hundred percent of ou=\\nr=20\\ntransportation needs and an overwhelming share of our electricity=20\\nrequirements,\\'\\' he said. ``For years down the road, this will continue to b=\\ne=20\\ntrue.\\'\\'=20\\nThe solution, he said, is to find more oil and natural gas by to increase=\\n=20\\ndrilling for oil and natural gas in the United States, making more use of=\\n=20\\nfind new ways to burn coal more cleanly and put a renewed emphasis on nucle=\\nar=20\\npower.=20\\n``Fortunately for the environment, one-fifth of our electricity is nuclear=\\n=20\\ngenerated,\\'\\' he said. ``If we\\'re serious about environmental protection, th=\\nen=20\\nwe must seriously question the wisdom of backing away from what is, as a=20\\nmatter of record, a safe, clean and very plentiful energy source.\\'\\'=20\\nCarl Pope, executive director of the Sierra Club, said the White House is=\\n=20\\ntrying to convince people that their plan to ramp up increase energy=20\\nproduction, even at the expense of environmental concerns, is the only way =\\nto=20\\nsolve the energy problems.=20\\n``From the beginning, the administration has wanted to tell the American=20\\npeople that they didn\\'t have any choice, that the only way they could=20\\ntransport themselves to work, heat their houses, toast their toast .?.?. wa=\\ns=20\\nto ruin the environment,\\'\\' he said.=20\\nThe environmental leader saw a sign of desperation, however, in Cheney\\'s=20\\nspeech. ``They\\'ve been out pushing this agenda for a hundred days and the=\\n=20\\nAmerican people are rejecting it,\\'\\' Pope said.=20\\nBush\\'s low grade=20\\nSeveral recent polls have shown Bush scoring low on his handling of=20\\nenvironmental and energy issues. A Wall Street Journal/NBC News poll releas=\\ned=20\\nlast week, showed 61 percent of respondents rated Bush\\'s performance on=20\\nenergy as ``only fair\\'\\' or ``poor.\\'\\'=20\\nRep. Anna Eshoo, D-Palo Alto, said the administration was going backward wi=\\nth=20\\nits proposals. She joined with more than 30 of her colleagues from Californ=\\nia=20\\nand Washington to write to Secretary Abraham on Monday to criticize the=20\\nhandling of the energy crisis.=20\\n``We can do much better than this,\\'\\' Eshoo said of the crystallizing White=\\n=20\\nHouse plan. ``I don\\'t think we need to sacrifice our environment in order t=\\no=20\\nmove ahead.\\'\\'=20\\n\\nMercury News Staff Writer Michael Bazeley contributed to this report.=20\\n---------------------------------------------------------------------------=\\n---\\n---------------------------------------------------------------------------=\\n---\\n-----------------\\n\\n\\n\\n\\n\\nFederal energy regulators propose surcharge plan to pay utilities\\' debt=20\\nPosted at 5:51 a.m. PDT Tuesday, May 1, 2001=20\\nSAN FRANCISCO (AP) -- A surcharge on wholesale electricity prices has been=\\n=20\\nproposed by federal energy regulators as a way to pay utilities\\' debts.=20\\nThe move angers state officials who say the suggestion amounts to gouging=\\n=20\\ncustomers.=20\\nSen. Dianne Feinstein, D-California, has been an outspoken critic of the=20\\nFederal Energy Regulatory Commission\\'s policies in California. She said the=\\n=20\\nsurcharge would ``ensure that power generators get paid fully for their pri=\\nce=20\\ngouging.\\'\\'=20\\n``That is outrageous and will further alienate Californians,\\'\\' she said.=20\\nLate last year and early this year, power companies accrued about $6 billio=\\nn=20\\nin unpaid bills from the state\\'s ailing utilities. FERC suggested collectin=\\ng=20\\nthe money to reimburse suppliers who have debts from PG&E, Southern=20\\nCalifornia Edison and San Diego Gas and Electric Co.=20\\nThe surcharge would likely be levied to the state\\'s Department of Water=20\\nResources. As the state\\'s purchasing agent, that department has spent more=\\n=20\\nthan $5 billion on power since January.=20\\nIf the proposal is approved, FERC would require the California Independent=\\n=20\\nSystem Operator, which runs the state\\'s power grid, to collect the surcharg=\\ne.=20\\n``We have 30 days to comment to FERC and are considering our options,\\'\\' sai=\\nd=20\\nSean Gallagher, state counsel at the California Public Utilities Commission=\\n.=20\\nAP-WS-05-01-01 0357EDT\\n\\n---------------------------------------------------------------------------=\\n---\\n---------------------------------------------------------------------------=\\n---\\n----\\n\\n\\n\\n\\n\\nRecord prices for power expected this summer in U.S.=20\\nPublished Tuesday, May 1, 2001, in the San Jose Mercury News=20\\nBY WILLIAM CLAIBORNE=20\\n\\nWashington Post=20\\n\\n\\nCHICAGO -- The rest of the United States is virtually certain to escape=20\\nrolling blackouts this summer like the ones that have plagued California, b=\\nut=20\\nrecord price increases for electricity are likely in many places, energy=20\\nexperts agree.=20\\nDespite their confidence that they can survive everything but an extremely=\\n=20\\nhot summer without power outages, managers of the nation\\'s interconnecting=\\n=20\\nelectrical power grids are anxiously awaiting new power plants that are=20\\nscheduled to come online. They are also promoting conservation and seeking=\\n=20\\nways to avoid distribution logjams during peak demand periods this summer.=\\n=20\\n``We see a big distinction between California and the rest of the country,\\'=\\n\\'=20\\nsaid David Costello, an economist in charge of short-term forecasting for t=\\nhe=20\\nEnergy Information Administration, the statistical arm of the Energy=20\\nDepartment. ``We have no real reason to believe any place is unusually at=\\n=20\\nrisk.\\'\\'=20\\nBut record spikes in the price of electricity are a given for this summer,=\\n=20\\nsome industry analysts say, because a growing proportion of power plants ru=\\nn=20\\non natural gas, which has doubled in price over the past year.=20\\nThe Energy Department estimates that electricity demand will grow 2.3 perce=\\nnt=20\\nnationally this year, with much higher increases in the West and the South.=\\n=20\\nAt the same time, the reserve capacity margin that utilities try to build=\\n=20\\ninto their systems to handle the hottest days -- when use of air conditione=\\nrs=20\\nand other appliances taxes supplies -- has been falling in some regions to=\\n=20\\nwell less than the desired 15 percent above peak summer loads.=20\\nThat means utilities may have to import large volumes of electricity over=\\n=20\\ntransmission systems that were not designed to handle them. What power=20\\nofficials are hoping to avoid are critical shortfalls in generating capacit=\\ny,=20\\nfollowed by overwhelming strains on aging high-voltage transmission lines a=\\ns=20\\npower is bought and sold in increasingly competitive electricity markets.=\\n=20\\nEven though scores of new power plants have been built in the Northeast,=20\\nSouth and Midwest in recent months and many more are being planned, the=20\\nexpected 15 percent increase in new generation will not be fully online for=\\n=20\\nanother two years.=20\\nThat leaves parts of the nation vulnerable to outages if there are prolonge=\\nd=20\\nheat waves this summer, or if utilities are unable to start up new or rebui=\\nlt=20\\ngas-fired power plants as scheduled, according to energy experts.=20\\nApart from California, the worst problems are expected in adjoining western=\\n=20\\nstates, as California electrical grid managers scramble to buy electricity =\\nat=20\\na time when power production at the region\\'s hydroelectric dams is already=\\n=20\\nbeing cut because of shrinking water levels in reservoirs.\\n\\n---------------------------------------------------------------------------=\\n---\\n---------------------------------------------------------------------------=\\n---\\n----------\\n\\n\\n\\n\\n\\nDavis calls generators on carpet=20\\nPublished Tuesday, May 1, 2001, in the San Jose Mercury News=20\\nBY MICHAEL BAZELEY=20\\n\\nMercury News=20\\n\\n\\nGov. Gray Davis has asked power generators to Sacramento next week for a=20\\nmeeting intended to ``make sure they feel some of the pain\\'\\' of the state\\'s=\\n=20\\nenergy woes.=20\\nDavis and other officials have portrayed the generators -- who own the powe=\\nr=20\\nplants that supply the state\\'s electricity -- as the black-hatted villains =\\nof=20\\nthe energy crisis. Along with the utilities and consumer groups, Davis has=\\n=20\\naccused the companies of taking advantage of the energy shortage by chargin=\\ng=20\\nexorbitant prices for their power. They have denied that.=20\\nDavis said he would use the meeting to tell the companies ``not to rip us=\\n=20\\noff\\'\\' and to be ``good citizens.\\'\\'=20\\n``These energy companies have made more money than any company in America,\\'=\\n\\'=20\\nDavis said at a San Francisco event to promote conservation. ``They haven\\'t=\\n=20\\ndone it by making a better product. They haven\\'t done it by providing bette=\\nr=20\\nservice. They just bought our plants and are selling us back the power at=\\n=20\\nextraordinarily unheard-of rates. .?.?. They should participate collectivel=\\ny=20\\nin the solution of this problem.\\'\\'=20\\nDavis said he also would meet with the owners of ``qualifying facilities,\\'\\'=\\n=20\\nthe smaller power generators that provide about one-fourth of the state\\'s=\\n=20\\nelectrical power.=20\\nMany of the generators have been either scaling back output or shutting dow=\\nn=20\\nentirely, contending that the state\\'s two largest utilities owe them $1.5=\\n=20\\nbillion.=20\\nDavis said he expected the power generators to agree to accept partial=20\\npayment for the energy they\\'ve sold the utilities.=20\\nLarger power generators are owed $5 billion to $15 billion for energy they=\\n=20\\nsold to the state and utilities, said Jan Smutny-Jones, executive director =\\nof=20\\nthe Independent Energy Producers Association.=20\\nAn official with Mirant Corp., which says it is owed $385 million, said he=\\n=20\\nwas aware of the meeting with Davis, but he did not know the topic.=20\\n``We\\'re very willing to send someone, if the governor is willing to work wi=\\nth=20\\nthe generators on a cooperative solution,\\'\\' said spokesman Brian O\\'Neel.=20\\nAlso Monday, Davis said that Pacific Gas & Electric Co. could still be forc=\\ned=20\\nto sell its power transmission lines to the state, even though the utility =\\nis=20\\nnow under the protection of federal bankruptcy court.=20\\nDavis had been working on a deal to buy the company\\'s lines. But those talk=\\ns=20\\nfell through weeks ago, and on April 6, PG&E filed for Chapter 11 bankruptc=\\ny=20\\nprotection.=20\\nSpeaking to reporters at a technology conference, Davis said a creditors=20\\ncommittee of businesses owed money by PG&E is considering asking the=20\\nbankruptcy judge to force a sale of the utility\\'s power lines to the state.=\\n=20\\nDavis said his advisers met with the committee recently to brief them on=20\\ntalks to buy the transmission lines of financially troubled San Diego Gas &=\\n=20\\nElectric Co.=20\\nThe governor would like to take over the state\\'s 32,000-mile power grid so =\\nhe=20\\ncan control the flow of electricity through the state and gain a negotiatin=\\ng=20\\nadvantage when dealing with power producers.=20\\nSouthern California Edison has already agreed to sell its power lines to th=\\ne=20\\nstate.=20\\n\\nMercury News Staff Writer Steve Johnson contributed to this report.=20\\n\\nContact Michael Bazeley at mbazeley@sjmercury.com or (415) 434-1018.=20\\n---------------------------------------------------------------------------=\\n---\\n-------------------------------------\\n\\n\\n\\nPG&E lobbied heavily just before bankruptcy=20\\nPublished Tuesday, May 1, 2001, in the San Jose Mercury News=20\\nBY DION NISSENBAUM=20\\n\\nMercury News Sacramento Bureau=20\\n\\n\\nSACRAMENTO -- In the three months before it declared bankruptcy, Pacific Ga=\\ns=20\\n& Electric Co. spent nearly $650,000 lobbying state officials -- about=20\\ntwo-thirds of what the company spent all of last year trying to change=20\\nCalifornia laws.=20\\nThe figures, reported Monday to the California secretary of state, offered=\\n=20\\nconcrete evidence of the aggressive lobbying effort made by the now-bankrup=\\nt=20\\nutility to press its case. And it outraged consumer activists and state=20\\nleaders.=20\\n``Clearly it confirms that PG&E\\'s priority wasn\\'t keeping rates low,\\'\\' said=\\n=20\\nSteve Maviglio, spokesman for Gov. Gray Davis. ``They spent more time and=\\n=20\\nenergy propping up their corporate image than paying attention to=20\\nCalifornia\\'s energy needs.\\'\\'=20\\nIn all of 2000, when the first signs of the energy crisis appeared, the=20\\nutility spent about $900,000 lobbying state leaders. In the first three=20\\nmonths of 2001, PG&E spent $644,000. Ron Low, a PG&E spokesman, said the=20\\nspending came in response to hundreds of bills introduced at the special=20\\nlegislative session on the energy crisis called by Davis and hundreds of=20\\nhours spent in Sacramento talking with state leaders about the company\\'s=20\\nplight.=20\\n``The bills and legislation had the potential to impact our customers,\\'\\' Lo=\\nw=20\\nsaid. ``We were providing testimony at committees, information requested by=\\n=20\\nlegislators and doing the analysis required.\\'\\'=20\\nIn trying to sway California officials, PG&E hired some of the state\\'s most=\\n=20\\nprominent lobbyists. Among those enlisted by PG&E were Platinum Advisors, a=\\n=20\\nfirm headed by former Davis campaign finance adviser Darius Anderson and a=\\n=20\\nlaw firm headed by the chief of staff to former GOP Gov. George Deukmejian.=\\n=20\\nPG&E dwarfed other energy interests with its lobbying, but other power=20\\ncompanies spent tens of thousands of dollars in Sacramento.=20\\nSan Diego Gas & Electric spent more than $190,000 in the first three months=\\n=20\\nof 2001, almost as much as for all of 2000.=20\\nSouthern California Edison, which spent $1.4 million on lobbying last year,=\\n=20\\nhad not filed its latest report as of Monday night.=20\\nAll three utilities have spent the past year trying to persuade state leade=\\nrs=20\\nto rescue them from bankruptcy. During the crisis, the state has stepped in=\\n=20\\nto buy energy for the utilities, agreed to raise rates and offered a comple=\\nx=20\\nbailout plan.=20\\nEdison agreed last month to the bailout offer, but PG&E turned down the sam=\\ne=20\\ndeal and declared bankruptcy April 6.=20\\n\\n\\nContact Dion Nissenbaum at dnissenbaum@sjmercury.com or (916) 441-4603.=20\\n---------------------------------------------------------------------------=\\n---\\n---------------------------------------------------------------------------=\\n---\\n-----------------------------\\n\\n\\n\\n\\n\\n\\n\\nCheney outlines energy strategy for U.S.=20\\nThe vice president says California-type blackouts are possible elsewhere.=\\n=20\\nMay 1, 2001=20\\nBy SANDRA SOBIERAJ\\nThe Associated Press=20\\nTORONTO Vice President Dick Cheney warned Monday that the whole nation coul=\\nd=20\\nface California-style blackouts as he outlined a national energy strategy=\\n=20\\nrelying heavily on oil, coal, natural gas and nuclear-power development - b=\\nut=20\\nnot conservation.=20\\n\"The aim here is efficiency, not austerity,\" Cheney told editors and=20\\npublishers at The Associated Press annual meeting. The nation cannot \"simpl=\\ny=20\\nconserve or ration our way out of the situation we\\'re in.\"=20\\nIn his first extensive remarks about the energy recommendations his=20\\nCabinet-level task force will make to Bush by the end of May, Cheney blamed=\\n=20\\ncurrent shortages on shortsighted decisions in the past. He said=20\\nconservation, while perhaps \"a sign of personal virtue,\" does not make for=\\n=20\\nsound or comprehensive policy.=20\\nSaving the specifics for his boss to review and then announce, Cheney=20\\npromised \"a mix of new legislation, some executive action as well as privat=\\ne=20\\ninitiatives\" to cope with rising energy prices and growing demand.=20\\nHe said anew that the administration intends to push for drilling in the=20\\nArctic National Wildlife Refuge despite strong congressional opposition.=20\\nHe rejected price controls, tapping the Strategic Petroleum Reserve or=20\\ncreating new bur eaucracies.=20\\nOver the next two decades, it will take between 1,300 and 1,900 new power=\\n=20\\nplants - or one every week for 20 years - just to meet projected increases =\\nin=20\\nnationwide demand, Cheney said.=20\\nEnergy shortages in California already have forced rolling blackouts. And h=\\ne=20\\nsaid, \"Without a clear, coherent energy strategy for the nation, all=20\\nAmericans could one day go through what Californians are experiencing now, =\\nor=20\\neven worse.\"=20\\n---------------------------------------------------------------------------=\\n---\\n---------------------------------------------------------------------------=\\n---\\n-------------------\\n\\n\\n\\n\\n\\n\\n\\nBush taking a supply-side policy on energy=20\\nCheney says oil, coal and natural gas will be the primary resources for=20\\n\\'years down the road.\\'=20\\nMay 1, 2001=20\\nBy JOSEPH KAHN\\nThe New York Times=20\\n\\n\\n\\n\\n\\n\\n\\n\\n\\n\\n\\nWASHINGTON - Vice President Dick Cheney said Monday that oil, coal and=20\\nnatural gas will remain America\\'s primary energy resources for \"years down=\\n=20\\nthe road,\" and that the Bush administration\\'s energy strategy will aim main=\\nly=20\\nto increase the supply of fossil fuels, rather than limit demand.=20\\nCheney, who ran the Dallas-based oil-services company Haliburton Inc. befor=\\ne=20\\nbecoming vice president, offered a supply-oriented energy philosophy that=\\n=20\\nseems likely to dominate the report his task force is expected to issue as=\\n=20\\nearly as mid-May.=20\\nThe report to President George W. Bush is expected to recommend legislation=\\n,=20\\nexecutive actions and incentives for the private sector.=20\\nHis comments, delivered to the annual meeting of The Associated Press in=20\\nToronto, seemed partly a combative response to Democrats and=20\\nenvironmentalists who argue that the Bush administration has used=20\\nCalifornia\\'s electricity shortages as a pretext to enact energy policies th=\\nat=20\\nhave been favored by industry executives for many years.=20\\nIn discussing their energy plans recently, administration officials have pu=\\nt=20\\nthe most emphasis on opening protected lands to oil and gas exploration,=20\\nwhile rolling back environmental rules that inhibit the burning of coal and=\\n=20\\nthe construction of pipelines and refineries.=20\\nBush\\'s most-visible steps to combat what he labeled an energy crisis have=\\n=20\\nalienated environmentalists. He rejected a treaty that would reduce emissio=\\nns=20\\nof gases cited as a cause of global warming and backtracked on his own pled=\\nge=20\\nto require controls on greenhouse-gas emissions by power plants, citing=20\\nurgent energy needs.=20\\nCheney said drastic measures were necessary because the needs are so great.=\\n=20\\nHe estimated that the country needs 38,000 miles of new pipelines to carry=\\n=20\\nnatural gas, for example.=20\\nCoal, Cheney said, has been neglected. It is America\\'s \"most-plentiful sour=\\nce=20\\nof affordable energy.\" He said people who seek to phase out its use, largel=\\ny=20\\nbecause they consider it a major source of air pollution, \"deny reality.\"=\\n=20\\nHe said the most environmentally friendly way to increase energy supplies w=\\nas=20\\nto extend the life of existing nuclear plants and grant permits to build ne=\\nw=20\\nones, because they have zero emissions of greenhouse gases.=20\\nUtility-industry executives have applauded the administration\\'s support of=\\n=20\\nnuclear power, but questioned the economic viability of building new nuclea=\\nr=20\\npower plants anytime soon. Environmentalists dispute Cheney\\'s contention th=\\nat=20\\nnuclear power is the cleanest source of energy because they say the mining=\\n=20\\nand enriching of uranium and the storage of nuclear waste are environmental=\\n=20\\nhazards.=20\\nCheney indicated the administration would put some weight on energy=20\\nefficiency.=20\\nNew technology - like computer screens that use far less power and=20\\nenergy-efficient light bulbs - have an important role because they can save=\\n=20\\nenergy without reducing living standards, he said. But he said he would=20\\noppose any measure based on the premise that Americans now \"live too well\" =\\nor=20\\nthat people should \"do more with less.\"=20\\nSome people who have talked with administration officials about the=20\\nforthcoming energy plan expect that the policy will include some tax-relate=\\nd=20\\nmeasures to promote efficiency. Among those considered most likely: Grantin=\\ng=20\\ntax credits for people who buy fuel-efficient automobiles and for power=20\\ncompanies that produce electricity using renewable energy sources, like=20\\nsolar, wind and geothermal.=20\\nHe said new drilling technologies mean that exploration can take place in t=\\nhe=20\\n19-million acre refuge, which President Eisenhower made protected federal=\\n=20\\nland, without disturbing the habitat for caribou and other wildlife. The=20\\naffected area totals no more than 2,000 acres, he said, \"one-fifth the size=\\n=20\\nof Dulles Airport\" outside Washington.=20\\n\\n---------------------------------------------------------------------------=\\n---\\n---------------------------------------------------------------------------=\\n---\\n-------------------\\n\\n\\n\\n\\nPower supplier will pay to settle=20\\nRegulators to accept $8 million settlement from Williams Cos. over price=20\\nhikes last year.=20\\nMay 1, 2001=20\\nBy KATE BERRY\\nThe Orange County Register=20\\nAn energy company accused of withholding power to drive up prices in=20\\nCalifornia\\'s electricity market agreed to pay $8 million in a settlement=20\\napproved Monday by federal energy regulators.=20\\nThe settlement is the first by a company accused of charging excessive=20\\nelectricity prices in the state.=20\\nThe Federal Energy Regulatory Commission accepted the settlement in which=\\n=20\\nWilliams Cos., of Tulsa, Okla., will refund the state\\'s grid operator $8=20\\nmillion for power sold at more than 10 times what it otherwise would have=\\n=20\\ncost.=20\\nThe purchases were made in a 10-day period last April and May. Regulators=\\n=20\\nsaid Williams deliberately kept generating units in Long Beach and Huntingt=\\non=20\\nBeach offline to raise prices. The California Independent System Operator,=\\n=20\\nwhich manages the state\\'s electric grid, designated those units to supply=\\n=20\\npower during periods of peak demand at contracted prices.=20\\nThe FERC order stated that \"Williams had a financial incentive to prolong=\\n=20\\noutages,\" at the two plants, which are owned by AES Corp.=20\\nWilliams would have been paid $63 a megawatt hour if the two power plants h=\\nad=20\\nbeen online, the FERC order stated. Instead, the company was paid $750 a=20\\nmegawatt hour for electricity from other AES generating units during that=\\n=20\\nperiod.=20\\nAES had said the units were taken offline for repairs. AES, which sells all=\\n=20\\npower generated at its three plants in Southern California to Williams unde=\\nr=20\\na contract, did not share in the profits from the power sales.=20\\nOfficials at Williams have repeatedly denied that the units were deliberate=\\nly=20\\nshut down. As part of the settlement, the company did not admit wrongdoing.=\\n=20\\nFederal officials had required Williams and AES to justify more than $40=20\\nmillion charged to the ISO. The companies faced paying a maximum of $10.8=\\n=20\\nmillion in refunds.=20\\nIn a separate matter, Williams is one of several power providers accused by=\\n=20\\nfederal regulators of overcharging the ISO $124 million for power in Januar=\\ny=20\\nand February. The power providers are still disputing those charges.=20\\n\\n---------------------------------------------------------------------------=\\n---\\n---------------------------------------------------------------------------=\\n---\\n-----------------------\\n\\n\\n\\nEnergy notebook: Bills target high natural-gas prices=20\\nState measures aim to boost production, speed OKs on new storage tanks and=\\n=20\\norder tariff review.=20\\nMay 1, 2001=20\\nFrom Register news services=20\\nSACRAMENTO California lawmakers introduced measures intended to lower the=\\n=20\\nprice of natural gas, which has been as much as 10 times higher in the stat=\\ne=20\\nthan in other parts of the country.=20\\nThe four measures, introduced by members of the state Assembly, would speed=\\n=20\\nup the approval of underground gas-storage tanks, encourage the production =\\nof=20\\nnatural gas for industrial uses, and order the review of tariffs relating t=\\no=20\\nnatural gas.=20\\n\"This market has gone out of control,\" said Joe Canciamilla, chairman of th=\\ne=20\\nAssembly\\'s subcommittee on natural gas and author of two of the bills=20\\nintroduced Monday.=20\\nAlmost 80 percent of electricity produced in California is generated by=20\\nburning natural gas. High electricity prices in the state, which have led t=\\no=20\\nthe near insolvency of California\\'s two largest electric utilities, have be=\\nen=20\\nblamed partly on high natural-gas prices.=20\\nPG&E Corp.\\'s Pacific Gas & Electric, the state\\'s No. 1 electric utility,=20\\nfiled for bankruptcy protection this month after running up $9 billion in=\\n=20\\npower-buying losses. Edison International\\'s Southern California Edison, the=\\n=20\\nstate\\'s second largest utility, also is on the verge of bankruptcy after=20\\naccruing more than $5.4 billion in power losses.=20\\nUnder the state\\'s deregulation laws, wholesale power prices have been allow=\\ned=20\\nto float, while consumer rates have been temporarily frozen.=20\\nAB78X, by Canciamilla, a Democrat from Pittsburg, would streamline the=20\\napproval of new underground tanks so more natural gas could be stored in=20\\nCalifornia and demand for gas from out of state would be smoothed out. AB23=\\nX=20\\ndirects the Public Utilities Commission to review all natural-gas tariffs.=\\n=20\\nAB73X, co-sponsored by Canciamilla, would allow natural gas unfit for use i=\\nn=20\\nresidences to be sold to industrial customers. AB42X reduces to one year fr=\\nom=20\\nas much as two years the permitting process for pipeline construction.=20\\nRegulators mull surcharge to help pay off generators=20\\nWASHINGTON U.S. energy regulators are considering whether to force=20\\nCalifornia\\'s electricity grid operator to impose a surcharge on power sales=\\n=20\\nto pay for more than $14 billion owed to generators by California utilities=\\n.=20\\nThe proposal is part of the price mitigation order for California issued by=\\n=20\\nthe Federal Energy Regulatory Commission last Wednesday. The public can=20\\ncomment on the proposal for 30 days before the commission decides whether t=\\no=20\\nimplement it.=20\\nThe Edison Electric Institute, an industry group, cautiously supported the=\\n=20\\nidea. \"We\\'re in favor of anything that keeps the lights on in California,\"=\\n=20\\nsaid spokeswoman Pat McMurray. \"Anything that keeps the generators selling=\\n=20\\ninto California is good,\" she said, adding that the group had yet to study=\\n=20\\nthe proposal carefully.=20\\nThe FERC is proposing that an unspecified surcharge be placed in an escrow=\\n=20\\naccount by the California Independent System Operator to ensure that=20\\ngenerators are paid. Whether the surcharge would be applied toward past bil=\\nls=20\\nor future power bills is open for debate, according to the order.=20\\nCalifornia utilities have amassed billions of dollars in debt buying=20\\nwholesale power at high prices while being limited by law as to what they c=\\nan=20\\ncharge consumers. The state is preparing to sell $10 billion in bonds to pa=\\ny=20\\nfor electricity this summer, when blackouts are expected as demand exceeds=\\n=20\\nsupplies.=20\\nJan Smutny-Jones, executive director of the Independent Energy Producers=20\\nAssociation, said his group is still \"trying to sort out how something like=\\n=20\\nthat might work,\" but offered no further comment.=20\\nThere is also a question whether the FERC has jurisdiction to order the=20\\nCalifornia ISO to collect the surcharge, said Edison Electric Institute=20\\nspokeswoman McMurray, adding that the issue may have to be clarified later.=\\n=20\\nPG&E still may sell its transmission lines to state=20\\nSAN FRANCISCO California\\'s largest utility still may sell its transmission=\\n=20\\nlines to the state despite seeking bankruptcy protection when an earlier de=\\nal=20\\nwith state negotiators fell through, Gov. Gray Davis said Monday.=20\\nDavis told reporters that a creditors committee of businesses owed money by=\\n=20\\nPacific Gas and Electric Co. asked state negotiators for a briefing on talk=\\ns=20\\nto buy the transmission lines of financially troubled San Diego Gas and=20\\nElectric Co., whose parent company is Sempra Energy.=20\\n\"The creditors committee called us and asked for a briefing on Sempra last=\\n=20\\nweek,\" Davis said, adding he believes there is some possibility of buying=\\n=20\\nPG&E\\'s lines. \"It helps us because it helps get PG&E back in.\"=20\\nPG&E did not immediately return calls for comment.=20\\nThe utility filed for Chapter 11 protection April 6 after failed attempts b=\\ny=20\\nthe state to buy its transmission lines to help the troubled utility pull=\\n=20\\nitself out of a multi-billion dollar debt.=20\\nThe governor struck a $3.5 billion deal with Southern California Edison Co.=\\n=20\\nfor its lines, undeveloped land and the promise of relatively cheap power.=\\n=20\\nThe deal requires legislative approval. The state has offered $1 billion to=\\n=20\\nSempra Energy for a similar package.=20\\nDavis told a crowd at investment firm J.P. Morgan\\'s H&Q Technology Conferen=\\nce=20\\nthat his state is boosting spending on technology research and education=20\\nincentives to keep California attractive to investment.=20\\nIn other news:=20\\nThe state paid nearly $90 million to buy electricity on each of a couple of=\\n=20\\ndays last week as Californians turned up their air conditioning amid=20\\nunseasonably warm temperatures, according to state finance officials.=20\\nThat amount is double what the state had been paying for a day\\'s worth of=\\n=20\\npower earlier this year, but only a slight increase from the $73 million it=\\n=20\\nhas been paying recently since the Pacific Gas & Electricity Co. bankruptcy=\\n=20\\nfiling.=20\\nAlso on Friday, state finance officers asked for an additional $500 million=\\n=20\\nfrom the legislature to buy power. That brings the total amount that the=20\\nstate has set aside for electricity since January to $6.2 billion.=20\\nA federal judge dismissed a lawsuit Monday filed by Duke Energy against Gov=\\n.=20\\nGray Davis over energy contracts the state seized earlier this year from=20\\nSouthern California Edison and Pacific Gas & Electric.=20\\nU.S. District Court Judge Terry Hatter ruled that Davis has immunity under=\\n=20\\nthe 11th Amendment, which prevents residents of one state from suing the=20\\ngovernment of another state in federal court.=20\\nThe Associated Press and Bloomberg News contributed to this report.=20\\n\\n---------------------------------------------------------------------------=\\n---\\n---------------------------------------------------------------------------=\\n---\\n-------------------------\\n\\n\\n\\n\\n\\n\\n\\nTuesday, May 1, 2001=20\\n\\n\\n\\n\\n\\n\\nLeadership blackout\\nGov. Davis seems unplugged in dealing with the crisis=20\\nApril 29, 2001\\nBy Steven Greenhut\\nThe Orange County Register\\nWe\\'ve seen it a bazillion times on TV and in the movies. A crisis threatens=\\n a=20\\nfamily, a community, a nation. Perhaps the threat comes from an enemy durin=\\ng=20\\nwartime. Or from a gang of criminals, corporate polluters, corrupt governme=\\nnt=20\\nofficials or aliens from Mars.=20\\nOut of nowhere, someone - sometimes from the least expected place - steps t=\\no=20\\nthe plate. It\\'s not just in the movies. History books are filled with the=\\n=20\\nlikes of George Washington, Winston Churchill, Lech Walesa. People who seiz=\\ned=20\\nthe moment and made it their own; people who chose to lead - and worry abou=\\nt=20\\nthe consequences later.\\nHistory books are filled, also, with those who ducked for cover, pointed=20\\nfingers or ran away.\\nNo one would have believed it, but in spring 2001 the nation\\'s most populou=\\ns=20\\nstate is struggling with looming blackouts, soaring electricity rates, stat=\\ne=20\\nlegislators blustering about Evil Power Producers and proposing \"solutions\"=\\n=20\\nthat lost credence when the Berlin Wall fell. And rather than lead, the man=\\n=20\\non the hot seat has become angry, immobile. He stands there, yelling \"It\\'s=\\n=20\\nnot my fault,\" and waiting for the mess to evaporate.\\nMost Californians sympathize with Gov. Gray Davis, who just a few months ag=\\no=20\\nwas viewed as an inevitable presidential contender. We know he didn\\'t creat=\\ne=20\\nthe current mess.\\nBut it\\'s Davis\\' moment, nonetheless. One would have thought the man who spe=\\nnt=20\\nhis career plotting his rise to the governor\\'s office would have had some=\\n=20\\nunderlying reason for aspiring to the post. Anyone can be a leader when=20\\nthere\\'s nothing to do but spend a surplus. But the real test comes when the=\\n=20\\nchips are down.\\nNo one should pin their hopes on politicians. Typically, pols should tend t=\\no=20\\nthe administrative affairs of government and let a free people live free=20\\nlives. But the electricity imbroglio is a government-created mess that=20\\ninitially requires a government solution.\\nAfter all, we\\'re talking about highly regulated utilities. It is a botched=\\n=20\\nstate de-regulation plan - actually a re-regulation plan - that exacerbated=\\n=20\\nthe energy problems. And it has been the state\\'s unwillingness to allow pow=\\ner=20\\ngenerators to build plants that has added to supply shortfalls.\\nThere are two directions to choose: Toward a system owned and operated by t=\\nhe=20\\nstate government, or toward a market-based system that treats electricity=\\n=20\\nlike any other commodity. The price of natural gas, food, clothing and othe=\\nr=20\\nessentials are allowed to rise and fall, according to the marketplace.\\nWhy is electricity so holy?\\nIf prices are allowed to float, and generators are allowed to provide the=\\n=20\\njuice to fill demand, soon enough a competitive market will overtake the=20\\ninitial price jumps and force prices down again. Sen. Tom McClintock,=20\\nR-Thousand Oaks, one of the few rational voices in Sacramento, argues that=\\n=20\\nDavis should have returned the surplus to taxpayers, who would have then ha=\\nd=20\\nthe means to pay for the initial price spikes.\\nInstead, Davis has spent the surplus buying electricity, allowing taxpayers=\\n=20\\nto foot the bill because he refuses to allow customers (Aren\\'t they the sam=\\ne=20\\npeople?) to pay market prices. Adding insult to injury, he refuses to make=\\n=20\\nhis dealings public.\\nFurthermore, Davis could have stabilized the situation last year when leade=\\nrs=20\\nof the state\\'s utilities tried in vain to get his attention about looming=\\n=20\\nproblems and to urge limited price increases and use of long-term contracts=\\n=20\\nto buy power. Instead, Davis and his handpicked political crony who runs th=\\ne=20\\nPublic Utilities Commission did nothing - except let a problem spiral into =\\na=20\\nfull-blown crisis.=20\\nWithout any leadership from the top, Californians hear a cacophony of=20\\nproposals from below.\\nThe Legislature, dominated by Democrats far out on the \"left-wing yahoo\"=20\\nscale, are talking about Texas power generators in the same overheated=20\\nrhetoric some right-wingers use to talk about the Chinese communists. One=\\n=20\\ntalked about sending tanks to Houston.\\nUnderstandably, the utility companies are looking out for their own=20\\ninterests.=20\\nPacific Gas & Electric, angry that the governor refused to do anything abou=\\nt=20\\nthe crisis, declared bankruptcy the day after Davis\\' say-nothing address to=\\n=20\\nCalifornians this month. As some commentators note, PG&E is far more=20\\ncomfortable dealing with a bankruptcy judge than dealing with a governor an=\\nd=20\\nlegislators who starred in \"Clueless in Sacramento.\"\\nBy contrast, Southern California Edison has chosen not to file bankruptcy=\\n=20\\nnow, preferring instead to sell the state its transmission lines as a way t=\\no=20\\ngenerate cash to keep this quasi-private entity going.=20\\nJohn Bryson, a longtime Davis associate and a creature of the=20\\ngovernment/regulatory/utility model, frankly admits that the main rationale=\\n=20\\nfor selling the lines to the state is to keep his company afloat, independe=\\nnt=20\\nand credit worthy.\\nBut it\\'s a lousy idea for taxpayers, who would gain a multibillion-dollar=\\n=20\\nliability badly in need of costly maintenance. I don\\'t blame Bryson (who, b=\\ny=20\\nthe way, co-founded the left-wing Natural Resources Defense Council early i=\\nn=20\\nhis career) for looking out for his company first. But what\\'s good for the=\\n=20\\nutilities is not necessarily good for taxpayers.\\nThen there are the self-proclaimed consumer advocates. Their goal seems to =\\nbe=20\\nto destroy the utilities so bureaucrats can run the system. These are peopl=\\ne=20\\nwho believe markets are the spawn of Satan.\\nRepublicans have generally been content to let Davis twist in the wind, whi=\\nch=20\\nisn\\'t the best leadership model, either. Sen. McClintock and a few others=\\n=20\\nhave offered meaty ideas. But they are a minority of a minority and have no=\\n=20\\nreal political muscle in the Democrat-dominated statehouse.\\nWho is left? Who you gonna call? Who is going to keep the still-thriving=20\\nCalifornia economy from going south?\\nThe answer is Gray Davis. It\\'s his hour, his moment, his crisis. The answer=\\ns=20\\nare out there if only this \"pragmatic\" and \"centrist\" governor would be=20\\nwilling to look to the market rather than the government. (Hint: See=20\\nsolutions outlined on these pages today.)\\nIt\\'s time to stop delaying, blustering, blaming others. It\\'s time for Davis=\\n=20\\nto remind Californians why they elected him governor. Steven Greenhut is an=\\n=20\\nOrange County Register editorial writer.=20\\n\\n---------------------------------------------------------------------------=\\n---\\n---------------------------------------------------------------------------=\\n---\\n-----------------------------------------\\n\\n[B] Calif. Gov Davis/ PG&E utility creditors may like grid sale --Davis see=\\ns=20\\nCalif energy supply outstripping need by fall \\'03 --Davis/ PG&E credi <>\\n\\n\\n\\n\\n\\n\\n\\n\\nBy Cristine Denver\\n\\n\\nSan Francisco, April 30 (BridgeNews) - California Gov. Gray Davis said\\nMonday he has spoken with creditors of Pacific Gas &amp; Electric, the=20\\nutility that\\nfiled for bankruptcy April 6, and they like the idea of potentially selling=\\n=20\\nthe\\ncompany\\'s transmission network to the state. Sempra Energy will also likely\\nagree to a similar deal, Davis said.\\n\\n\\n\\n*                      *                   *\\n\\n\\n\\nThe California Department of Water Resources signed a memorandum of\\nunderstanding to buy Southern California Edison\\'s grid for $2.76 billion. T=\\nhe\\ndeal is intended to help pay for past power costs, which drove Pacific Gas=\\n=20\\n&amp;\\nElectric, the state\\'s biggest utility, to seek bankruptcy protection.\\n\\n\\nSempra, whose utility, San Diego Gas &amp; Electric, has been able to recov=\\ner\\nsurging electricity costs,  \"will also take something along (the) lines,\"  =\\nof\\nEdison, Davis said.\\n\\n\\nSempra CEO Stephen Baum has consistently told analysts that San Diego Gas=\\n=20\\n&amp;\\nElectric Co. and the state are in negotiations on the transmission purchase=\\n=20\\nand\\nthat the price would be approximately 2.3 times the book value, which Baum=\\n=20\\ntold\\nanalysts last week was $433 million. The question has been the timing of a\\nSempra deal. Sempra, and its regulated utility, are not under the same\\nfinancial pressure to sell its transmission system. SDG&amp;E was not force=\\nd=20\\ninto a\\nmajor liquidity crisis as were PG&amp;E Co. and Southern California Edison.=\\n=20\\nSDG&amp;E\\nwas able to pass on soaring purchase power costs to ratepayers, while the\\nstate\\'s other two investor-owned utilities were unable to raise rates.\\n\\n\\nOn the sidelines with reporters at the J.P. Morgan Technology conference\\nhere, Davis was asked what would make him think that Pacific Gas &amp;=20\\nElectric\\nCo.\\'s creditors might favor a deal similar to one worked out with Edison\\nInternational subsidiary Southern California Edison, and currently in\\nnegotiations with Sempra Energy unit San Diego Gas &amp; Electric Co.\\n\\n\\nDavis responded saying that,  \"The creditors committee called us and asked\\nfor a briefing.\"  Davis said the creditors,  \"like part of it (the Edison\\nplan), and asked some good questions.\"\\n\\n\\nIn his presentation at the conference, Gov. Davis described the state\\'s\\nstrategy for solving the currently electric power supply crunch in four wor=\\nds:\\n\"Build more power plants.\"  Davis outlined the quick approvals that have be=\\nen\\nmade to get power plants sited and construction started. He told the=20\\nconference\\nthat by the fall of 2003, the state,  \"will finally have more power than\\nCalifornia needs. We are on the glide path toward that goal; but can\\'t make=\\n up\\nfor the inaction of the past 12 years overnight.\"\\n\\n\\nDavis was making a veiled reference to the 12 years during which Republican\\ngovernors occupied the office previous to Davis\\' election. It was during th=\\ne\\nadministration of Republican Pete Wilson that California\\'s deregulation pla=\\nn\\nwas passed by the Legislature.\\n\\n\\nIn addition to the power plant facility build up California will undergo,\\n\\nu\\n\\nDavis touted conservation efforts the state is making to reduce demand this\\nsummer.\\n\\n\\n\"We\\'re going to have to set the Guinness record for conservation in order\\nto avoid major disruptions this summer,\"  Davis said.  End\\n\\n---------------------------------------------------------------------------=\\n---\\n---------------------------------------------------------------------------=\\n---\\n-------------------------\\n\\nDavis Optimistic Despite Power Woes\\n\\n\\n\\nSAN FRANCISCO (AP) via NewsEdge Corporation  -\\nPacific Gas and Electric Co., which owes\\nbillions of dollars and is seeking bankruptcy protection, still may\\nsell its transmission lines to the state, Gov. Gray Davis said\\nMonday.\\n\\n\\nDavis told reporters that a committee made up of businesses owed\\nmoney by PG&amp;E has asked for a briefing on the state\\'s efforts to\\nbuy the transmission lines of another financially troubled utility,\\nSan Diego Gas and Electric Co., a unit of Sempra Energy.\\n\\n\\n``The creditors committee called us and asked for a briefing on\\nSempra last week,\\'\\' Davis said at a technology conference hosted by\\nJ.P. Morgan, adding he believes there is some possibility of buying\\nPG&amp;E\\'s lines. ``It helps us because it helps get PG&amp;E back in.\\'\\'\\n\\n\\nPG&amp;E did not immediately return calls for comment.\\n\\n\\nPG&amp;E, California\\'s largest utility, filed for Chapter 11\\nprotection April 6 after failed attempts by the state to buy its\\ntransmission lines.\\n\\n\\nThe governor struck a $3.5 billion deal with Southern California\\nEdison Co. for its lines, undeveloped land and the promise of\\nrelatively cheap power. The deal requires legislative approval. The\\nstate has offered $1 billion to Sempra Energy for a similar\\npackage.\\n\\n\\nSince January, the state has committed more than $6 billion to\\nbuying electricity for the customers of PG&amp;E, SoCal Edison and\\nSDG&amp;E.\\n---------------------------------------------------------------------------=\\n---\\n---------------------------------------------------------------------------=\\n---\\n------\\n\\n\\n\\n\\nNational Desk; Section A=20\\nCHENEY PROMOTES INCREASING SUPPLY AS ENERGY POLICY=20\\nBy JOSEPH KAHN=20\\n?=20\\n05/01/2001=20\\nThe New York Times=20\\nPage 1, Column 6=20\\nc. 2001 New York Times Company=20\\nWASHINGTON, April 30 -- Vice President Dick Cheney said today that oil, coa=\\nl=20\\nand natural gas would remain the United States\\' primary energy resources fo=\\nr=20\\n\\'\\'years down the road\\'\\' and that the Bush administration\\'s energy strategy=\\n=20\\nwould aim mainly to increase supply of fossil fuels, rather than limit=20\\ndemand.=20\\nIn his most comprehensive comments to date on the energy task force he is=\\n=20\\nheading on behalf of President Bush, Mr. Cheney dismissed as 1970\\'s-era=20\\nthinking the notion that \\'\\'we could simply conserve or ration our way out\\'\\'=\\n=20\\nof what he called an energy crisis.=20\\nThe only solution, he said, is a government-backed push to find new domesti=\\nc=20\\nsources of oil and gas, including in protected areas of the Arctic National=\\n=20\\nWildlife Refuge, and an all-out drive to build power plants -- a need that =\\nhe=20\\nsays will require one new electricity-generating plant a week for 20 years.=\\n=20\\n\\'\\'America\\'s reliance on energy, and fossil fuels in particular, has lately=\\n=20\\ntaken on an urgency not felt since the late 1970\\'s,\\'\\' Mr. Cheney said.=20\\n\\'\\'Without a clear, coherent energy strategy, all Americans could one day go=\\n=20\\nthrough what Californians are experiencing now, or worse.\\'\\'=20\\nMr. Cheney, who ran the oil-services company Halliburton Inc. before becomi=\\nng=20\\nvice president, offered a supply-oriented energy philosophy that seems like=\\nly=20\\nto dominate the report the cabinet-level task force is expected to issue as=\\n=20\\nearly as mid-May. The report is expected to recommend legislation, executiv=\\ne=20\\nactions and incentives for the private sector.=20\\nThe vice president\\'s comments, delivered to the annual meeting of The=20\\nAssociated Press in Toronto, seemed partly a combative response to Democrat=\\ns=20\\nand environmentalists who argue that the Bush administration has used=20\\nCalifornia\\'s electricity shortages as a pretext to enact energy policies th=\\nat=20\\nhave been favored by industry executives for many years.=20\\nIn discussing their energy plans recently, administration officials have pu=\\nt=20\\nthe most emphasis on opening protected lands to oil and gas exploration,=20\\nwhile rolling back environmental rules that inhibit the burning of coal and=\\n=20\\nthe construction of pipelines and refineries. They have also strongly=20\\nadvocated the use of nuclear power.=20\\nCritics have faulted the administration for moving quickly to abandon a=20\\ntreaty on global warming and rejecting controls on carbon dioxide emissions=\\n=20\\nfrom power plants, steps Mr. Bush said were vital because of energy=20\\nshortages. The administration has also come under withering criticism for=\\n=20\\ndelaying stricter standards on arsenic in drinking water.=20\\nMr. Cheney said today that environmentalists had taken things too far. He=\\n=20\\nsaid a recent television advertisement showing a child asking for more=20\\narsenic in her water was a \\'\\'cheap shot.\\'\\'=20\\nDrastic measures to increase energy supplies are justified, he said, becaus=\\ne=20\\nthe geometry of supply and demand curves are so alarming. He estimated that=\\n=20\\nthe country needed 38,000 miles of new pipelines to carry natural gas,=20\\ncovering the distance of Maine to California more than 12 times over.=20\\nCoal, Mr. Cheney said, has been neglected. It is the United States\\' \\'\\'most=\\n=20\\nplentiful source of affordable energy.\\'\\' He said people who sought to phase=\\n=20\\nout its use, largely because they considered it a major source of air=20\\npollution, \\'\\'deny reality.\\'\\'=20\\nHe said the most environmentally friendly way to increase energy supplies w=\\nas=20\\nto extend the life of existing nuclear plants and grant permits to build ne=\\nw=20\\nones, because they had no emissions of greenhouse gases.=20\\n\\'\\'We can safeguard the environment by making greater use of the cleanest=20\\nmethods of power generation we know,\\'\\' he said, speaking of nuclear power.=\\n=20\\n\\'\\'If we are serious about environmental protection, then we must seriously=\\n=20\\nquestion the wisdom of backing away from what is, as a matter of record, a=\\n=20\\nsafe, clean and very plentiful energy source.\\'\\'=20\\nUtility industry executives have applauded the administration\\'s support of=\\n=20\\nnuclear power, but questioned the economic viability of building new nuclea=\\nr=20\\npower plants anytime soon. Environmentalists dispute Mr. Cheney\\'s contentio=\\nn=20\\nthat nuclear power is the cleanest source of energy because they say the=20\\nmining and enriching of uranium and the storage of nuclear waste are hazard=\\ns.=20\\nMr. Cheney indicated that the administration would put some emphasis on=20\\nenergy efficiency. New technology -- like computer screens that use far les=\\ns=20\\npower and energy-efficient light bulbs -- have an important role because th=\\ney=20\\ncan save energy without reducing living standards, he said. But he said he=\\n=20\\nwould oppose any measure based on the premise that Americans now \\'\\'live too=\\n=20\\nwell\\'\\' or that people should \\'\\'do more with less.\\'\\'=20\\n\\'\\'The aim here is efficiency, not austerity,\\'\\' he said. \\'\\'Conservation may =\\nbe=20\\na sign of personal virtue, but it is not a sufficient basis for a sound,=20\\ncomprehensive energy policy.\\'\\'=20\\nSome people who have talked with administration officials about the energy=\\n=20\\nplan expect that the policy will include some tax-related measures to promo=\\nte=20\\nefficiency. Among those considered most likely are tax credits for people w=\\nho=20\\nbuy fuel-efficient automobiles and for power companies that produce=20\\nelectricity using renewable energy sources.=20\\nBut the budget Mr. Bush submitted to Congress in early April sharply reduce=\\nd=20\\nspending by the Department of Energy on research and development for energy=\\n=20\\nefficiency and renewable energy technologies.=20\\n\\'\\'They give lip service to efficiency, but their whole emphasis is on=20\\nsupply,\\'\\' said Senator Jeff Bingaman, a New Mexico Democrat who has=20\\nintroduced energy legislation that he says strikes a finer balance between=\\n=20\\nincreasing supply and controlling demand.=20\\nIn a report to be released later this week, the American Council for an=20\\nEnergy-Efficient Economy estimates that raising the fuel efficiency of cars=\\n=20\\nand light trucks by what it calls a modest amount could do far more to redu=\\nce=20\\nreliance on imported oil than drilling for oil in the Arctic National=20\\nWildlife Refuge.=20\\nFuel economy standards reached their peak in 1988, when the average passeng=\\ner=20\\nvehicle covered 26 miles on a gallon of gas. The average fell to 24 miles p=\\ner=20\\ngallon last year, because more Americans drive light trucks, which have low=\\ner=20\\nmandated efficiency standards than cars.=20\\nRaising average fuel use by cars and light trucks to 35 miles per gallon by=\\n=20\\n2010 would result in oil savings of 1.5 million barrels a day by that time,=\\n=20\\nthe report says. The United States Geological Survey estimates that the=20\\nAlaskan refuge would probably produce 580,000 barrels a day later this=20\\ndecade.=20\\nMr. Cheney did not discuss the merits of raising government-mandated=20\\nCorporate Average Fuel Economy standards in his address today. But he=20\\nstrongly defended the administration\\'s proposal to allow drilling for oil a=\\nnd=20\\ngas in the Alaskan refuge.=20\\nThe administration has sent mixed signals recently on how hard it intends t=\\no=20\\npush to open the refuge. Christie Whitman, the Environmental Protection=20\\nAgency administrator, said earlier this month that the energy plan would no=\\nt=20\\nemphasize drilling in the Alaskan wilderness, but other officials=20\\ncontradicted her.=20\\nMr. Cheney left little doubt of his support. He said new oil-drilling=20\\ntechnologies meant that exploration could take place in the 19-million-acre=\\n=20\\nrefuge without disturbing wildlife. The affected area totals no more than=\\n=20\\n2,000 acres, he said, \\'\\'one-fifth the size of Dulles Airport.\\'\\'=20\\n\\nPhoto: Vice President Dick Cheney said yesterday in Toronto that the=20\\nadministration\\'s energy policy would support more nuclear plants.=20\\n(Reuters)(pg. A20)=20\\n\\n---------------------------------------------------------------------------=\\n---\\n---------------------------------------------------------------------------=\\n---\\n----------------------------------\\n\\n\\n\\n\\nNational Desk; Section A=20\\nRiver\\'s Power Aids California And Enriches the Northwest=20\\nBy BLAINE HARDEN=20\\n?=20\\n05/01/2001=20\\nThe New York Times=20\\nPage 1, Column 5=20\\nc. 2001 New York Times Company=20\\nGEORGE, Wash. -- Doing something nice for California has never been a=20\\npriority here in the Columbia River Basin, where high-voltage power lines=\\n=20\\nlope across irrigated fields of alfalfa, potatoes and wheat.=20\\nPoliticians from California, as farmers in this area will explain at great=\\n=20\\nlength, have been scheming for decades to siphon off the basin\\'s cheap=20\\nelectricity and water.=20\\nCalifornians, however, have been noticeably less irritating as of late.=20\\nHaving fouled up electricity deregulation six ways from Sunday, they are=20\\nskidding into the summer air-conditioning season desperately short of power=\\n.=20\\nIn the last year, much of their salvation has come from the Columbia River,=\\n=20\\nwhose monstrous dams are the largest hydroelectricity machines in North=20\\nAmerica.=20\\nAll along the river, from Portland, Ore., to British Columbia, utility=20\\ncompanies, aluminum makers and farmers have joined to help save California =\\n--=20\\nbut at a staggering price. Charging whatever California\\'s dysfunctional pow=\\ner=20\\nmarket will bear, people in this narrow stretch of the Northwest have creat=\\ned=20\\na kind of Kuwait along the Columbia.=20\\nWith their record profits, some public utilities are wiring the emptiness o=\\nf=20\\nEastern Washington with fiber optics, buying diesel generators to make stil=\\nl=20\\nmore power and paying Wall Street-style wages to electricity traders -- whi=\\nle=20\\nmaking sure that their electricity rates remain among the cheapest in North=\\n=20\\nAmerica. Just north of the border in British Columbia, a state-owned utilit=\\ny=20\\nluxuriated in its California windfall by mailing out rebate checks to 1.6=\\n=20\\nmillion customers.=20\\nTheir good fortune, though, has come with a measure of ambivalence and may=\\n=20\\nwell be short-lived. A severe drought is already hurting farmers across the=\\n=20\\nregion. If it continues, utilities along the river will have to buy power a=\\nnd=20\\nmay be punished by the same market forces that gave them a windfall.=20\\n\\'\\'This is not nice money,\\'\\' said Alice Parker, a retired farmer who heads a=\\n=20\\ngroup that promotes irrigation in the Columbia Basin. \\'\\'It is something tha=\\nt=20\\nis offered to us not to use water so Californians can run their=20\\nair-conditioners.\\'\\'=20\\nNice or not, a whole lot of money flooded into the Columbia Basin.=20\\nNorth of here in sparsely populated Chelan County, a publicly owned utility=\\n=20\\nthat has two dams on the Columbia made three times as much money last year=\\n=20\\nthan it ever had before. With just 35,000 local customers, the utility last=\\n=20\\nyear had a $58.2 million profit. It paid its two top power traders $285,000=\\n=20\\neach, an astonishing income in a county where per capita income is less tha=\\nn=20\\n$25,000 a year. The utility refuses to reveal the traders\\' names for fear=\\n=20\\ntheir children might be kidnapped.=20\\nThe chief operating officer of Chelan County Public Utility District=20\\nacknowledged that increases in the cost of power were \\'\\'huge\\'\\' and=20\\n\\'\\'obscene.\\'\\' But the executive, Charles J. Hosken, added, \\'\\'We would be=20\\nimprudent if we did not maximize this market for our customer owners.\\'\\'=20\\nNext door in equally sparse Grant County, a public utility that also owns t=\\nwo=20\\ndams on the Columbia has made even more money maximizing the market. It had=\\n a=20\\nrecord $88.8 million in profits last year -- more than double its best=20\\nprevious year.=20\\nGrant County Public Utility District, which has just 40,000 retail customer=\\ns,=20\\nis using its windfall to help build a $70 million fiber optic network for=\\n=20\\nlocal residents. It has also bought 20 diesel generators to guard against=\\n=20\\npower shortages and, if possible, exploit the power gold-rush. The utility=\\n=20\\nestimates that those generators could add $50 million to profits in the=20\\ncoming year.=20\\nLike Chelan, Grant is using its profits as a kind of drought insurance to=\\n=20\\ninsulate its customers from high market prices for electricity, when, as no=\\nw,=20\\nlocal needs exceed generating capacity in the river. Power rates in Grant a=\\nnd=20\\nChelan Counties are about one-fifth as much as in New York City.=20\\nGrant County\\'s utility has rejected, for the time being, the idea of giving=\\n a=20\\nshare of its profits to its customers.=20\\n\\'\\'How would it look if Grant County gives away rebates while so many people=\\n=20\\nare paying more for electricity?\\'\\' asked Lon Topaz, director of resource=20\\nmanagement for the utility. \\'\\'It would be lousy politics.\\'\\'=20\\nAn Upside-Down Economy=20\\nThe second-worst drought on record in the Columbia River Basin has combined=\\n=20\\nwith California\\'s deregulation mess to further distort the energy market.=\\n=20\\nDrought has not only helped increase the price at which electricity can be=\\n=20\\nsold on the spot market -- 10 to 20 times as much as last year\\'s price -- i=\\nt=20\\nhas strengthened a compelling bottom-line rationale for conservation. Every=\\n=20\\nmegawatt not purchased and used in the Northwest (often at locked-in,=20\\nlong-term prices that are a fraction of the current market rate) can be sen=\\nt=20\\nsouth to California. For many utilities, conservation spells local savings=\\n=20\\nand a long-distance bonanza.=20\\nAs a result, a regional economy built on half a century of cheap hydropower=\\n=20\\nhas been stood on its head. Irrigation farmers here are being paid up to $4=\\n40=20\\nan acre not to farm.=20\\nSimilarly, aluminum companies are collecting about $1.7 billion this year b=\\ny=20\\nnot making aluminum. Companies like Alcoa have earned profits that delight=\\n=20\\nWall Street, while keeping about 10,000 workers on their payroll, by=20\\nreselling hydropower that they bought in the mid-1990\\'s under a cheap=20\\nlong-term contract.=20\\nEven residential customers are being offered a chance to make a few dollars=\\n=20\\nfrom the power crunch. Avista Utilities has announced that it will pay its=\\n=20\\ncustomers in Washington and Idaho 5 cents for every kilowatt they do not us=\\ne,=20\\nif their consumption falls more than 5 percent below last year\\'s level.=20\\nFor utilities in the Northwest, by far the largest profits from California\\'=\\ns=20\\nelectricity crisis have been secured in British Columbia. A number of priva=\\nte=20\\nAmerican utilities have also benefited from California\\'s troubles.=20\\nBC Hydro, a utility owned by British Columbia with dams on the Columbia and=\\n=20\\nPeace Rivers, is the first corporation in the history of the province to=20\\nexceed $1 billion in profits, as measured in Canadian currency ($712 millio=\\nn=20\\nin United States currency).=20\\nTo celebrate, the provincial government ordered BC Hydro to do something it=\\n=20\\nhad never done before. The utility mailed each of its customers a check for=\\n=20\\n$130. BC Hydro also guaranteed them no increases in electricity rates, whic=\\nh=20\\nhave not gone up for seven years.=20\\n\\'\\'We are just happy to be lucky that we have reservoirs and dams that were=\\n=20\\nbuilt by people of great foresight,\\'\\' said Brian R. D. Smith, chairman of B=\\nC=20\\nHydro.=20\\nWhen reminded that a March study by the California Independent System=20\\nOperator, which runs that state\\'s power grid, accused BC Hydro of market=20\\nmanipulation and profit gouging, Mr. Smith was less happy.=20\\n\\'\\'All they do is scream and shout and they won\\'t pay you the money they owe=\\n=20\\nyou,\\'\\' he said, arguing that his company has gone out of its way to help=20\\nCalifornia in its hour of need. Gouging has nothing to do with it, he said,=\\n=20\\nadding that it was California\\'s \\'\\'awful mess\\'\\' in deregulating power market=\\ns=20\\nthat fueled BC Hydro\\'s record profits.=20\\nA Good Deal for Farmers=20\\nIn the beginning, that is to say when federal money began transforming the=\\n=20\\nColumbia from the world\\'s premier salmon highway into a chain of adjustable=\\n=20\\nlakes, no one paid much attention to electricity. The river possessed a thi=\\nrd=20\\nof America\\'s hydroelectric potential, but there were not enough people in t=\\nhe=20\\nNorthwest to use more than a fraction of it, and long-distance high-voltage=\\n=20\\ntransmission lines did not exist.=20\\nThe main intention, when New Deal dollars began raining on the Northwest in=\\n=20\\nthe 1930\\'s, was to create family farms. Grand Coulee Dam, the biggest dam i=\\nn=20\\nNorth America and by far the largest hydroelectric plant, was primarily=20\\ndesigned as a water-delivery device for farmers.=20\\nSince then, as 6,000 miles of tunnels and concrete canals were built to=20\\nshuttle water around in sagebrush country, each 960-acre farm in the Columb=\\nia=20\\nBasin Federal Irrigation Project was blessed with at least $2.1 million in=\\n=20\\nfederal infrastructure subsidies, according to the Bureau of Reclamation,=\\n=20\\nwhich built it.=20\\nIn addition, farmers are guaranteed access to cheap water from the Columbia=\\n=20\\nand the right to buy all the electricity they needed to pump that water out=\\n=20\\nof the river -- at $1.50 a megawatt. A megawatt of electricity currently=20\\nsells for $375 to $400 on the spot market. As Paul Pitzer, a Columbia Basin=\\n=20\\nhistorian, has written, farmers here have always felt that \\'\\'no price is to=\\no=20\\nhigh to pay for their water so long as someone else is paying the bill.\\'\\'=\\n=20\\nThis year, though, the price finally became unbearably high for the=20\\nBonneville Power Administration, a nonprofit agency that markets electricit=\\ny=20\\nfrom 29 federal dams on river. The agency calculated that if it could=20\\npersuade farmers in the project not to irrigate 90,000 acres of land, water=\\n=20\\nleft in the Columbia would produce electricity worth as much as $129 millio=\\nn=20\\n(if it had to be purchased at current market prices).=20\\nIn a buyout that is without precedent in the Pacific Northwest, Bonneville =\\nis=20\\npaying 800 farmers a total of $30 million. The farmers receive $330 for eac=\\nh=20\\nacre they do not farm. On top of that, Grant County\\'s public utility is=20\\npaying many of the same farmers about $100 an acre not to farm their land.=\\n=20\\nOn April 13, about 20 irrigators gathered for lunch at the Martha Inn Cafe=\\n=20\\nhere in George to discuss the buyout. Since farm prices are low this year,=\\n=20\\nthey agreed that it was a good deal.=20\\nStill, the farmers, who do not like to be reminded of the federal subsidies=\\n=20\\nthat keep their irrigation system afloat, said they worried about the=20\\nprecedent they set when they traded water for cash.=20\\n\\'\\'This has to be a temporary deal,\\'\\' said Tom Flynt, 52, who normally farms=\\n=20\\n900 acres but has taken 150 acres out of production because of the buyout.=\\n=20\\n\\'\\'If anybody thought this would affect their water rights, there would be n=\\no=20\\ntakers.\\'\\'=20\\nSeveral farmers said they did not like the idea of their water supporting t=\\nhe=20\\nlifestyles of urban people, especially Californians, who, those who were=20\\ninterviewed said, do not appreciate the food that the farmers put on their=\\n=20\\ntable.=20\\n\\'\\'We feel that Americans are making decisions with their mouths full,\\'\\' sai=\\nd=20\\nTricia C. Lubach, a marketing consultant whose husband is an irrigation=20\\nfarmer. \\'\\'Not too long ago they didn\\'t worry about where the power comes=20\\nfrom. Someday they may think about where the food comes from.\\'\\'=20\\nA \\'Wonderful Energy Fit\\'=20\\nA couple of hundred miles northwest of George, in a penthouse conference ro=\\nom=20\\nthat overlooks Vancouver harbor, Mr. Smith, the chairman of British=20\\nColumbia\\'s most profitable company, explained in mid-April what a pain it w=\\nas=20\\nselling electricity to Californians.=20\\n\\'\\'People say to me what are you doing selling power to those ungrateful=20\\nCalifornians,\\'\\' he said. It does not help, he added, that the state is behi=\\nnd=20\\non its bills by about $300 million.=20\\nStill, neither BC Hydro nor the provincial government can afford to lose=20\\nCalifornia\\'s money. The utility has become a cash cow for the provincial=20\\nbudget, which in the last decade has received more than $3.7 billion from B=\\nC=20\\nHydro.=20\\n\\'\\'We have a wonderful energy fit,\\'\\' Mr. Smith said, referring to BC Hydro\\'s=\\n=20\\npower-trading relationship with California, if not to Californians=20\\nthemselves. \\'\\'We have oversupply in the summer when they have got high=20\\ndemand, and we have got undersupply in the winter when they have got stuff =\\nto=20\\ngive to us.\\'\\'=20\\nBC Hydro has acknowledged that it massages its hydropower system to sell=20\\npower when it is most needed -- and most expensive -- in California. The=20\\nutility closes the faucets on its dams at night during the summer, storing=\\n=20\\nwater while meeting local electricity needs with cheap off-peak power broug=\\nht=20\\nfrom across the West. In the morning, when prices peak, it opens the faucet=\\ns=20\\nand zaps electricity off to California.=20\\n\\'\\'We spill water during the day,\\'\\' Mr. Smith said. \\'\\'Why? Is it because we=\\n=20\\ncan make more money? No. It\\'s because that is when everybody wants=20\\nelectricity, for God\\'s sake.\\'\\'=20\\nQuestions about profit gouging on the part of dam-dependent utilities in th=\\ne=20\\nNorthwest may soon be moot. Drought has reduced the Columbia River runoff s=\\no=20\\nfar this year to about half of what is considered normal.=20\\nThe shortfall dovetails with higher costs for natural-gas-fired power plant=\\ns=20\\nand a growing gap on the West Coast between demand for electricity and=20\\ncapacity to generate it.=20\\n\\'\\'Absent being successful in getting loads down, we could be looking at=20\\nquadrupling of the power rates,\\'\\' said Paul Norman, head of power operation=\\ns=20\\nat Bonneville.=20\\nUnless conservation increases or the drought eases, Mr. Norman warned that =\\nby=20\\nlate summer, the Northwest\\'s era of cheap power could come to a sudden and=\\n=20\\npainfully expensive end.=20\\n\\nPhoto: Electricity generated by Rock Island Dam in Chelan County, Wash.,=20\\nhelped the county\\'s public utility earn a record $58.2 million in profits=\\n=20\\nlast year. (Larry Davis for The New York Times)(pg. A20) Graph: \\'\\'The Publi=\\nc=20\\nUtilities\\'\\' NET OPERATING PROFITS Graph tracks operating profits since 1995=\\n=20\\nfor the following: Grant County Wnapum and Priest Rapids Dams Chelan County=\\n=20\\nRocky Reach and Rock Island Dams BC Hydro All major hydroelectric dams in=\\n=20\\nBritish Colombia (Source: The public utilities)(pg. A20) Chart/Map: \\'\\'One=\\n=20\\nRiver\\'s Bonanza\\'\\' Some public utilities that own dams along the Columbia=20\\nRiver, which has one third of the hydroelectric potential in North America,=\\n=20\\nare selling power to California and making record profits. Map of the Unite=\\nd=20\\nStates and Canada follows the path of the Columbia River. (pg. A20)=20\\n---------------------------------------------------------------------------=\\n---\\n---------------------------------------------------------------------------=\\n---\\n--------------------\\n\\n\\n\\n\\nA Section=20\\nBush Energy Plan Will Emphasize Production; Cheney: Conservation Is Part of=\\n=20\\nEffort=20\\nMike Allen=20\\n?=20\\n05/01/2001=20\\nThe Washington Post=20\\nFINAL=20\\nPage A01=20\\nCopyright 2001, The Washington Post Co. All Rights Reserved=20\\nTORONTO, April 30 -- Vice President Cheney said today that the Bush=20\\nadministration\\'s energy policy will emphasize increased generation over=20\\nconservation and rely on an ambitious expansion of the country\\'s oil, coal=\\n=20\\nand natural gas industries in addition to a broader reliance on nuclear=20\\npower.=20\\nProviding a preview of the recommendations the administration\\'s energy task=\\n=20\\nforce will make to President Bush in the next few weeks, Cheney said he see=\\ns=20\\nno \"quick fixes\" to the problems that have led to rolling blackouts in=20\\nCalifornia and forecasts of higher gasoline prices for motorists this summe=\\nr.=20\\n\"The potential crisis we face is largely the result of short-sighted domest=\\nic=20\\npolicies -- or, as in recent years, no policy at all,\" Cheney told editors=\\n=20\\nand publishers at the Associated Press\\'s annual meeting. \"As a country, we=\\n=20\\nhave demanded more and more energy. But we have not brought online the=20\\nsupplies needed to meet that demand.\"=20\\nHe said 1,300 to 1,900 new power plants will be needed over the next 20=20\\nyears.=20\\nCheney, who is heading the task force that has been meeting in private sinc=\\ne=20\\nJanuary, provided few details of the panel\\'s conclusions. He said it would=\\n=20\\nrecommend \"a mix of new legislation, some executive action as well as priva=\\nte=20\\ninitiatives\" to bolster energy production.=20\\nBut he made clear that the administration will base its policy on promoting=\\n a=20\\nvigorous expansion of the traditional energy industry and will avoid the=20\\nkinds of austerity measures that marked the country\\'s response to the energ=\\ny=20\\ncrisis in the 1970s.=20\\n\"To speak exclusively of conservation is to duck the tough issues,\" Cheney=\\n=20\\nsaid. \"Conservation may be a sign of personal virtue, but it is not a=20\\nsufficient basis -- all by itself -- for a sound, comprehensive energy=20\\npolicy.\"=20\\nCheney said alternative energy sources such as wind and solar power may=20\\nprovide an important part of the country\\'s energy strategy in the years to=\\n=20\\ncome but that it is premature to rely on them now. \"Years down the road,=20\\nalternative fuels may become a great deal more plentiful,\" he said. \"But we=\\n=20\\nare not yet in any position to stake our economy and our own way of life on=\\n=20\\nthat possibility.\"=20\\nBush promised during last year\\'s campaign to develop a muscular national=20\\nenergy strategy, and named Cheney to head the task force less than two week=\\ns=20\\nafter taking office. Various sectors of the energy industry have billions o=\\nf=20\\ndollars riding on the outcome of the administration\\'s policy review.=20\\nCheney said the plan will call for increased exploration for new sources of=\\n=20\\noil, coal and natural gas, and construction of refineries, plants and=20\\npipelines. He reiterated the administration\\'s support for drilling in=20\\nAlaska\\'s Arctic National Wildlife Refuge, which he said could be tapped for=\\n=20\\noil without disrupting its environment.=20\\nCheney, who was chairman of the oil services firm Halliburton Co. before=20\\ntaking office, called coal \"the most plentiful source of affordable energy =\\nin=20\\nthe country\" and said it will remain the nation\\'s primary source of=20\\nelectricity for years.=20\\n\"Coal is not the cleanest source of energy,\" Cheney said, \"and we must=20\\nsupport efforts to improve clean-coal technology to soften its impact on th=\\ne=20\\nenvironment.\"=20\\nThe vice president called nuclear power one of \"the cleanest methods of pow=\\ner=20\\ngeneration that we know.\"=20\\n\"But the government has not granted a single new nuclear power permit in mo=\\nre=20\\nthan 20 years,\" Cheney said. \"If we\\'re serious about environmental=20\\nprotection, then we must seriously question the wisdom of backing away from=\\n=20\\nwhat is, as a matter of record, a safe, clean and very plentiful energy=20\\nsource.\"=20\\nOfficials with the coal and nuclear power industries, which have had little=\\n=20\\nto celebrate in recent years, welcomed Cheney\\'s remarks.=20\\n\"Bless his heart,\" said Bill Raney, president of the West Virginia Coal=20\\nAssociation. \"We have been something of the whipping child for some time no=\\nw.=20\\nThis is kind of like your dad when he compliments you when you were growing=\\n=20\\nup. We\\'ve got people in Washington talking to us now.\"=20\\nSteve Kerekes, a spokesman for the Nuclear Energy Institute, said it was=20\\n\"heartening to see that the administration is not only recognizing but=20\\npublicly acknowledging the positive role that nuclear energy plays in a=20\\ndiverse portfolio of energy sources.\"=20\\nSeveral environmental groups said the policy outlined by Cheney could negat=\\ne=20\\nwhatever good will the administration had gained with its recent spate of=\\n=20\\nenvironmentally friendly announcements. Philip E. Clapp, president of the=\\n=20\\nNational Environmental Trust, called Cheney\\'s prescription \"an=20\\nacross-the-board attack on the environment.\"=20\\nLois Corbett, executive director of the Toronto Energy Alliance, said: \"I\\'d=\\n=20\\nhate to think we\\'ll have to throw up a huge iron curtain to keep American=\\n=20\\nsmog and acid rain on the American side. Clean-coal technology is an=20\\noxymoron. It\\'s a dirty fuel.\"=20\\nRaney and other coal industry officials were summoned to an administration=\\n=20\\nbriefing last week in which Energy Secretary Spencer Abraham and other=20\\nadministration officials promised that coal would be a key part of the ener=\\ngy=20\\npolicy.=20\\nAttendees said that although no specifics were discussed about tax breaks o=\\nr=20\\nrelaxed regulations, they were assured the administration would work for a=\\n=20\\nmore stable and predictable process of getting permits to build or renovate=\\n=20\\ncoal-fired generating plants.=20\\nAdministration officials said Bush\\'s budget includes $150 million for=20\\ndeveloping clean-coal technology, new methods for converting coal to energy=\\n=20\\nthat result in less pollution. Cheney called conservation \"an important par=\\nt=20\\nof the total effort.\"=20\\n\\nContact: http://www.washingtonpost.com=20\\n---------------------------------------------------------------------------=\\n---\\n---------------------------------------------------------------------------=\\n---\\n-----------------------------------\\n\\nWestern Dreaming -- a buyer\\'s cartel 5/1/01\\n\\n\\n\\n\\nBy Kathleen McFall\\nkmcfall@ftenergy.com\\nIn California, the cost of electricity was $7 billion in 1999, $32 billion=\\n=20\\nlast year, and if expectations hold true, will rise to $65 billion this yea=\\nr,=20\\nsaid California Sen. Dianne Feinstein recently. As a consequence of this=20\\nescalation, the pressure is mounting on state and federal legislators to=20\\nsolve the California crisis=01*or to find someone else to blame it on. It\\'s=\\n=20\\nincreasingly looking like political suicide to do nothing.\\n\\nInitiatives and insults are flying, and the only consensus in this=20\\npolitically charged debate is that Western states are facing a grim summer,=\\n=20\\nand merchant power companies=01*an easy target=01*are somehow fleecing Cali=\\nfornia.\\n\\nIn this atmosphere, an interesting, albeit fringe, idea was recently posed =\\nin=20\\na report by economist Peter Navarro of the University of California-Irvine=\\n=20\\nand Michael Shames of the San Diego-based consumer group the Utility=20\\nConsumers\\' Action Network (UCAN).\\n\\n\"California should join with Oregon and Washington to create a buyers\\' cart=\\nel=20\\nto offset the market power of the Western generators. This multistate buyer=\\ns\\'=20\\ncartel should offer to pay a reasonable price for power to the sellers\\'=20\\ncartel members=01*but not a penny more,\" said the report.\\n\\nThe report named Mirant, Enron, Dynegy, Reliant and Williams Cos. as member=\\ns=20\\nof a \"sellers\\' cartel.\"\\n\\nWhile the idea may be organizationally untenable, it nevertheless places th=\\ne=20\\nCalifornia situation in an interesting conceptual framework, given the=20\\npoliticization of the crisis. It\\'s certainly an approach many politicians=\\n=20\\nwould rally around if they could figure out a way to use it to reduce OPEC\\'=\\ns=20\\nmarket influence.\\n\\nThe buyers\\' cartel\\nShames, a consumer advocate, gained notoriety as the author of a 1999 paper=\\n=20\\n(posted on UCAN\\'s Web site) that predicted today\\'s energy crisis. He said t=\\nhe=20\\nidea has garnered a positive response, in some circles.\\n\\n\"Surprisingly so,\" Shames said. \"Supportive sentiments have been echoed by=\\n=20\\nthe head of DWR [California Department of Water Resources] and a number of=\\n=20\\neconomists including Paul Krugman in a New York Times op-ed piece.\" Accordi=\\nng=20\\nto Shames, the recent Senate Bill SBX-73 introduced in California embodies=\\n=20\\nthe critical elements of the cartel approach.\\n\\nUCAN proposes the approach only as a backup plan in the event that the=20\\nWestern situation turns catastrophic this summer. \"One could view it as an=\\n=20\\ninsurance policy; it would not need to be used unless the governor\\'s summer=\\n=20\\nstrategy begins to falter. It contains two elements: creation of a hard-nos=\\ned=20\\n\\'buyers\\' cartel\\' and, if necessary, the forced sale of in-state generation=\\n=20\\nplants to the state,\" said the report.\\n\\nEach day, a Western states buyers\\' cooperative would set a price it conside=\\nrs=20\\nfair and reasonable, based on the cost of producing electricity, natural ga=\\ns=20\\nprices or other fuels, and a generous double-digit profit margin in order t=\\no=20\\nensure future investment in the power infrastructure.\\n\\nA power plant operator that wanted to sell electricity in these three Pacif=\\nic=20\\nCoast states would meet the price set by the cooperative. Those who didn\\'t=\\n=20\\nlike the price could shut down their plants and sit out the market for the=\\n=20\\nday, said Shames and Navarro.\\n\\nFor this plan to be effective, the report\\'s authors concede California\\'s=20\\nlegislature would have to pass emergency legislation to modify current law=\\n=20\\nrequiring California\\'s independent system operator to purchase power \"at an=\\ny=20\\nprice\" to keep the lights on.\\n\\n\"This will empower the buyer\\'s cartel to enforce its fair price offer,\" sai=\\nd=20\\nthe report. It would also hold consumers hostage to a battle between cartel=\\ns.\\n\\nBlackouts as leverage\\n\"The formation of a buyers\\' cartel will almost certainly spark retaliatory=\\n=20\\nblackouts as the sellers\\' cartel tests the political will of our legislator=\\ns=20\\nand governor. Indeed, the bold measures proposed here will require politica=\\nl=20\\nfortitude,\" the report asserts.\\n\\nTo respond to this eventuality, instead of random rolling blackouts sweepin=\\ng=20\\nthe state without notice, rotating outages would be planned and telegraphed=\\n=20\\nahead of time. \"That would give predictability to business and residents,=\\n=20\\nwhich is what most people want. It also would tip off the crooks, of course=\\n,=20\\nwho might prey on homes suddenly left without alarms. But the cops,=20\\nforewarned as well, could mobilize ahead of them with extra patrols,\"=20\\nsuggests the report.\\n\\nThe authors believe calling the bluff once or twice would be enough to brin=\\ng=20\\ncosts down to reasonable levels and break the \"seller\" cartel\\'s market grip=\\n.\\n\\nMerchant power companies would have to answer both to stockholders and the=\\n=20\\noutrage of public opinion if plants were intentionally idled during a=20\\nblackout. Blackouts appear to be inevitable this summer due to genuine powe=\\nr=20\\nshortages, but this approach would at least contain the price of available=\\n=20\\npower according to the logic of the report. The authors say that it\\'s \"a pl=\\nan=20\\nthat a free-market economist could love. Buyers pooling their clout to win =\\na=20\\nbetter price. People sacrificing to get what they want. Generators free to=\\n=20\\nparticipate, or not.\"\\n\\nIf the blackouts grew too disruptive, Shames and Navarro said, Gov. Gray=20\\nDavis and his counterparts in Oregon and Washington would have to use=20\\nemergency powers to seize the plants that refuse to play the game. That\\'s=\\n=20\\nwhen things would get ugly.\\n\\nBunker mentality\\nThe Shames and Navarro proposal has, at its core, a presumption of unfair=\\n=20\\npractices by merchant power, something these companies and other economists=\\n=20\\nwould certainly refute. Ironically, this cartel approach could work in favo=\\nr=20\\nof merchant power as well as buyers, demonstrating that blackouts are not=\\n=20\\nlinked to market manipulation.\\n\\nBeyond theory, the idea would be difficult from a practical standpoint yet =\\nit=20\\nillustrates the growing frustration at many levels with the extraordinary=\\n=20\\nWestern power market. As the report\\'s authors conclude, by this summer, wit=\\nh=20\\nthe air conditioning off and California\\'s budget in tatters, \"a buyers\\'=20\\ncartel could look downright reasonable.\"=20\\n',\n",
       " ['The curre=\\nnt=20\\nfutures market price for California-delivered power in July and August is=\\n=20\\nabout $500 per megawatt-hour, but administration officials insist they have=\\n=20\\ncontracted for much of the summer peak load at lower costs, leaving less=20\\nexposure to the spot market.=20\\nIf it all works as Davis hopes, customers of the three major utilities --=\\n=20\\nabout 70 percent of Californians -- will see a sharp boost in their rates=\\n=20\\nsoon, and that will be enough to finance the $20 billion in power purchase=\\n=20\\ndebts incurred by the utilities and the state so far, plus pay for future=\\n=20\\npurchases.=20\\nThe bonds would pick up the costs not covered by the raised rates in the=20\\nearly years of the scheme, then be paid off later as rates remain high but=\\n=20\\npower costs go down.',\n",
       "  '\"=\\n=20\\nBut energy producers challenged the bill, saying it would simply discourage=\\n=20\\ncompanies from building plants in California or from upgrading existing=20\\nfacilities.=20\\nThe tax \"does nothing to solve the fundamental problem in California, and=\\n=20\\nthat\\'s mainly the lack of supply,\" said Richard Wheatley, a spokesman for=\\n=20\\nHouston-based Reliant.=20\\n\"There is no way, given natural-gas prices today, that we could make any=20\\nmoney under the price caps in this bill,\" said Carl London, a lobbyist for=\\n=20\\nInterGen, a Boston-based generator.=20\\nIn turn, the state\\'s businesses would suffer through sustained power=20\\nblackouts because supply would remain low, said Carrie Lee-Coke, general=20\\ncounsel of the California Manufacturers and Technology Association.=20\\n\"There is one simple truth, and that is there is too little energy=20\\nproduction,\" Lee-Coke said, calling Soto\\'s bill the \"wrong medicine\" for=20\\nCalifornia.=20\\nAlthough electricity generated in California would be affected, it is uncle=\\nar=20\\nwhether the state can legally impose restrictions on power from outside the=\\n=20\\nstate.=20\\nRepublicans on Monday opposed the plan, citing disincentives for power=20\\ncompanies to boost supply and resultant blackouts.',\n",
       "  'Ev=\\nen=20\\nDemocrats are wary.=20\\nLegislative analysts zeroed in on a couple of assumptions that are central =\\nto=20\\nthe workability of the plan:=20\\nThat Californians will severely curtail their energy use this summer in=20\\nresponse to supply shortages, a big ad campaign and sharp price increases.=\\n=20\\nThat the state can buy spot market power this summer at rates far below wha=\\nt=20\\nit has been paying and what the power futures market indicates will be the=\\n=20\\nsummer spot price.=20\\nIf either of those two assumptions is off the mark, the state could face=20\\nsevere and prolonged blackouts and/or could go billions of dollars deeper=\\n=20\\ninto debt.=20\\nAdministration aides insisted that their assumptions are reasonable, based =\\non=20\\nwhat is known now about power consumption habits and the availability and=\\n=20\\nprice of power for the summer, when demand usually rises sharply to run air=\\n=20\\nconditioning.=20\\n\"This is not a guess,\" Susan Kennedy, a top Davis aide, told reporters in=\\n=20\\nresponse to sharp questioning about the plan\\'s projection of making spot=20\\nmarket power purchases during the summer at an average of $195 per=20\\nmegawatt-hour, 40 percent less than what the state is paying now.',\n",
       "  '\"Anything that keeps the generators selling=\\n=20\\ninto California is good,\" she said, adding that the group had yet to study=\\n=20\\nthe proposal carefully.=20\\nThe FERC is proposing that an unspecified surcharge be placed in an escrow=\\n=20\\naccount by the California Independent System Operator to ensure that=20\\ngenerators are paid.',\n",
       "  '?With money from higher electric rates and a planned $12.5-billion bond=\\n,=20\\nthe state should be able to cover the costs of power and operate at a surpl=\\nus=20\\nstarting in November 2002, the administration projected.']]"
      ]
     },
     "execution_count": 29,
     "metadata": {
      "tags": []
     },
     "output_type": "execute_result"
    }
   ],
   "source": [
    "summaries[0]"
   ]
  },
  {
   "cell_type": "code",
   "execution_count": null,
   "metadata": {
    "colab": {
     "base_uri": "https://localhost:8080/",
     "height": 151
    },
    "id": "TKlEvotgEcsV",
    "outputId": "bf686bb7-e0b5-4d41-a938-352313c09474"
   },
   "outputs": [
    {
     "data": {
      "text/html": [
       "<div>\n",
       "<style scoped>\n",
       "    .dataframe tbody tr th:only-of-type {\n",
       "        vertical-align: middle;\n",
       "    }\n",
       "\n",
       "    .dataframe tbody tr th {\n",
       "        vertical-align: top;\n",
       "    }\n",
       "\n",
       "    .dataframe thead th {\n",
       "        text-align: right;\n",
       "    }\n",
       "</style>\n",
       "<table border=\"1\" class=\"dataframe\">\n",
       "  <thead>\n",
       "    <tr style=\"text-align: right;\">\n",
       "      <th></th>\n",
       "      <th>content</th>\n",
       "      <th>summary</th>\n",
       "    </tr>\n",
       "  </thead>\n",
       "  <tbody>\n",
       "    <tr>\n",
       "      <th>0</th>\n",
       "      <td>Please see the following articles:\\n\\nSac Bee,...</td>\n",
       "      <td>[The curre=\\nnt=20\\nfutures market price for C...</td>\n",
       "    </tr>\n",
       "  </tbody>\n",
       "</table>\n",
       "</div>"
      ],
      "text/plain": [
       "                                             content                                            summary\n",
       "0  Please see the following articles:\\n\\nSac Bee,...  [The curre=\\nnt=20\\nfutures market price for C..."
      ]
     },
     "execution_count": 30,
     "metadata": {
      "tags": []
     },
     "output_type": "execute_result"
    }
   ],
   "source": [
    "summaries_df = pd.DataFrame(summaries, columns = ['content', 'summary']) \n",
    "summaries_df"
   ]
  },
  {
   "cell_type": "markdown",
   "metadata": {
    "id": "l9ieeNSOgHr4"
   },
   "source": [
    "# Community Detection"
   ]
  },
  {
   "cell_type": "code",
   "execution_count": null,
   "metadata": {
    "id": "aV0LRLoo9Wqe"
   },
   "outputs": [],
   "source": [
    "import networkx as nx\n",
    "import community as community_louvain\n",
    "G = nx.Graph()"
   ]
  },
  {
   "cell_type": "code",
   "execution_count": null,
   "metadata": {
    "colab": {
     "base_uri": "https://localhost:8080/"
    },
    "id": "fgjhE718Becd",
    "outputId": "529c0612-9d6c-4d48-c550-76b443dbc132"
   },
   "outputs": [
    {
     "data": {
      "text/plain": [
       "['nive@iiit.com', 'nive123@iiit.com']"
      ]
     },
     "execution_count": 32,
     "metadata": {
      "tags": []
     },
     "output_type": "execute_result"
    }
   ],
   "source": [
    "import re\n",
    "match = re.findall(r'[\\w\\.-]+@[\\w\\.-]+', 'this is a test string this is to see blah blah blah ... nive@iiit.com ... nive123@iiit.com')\n",
    "match"
   ]
  },
  {
   "cell_type": "code",
   "execution_count": null,
   "metadata": {
    "id": "R5yy5TycDpRm"
   },
   "outputs": [],
   "source": [
    "def email_list(search_string):\n",
    "    if not search_string:\n",
    "      return []\n",
    "    match = re.findall(r'[\\w\\.-]+@[\\w\\.-]+', search_string)\n",
    "    return match"
   ]
  },
  {
   "cell_type": "code",
   "execution_count": null,
   "metadata": {
    "id": "xoTQQlIl-pos"
   },
   "outputs": [],
   "source": [
    "df['to'] = df['to'].apply(email_list)"
   ]
  },
  {
   "cell_type": "code",
   "execution_count": null,
   "metadata": {
    "id": "RATw3VRIGm5M"
   },
   "outputs": [],
   "source": [
    "df['from'] = df['from'].apply(email_list)"
   ]
  },
  {
   "cell_type": "code",
   "execution_count": null,
   "metadata": {
    "id": "oMijZsIIGhn6"
   },
   "outputs": [],
   "source": [
    "list_all_emails = list(df['from']) + list(df['to'])"
   ]
  },
  {
   "cell_type": "code",
   "execution_count": null,
   "metadata": {
    "id": "EYeeG4zGEjWI"
   },
   "outputs": [],
   "source": [
    "import itertools\n",
    "merged = list(itertools.chain(*list_all_emails))"
   ]
  },
  {
   "cell_type": "code",
   "execution_count": null,
   "metadata": {
    "colab": {
     "base_uri": "https://localhost:8080/"
    },
    "id": "F0Rr1vikHC3B",
    "outputId": "a3c62ad9-4054-45d3-8151-8e9de34b1b4f"
   },
   "outputs": [
    {
     "data": {
      "text/plain": [
       "78558"
      ]
     },
     "execution_count": 38,
     "metadata": {
      "tags": []
     },
     "output_type": "execute_result"
    }
   ],
   "source": [
    "len(list(set(merged)))"
   ]
  },
  {
   "cell_type": "code",
   "execution_count": null,
   "metadata": {
    "id": "SvbpkQ1mHUvM"
   },
   "outputs": [],
   "source": [
    "G.add_nodes_from(merged)"
   ]
  },
  {
   "cell_type": "code",
   "execution_count": null,
   "metadata": {
    "colab": {
     "base_uri": "https://localhost:8080/",
     "height": 1000
    },
    "id": "PreBy3dmHaKj",
    "outputId": "658caed8-3353-40f6-efd9-2f338219ad54"
   },
   "outputs": [
    {
     "data": {
      "application/vnd.google.colaboratory.intrinsic+json": {
       "type": "string"
      },
      "text/plain": [
       "'Name: \\nType: Graph\\nNumber of nodes: 78558\\nNumber of edges: 0\\nAverage degree:   0.0000'"
      ]
     },
     "execution_count": 40,
     "metadata": {
      "tags": []
     },
     "output_type": "execute_result"
    }
   ],
   "source": [
    "nx.info(G)"
   ]
  },
  {
   "cell_type": "code",
   "execution_count": null,
   "metadata": {
    "colab": {
     "base_uri": "https://localhost:8080/"
    },
    "id": "8UCwsNwWHwP0",
    "outputId": "e209de7c-bfbb-4283-c3a2-bb993a766da9"
   },
   "outputs": [
    {
     "data": {
      "text/plain": [
       "0         [phillip.allen@enron.com]\n",
       "1         [phillip.allen@enron.com]\n",
       "2         [phillip.allen@enron.com]\n",
       "3         [phillip.allen@enron.com]\n",
       "4         [phillip.allen@enron.com]\n",
       "                    ...            \n",
       "517396    [john.zufferli@enron.com]\n",
       "517397    [john.zufferli@enron.com]\n",
       "517398    [john.zufferli@enron.com]\n",
       "517399    [john.zufferli@enron.com]\n",
       "517400    [john.zufferli@enron.com]\n",
       "Name: from, Length: 517401, dtype: object"
      ]
     },
     "execution_count": 41,
     "metadata": {
      "tags": []
     },
     "output_type": "execute_result"
    }
   ],
   "source": [
    "df['from']"
   ]
  },
  {
   "cell_type": "code",
   "execution_count": null,
   "metadata": {
    "colab": {
     "base_uri": "https://localhost:8080/"
    },
    "id": "nuzTSA03H1ZK",
    "outputId": "e3b65a82-b309-4fd3-fc01-9dc760dfdb0c"
   },
   "outputs": [
    {
     "data": {
      "text/plain": [
       "0               [tim.belden@enron.com]\n",
       "1            [john.lavorato@enron.com]\n",
       "2             [leah.arsdall@enron.com]\n",
       "3              [randall.gay@enron.com]\n",
       "4               [greg.piper@enron.com]\n",
       "                      ...             \n",
       "517396          [kori.loibl@enron.com]\n",
       "517397       [john.lavorato@enron.com]\n",
       "517398         [dawn.doucet@enron.com]\n",
       "517399        [jeanie.slone@enron.com]\n",
       "517400    [livia_zufferli@monitor.com]\n",
       "Name: to, Length: 517401, dtype: object"
      ]
     },
     "execution_count": 42,
     "metadata": {
      "tags": []
     },
     "output_type": "execute_result"
    }
   ],
   "source": [
    "df['to']"
   ]
  },
  {
   "cell_type": "code",
   "execution_count": null,
   "metadata": {
    "colab": {
     "base_uri": "https://localhost:8080/"
    },
    "id": "fWynb3_dH4xo",
    "outputId": "ec6b5e52-1ce3-450a-f557-e03bbac17c75"
   },
   "outputs": [
    {
     "name": "stdout",
     "output_type": "stream",
     "text": [
      "[] skilling@enron.com\n",
      "[] jeff.skilling@enron.com\n"
     ]
    }
   ],
   "source": [
    "list_edges = []\n",
    "for x,y in zip(df['from'], df['to']):\n",
    "    for i in y:\n",
    "        try:\n",
    "            list_edges.append([x[0],i])\n",
    "        except:\n",
    "            print(x,i)"
   ]
  },
  {
   "cell_type": "code",
   "execution_count": null,
   "metadata": {
    "colab": {
     "base_uri": "https://localhost:8080/"
    },
    "id": "uXTQU96XJxyh",
    "outputId": "21cfdf1c-61a0-4010-9eca-e7d0bcc84ed6"
   },
   "outputs": [
    {
     "data": {
      "text/plain": [
       "3129827"
      ]
     },
     "execution_count": 44,
     "metadata": {
      "tags": []
     },
     "output_type": "execute_result"
    }
   ],
   "source": [
    "len(list_edges)"
   ]
  },
  {
   "cell_type": "code",
   "execution_count": null,
   "metadata": {
    "id": "ptXdYKrLI-mu"
   },
   "outputs": [],
   "source": [
    "list_of_tuples = list(set(tuple(row) for row in list_edges))"
   ]
  },
  {
   "cell_type": "code",
   "execution_count": null,
   "metadata": {
    "colab": {
     "base_uri": "https://localhost:8080/"
    },
    "id": "2c9ugJmnJsCn",
    "outputId": "e4584829-5b8a-44fa-bf68-78df4b9ab523"
   },
   "outputs": [
    {
     "data": {
      "text/plain": [
       "310679"
      ]
     },
     "execution_count": 46,
     "metadata": {
      "tags": []
     },
     "output_type": "execute_result"
    }
   ],
   "source": [
    "len(list_of_tuples)"
   ]
  },
  {
   "cell_type": "code",
   "execution_count": null,
   "metadata": {
    "id": "E72hfyqjJ1Ro"
   },
   "outputs": [],
   "source": [
    "G.add_edges_from(list_of_tuples)"
   ]
  },
  {
   "cell_type": "code",
   "execution_count": null,
   "metadata": {
    "colab": {
     "base_uri": "https://localhost:8080/",
     "height": 1000
    },
    "id": "DWBrRX0UKGfi",
    "outputId": "be04efdb-3937-45e1-f1d3-e608ee7fd6c4"
   },
   "outputs": [
    {
     "data": {
      "application/vnd.google.colaboratory.intrinsic+json": {
       "type": "string"
      },
      "text/plain": [
       "'Name: \\nType: Graph\\nNumber of nodes: 78558\\nNumber of edges: 288064\\nAverage degree:   7.3338'"
      ]
     },
     "execution_count": 48,
     "metadata": {
      "tags": []
     },
     "output_type": "execute_result"
    }
   ],
   "source": [
    "nx.info(G)"
   ]
  },
  {
   "cell_type": "code",
   "execution_count": null,
   "metadata": {
    "id": "mSJCpG70i9MQ"
   },
   "outputs": [],
   "source": [
    "partition = community_louvain.best_partition(G, random_state = 0)"
   ]
  },
  {
   "cell_type": "code",
   "execution_count": null,
   "metadata": {
    "id": "J30nvDKtjIBl"
   },
   "outputs": [],
   "source": [
    "comm_list = pd.DataFrame(partition.items())"
   ]
  },
  {
   "cell_type": "code",
   "execution_count": null,
   "metadata": {
    "id": "5Flg5c0zlZ55"
   },
   "outputs": [],
   "source": [
    "comm_list.columns = ['email_id', 'community_number']"
   ]
  },
  {
   "cell_type": "code",
   "execution_count": null,
   "metadata": {
    "colab": {
     "base_uri": "https://localhost:8080/",
     "height": 507
    },
    "id": "TZUmahKOlb-I",
    "outputId": "1c983c0a-0689-485e-8a7d-9d5ca70586e6"
   },
   "outputs": [
    {
     "data": {
      "text/html": [
       "<div>\n",
       "<style scoped>\n",
       "    .dataframe tbody tr th:only-of-type {\n",
       "        vertical-align: middle;\n",
       "    }\n",
       "\n",
       "    .dataframe tbody tr th {\n",
       "        vertical-align: top;\n",
       "    }\n",
       "\n",
       "    .dataframe thead th {\n",
       "        text-align: right;\n",
       "    }\n",
       "</style>\n",
       "<table border=\"1\" class=\"dataframe\">\n",
       "  <thead>\n",
       "    <tr style=\"text-align: right;\">\n",
       "      <th></th>\n",
       "      <th>email_id</th>\n",
       "      <th>community_number</th>\n",
       "    </tr>\n",
       "  </thead>\n",
       "  <tbody>\n",
       "    <tr>\n",
       "      <th>0</th>\n",
       "      <td>phillip.allen@enron.com</td>\n",
       "      <td>0</td>\n",
       "    </tr>\n",
       "    <tr>\n",
       "      <th>1</th>\n",
       "      <td>ina.rangel@enron.com</td>\n",
       "      <td>0</td>\n",
       "    </tr>\n",
       "    <tr>\n",
       "      <th>2</th>\n",
       "      <td>1.11913372.-2@multexinvestornetwork.com</td>\n",
       "      <td>1</td>\n",
       "    </tr>\n",
       "    <tr>\n",
       "      <th>3</th>\n",
       "      <td>messenger@ecm.bloomberg.com</td>\n",
       "      <td>2</td>\n",
       "    </tr>\n",
       "    <tr>\n",
       "      <th>4</th>\n",
       "      <td>aod@newsdata.com</td>\n",
       "      <td>3</td>\n",
       "    </tr>\n",
       "    <tr>\n",
       "      <th>...</th>\n",
       "      <td>...</td>\n",
       "      <td>...</td>\n",
       "    </tr>\n",
       "    <tr>\n",
       "      <th>78553</th>\n",
       "      <td>admin@johnscotti.com</td>\n",
       "      <td>0</td>\n",
       "    </tr>\n",
       "    <tr>\n",
       "      <th>78554</th>\n",
       "      <td>frank.senders@pandora.be</td>\n",
       "      <td>0</td>\n",
       "    </tr>\n",
       "    <tr>\n",
       "      <th>78555</th>\n",
       "      <td>karen.mazuryk@powerpool.ab.ca</td>\n",
       "      <td>0</td>\n",
       "    </tr>\n",
       "    <tr>\n",
       "      <th>78556</th>\n",
       "      <td>astrid.montes@powerpool.ab.ca</td>\n",
       "      <td>0</td>\n",
       "    </tr>\n",
       "    <tr>\n",
       "      <th>78557</th>\n",
       "      <td>ken.gardner@powerpool.ab.ca</td>\n",
       "      <td>0</td>\n",
       "    </tr>\n",
       "  </tbody>\n",
       "</table>\n",
       "<p>78558 rows × 2 columns</p>\n",
       "</div>"
      ],
      "text/plain": [
       "                                      email_id  community_number\n",
       "0                      phillip.allen@enron.com                 0\n",
       "1                         ina.rangel@enron.com                 0\n",
       "2      1.11913372.-2@multexinvestornetwork.com                 1\n",
       "3                  messenger@ecm.bloomberg.com                 2\n",
       "4                             aod@newsdata.com                 3\n",
       "...                                        ...               ...\n",
       "78553                     admin@johnscotti.com                 0\n",
       "78554                 frank.senders@pandora.be                 0\n",
       "78555            karen.mazuryk@powerpool.ab.ca                 0\n",
       "78556            astrid.montes@powerpool.ab.ca                 0\n",
       "78557              ken.gardner@powerpool.ab.ca                 0\n",
       "\n",
       "[78558 rows x 2 columns]"
      ]
     },
     "execution_count": 52,
     "metadata": {
      "tags": []
     },
     "output_type": "execute_result"
    }
   ],
   "source": [
    "comm_list"
   ]
  },
  {
   "cell_type": "code",
   "execution_count": null,
   "metadata": {
    "id": "0sPqLsoFlehv"
   },
   "outputs": [],
   "source": [
    "grouped = comm_list.groupby(['community_number'])['email_id'].apply(list)"
   ]
  },
  {
   "cell_type": "code",
   "execution_count": null,
   "metadata": {
    "colab": {
     "base_uri": "https://localhost:8080/"
    },
    "id": "3L6_YsV9mqLr",
    "outputId": "13d24ec1-a470-4326-9eb4-46b505244374"
   },
   "outputs": [
    {
     "data": {
      "text/plain": [
       "community_number\n",
       "0       [phillip.allen@enron.com, ina.rangel@enron.com...\n",
       "1       [1.11913372.-2@multexinvestornetwork.com, webm...\n",
       "2       [messenger@ecm.bloomberg.com, rebecca.cantrell...\n",
       "3       [aod@newsdata.com, articles-email@ms1.lga2.nyt...\n",
       "4       [market-reply@listserv.dowjones.com, market_al...\n",
       "                              ...                        \n",
       "1924    [cathylendel@canada.com, bin459f@mailman.enron...\n",
       "1925                             [marissa345@hotmail.com]\n",
       "1926    [energy-i@petroleumargus.com, freetrial@petrol...\n",
       "1927                           [gmburres@purvingertz.com]\n",
       "1928                           [cmaliaga@purvingertz.com]\n",
       "Name: email_id, Length: 1929, dtype: object"
      ]
     },
     "execution_count": 54,
     "metadata": {
      "tags": []
     },
     "output_type": "execute_result"
    }
   ],
   "source": [
    "grouped"
   ]
  }
 ],
 "metadata": {
  "colab": {
   "collapsed_sections": [],
   "name": "linkedin_enron.ipynb",
   "provenance": []
  },
  "kernelspec": {
   "display_name": "Python 3 (ipykernel)",
   "language": "python",
   "name": "python3"
  },
  "language_info": {
   "codemirror_mode": {
    "name": "ipython",
    "version": 3
   },
   "file_extension": ".py",
   "mimetype": "text/x-python",
   "name": "python",
   "nbconvert_exporter": "python",
   "pygments_lexer": "ipython3",
   "version": "3.10.6"
  },
  "widgets": {
   "application/vnd.jupyter.widget-state+json": {
    "58e402f7aaa6459e8dfeb3c7c95951b0": {
     "model_module": "@jupyter-widgets/controls",
     "model_name": "ProgressStyleModel",
     "state": {
      "_model_module": "@jupyter-widgets/controls",
      "_model_module_version": "1.5.0",
      "_model_name": "ProgressStyleModel",
      "_view_count": null,
      "_view_module": "@jupyter-widgets/base",
      "_view_module_version": "1.2.0",
      "_view_name": "StyleView",
      "bar_color": null,
      "description_width": "initial"
     }
    },
    "5953676a515b4c438c7b9f8ac3f4e4d5": {
     "model_module": "@jupyter-widgets/base",
     "model_name": "LayoutModel",
     "state": {
      "_model_module": "@jupyter-widgets/base",
      "_model_module_version": "1.2.0",
      "_model_name": "LayoutModel",
      "_view_count": null,
      "_view_module": "@jupyter-widgets/base",
      "_view_module_version": "1.2.0",
      "_view_name": "LayoutView",
      "align_content": null,
      "align_items": null,
      "align_self": null,
      "border": null,
      "bottom": null,
      "display": null,
      "flex": null,
      "flex_flow": null,
      "grid_area": null,
      "grid_auto_columns": null,
      "grid_auto_flow": null,
      "grid_auto_rows": null,
      "grid_column": null,
      "grid_gap": null,
      "grid_row": null,
      "grid_template_areas": null,
      "grid_template_columns": null,
      "grid_template_rows": null,
      "height": null,
      "justify_content": null,
      "justify_items": null,
      "left": null,
      "margin": null,
      "max_height": null,
      "max_width": null,
      "min_height": null,
      "min_width": null,
      "object_fit": null,
      "object_position": null,
      "order": null,
      "overflow": null,
      "overflow_x": null,
      "overflow_y": null,
      "padding": null,
      "right": null,
      "top": null,
      "visibility": null,
      "width": null
     }
    },
    "818427b63b9d4ed6b3479d1cbe7110ed": {
     "model_module": "@jupyter-widgets/controls",
     "model_name": "HTMLModel",
     "state": {
      "_dom_classes": [],
      "_model_module": "@jupyter-widgets/controls",
      "_model_module_version": "1.5.0",
      "_model_name": "HTMLModel",
      "_view_count": null,
      "_view_module": "@jupyter-widgets/controls",
      "_view_module_version": "1.5.0",
      "_view_name": "HTMLView",
      "description": "",
      "description_tooltip": null,
      "layout": "IPY_MODEL_5953676a515b4c438c7b9f8ac3f4e4d5",
      "placeholder": "​",
      "style": "IPY_MODEL_c3ef01bcd7fd4bb39efbf38ee694a933",
      "value": " 306M/306M [02:06&lt;00:00, 2.42MB/s]"
     }
    },
    "b49b6b96e10d45e7a17ee43448cff518": {
     "model_module": "@jupyter-widgets/base",
     "model_name": "LayoutModel",
     "state": {
      "_model_module": "@jupyter-widgets/base",
      "_model_module_version": "1.2.0",
      "_model_name": "LayoutModel",
      "_view_count": null,
      "_view_module": "@jupyter-widgets/base",
      "_view_module_version": "1.2.0",
      "_view_name": "LayoutView",
      "align_content": null,
      "align_items": null,
      "align_self": null,
      "border": null,
      "bottom": null,
      "display": null,
      "flex": null,
      "flex_flow": null,
      "grid_area": null,
      "grid_auto_columns": null,
      "grid_auto_flow": null,
      "grid_auto_rows": null,
      "grid_column": null,
      "grid_gap": null,
      "grid_row": null,
      "grid_template_areas": null,
      "grid_template_columns": null,
      "grid_template_rows": null,
      "height": null,
      "justify_content": null,
      "justify_items": null,
      "left": null,
      "margin": null,
      "max_height": null,
      "max_width": null,
      "min_height": null,
      "min_width": null,
      "object_fit": null,
      "object_position": null,
      "order": null,
      "overflow": null,
      "overflow_x": null,
      "overflow_y": null,
      "padding": null,
      "right": null,
      "top": null,
      "visibility": null,
      "width": null
     }
    },
    "c3ef01bcd7fd4bb39efbf38ee694a933": {
     "model_module": "@jupyter-widgets/controls",
     "model_name": "DescriptionStyleModel",
     "state": {
      "_model_module": "@jupyter-widgets/controls",
      "_model_module_version": "1.5.0",
      "_model_name": "DescriptionStyleModel",
      "_view_count": null,
      "_view_module": "@jupyter-widgets/base",
      "_view_module_version": "1.2.0",
      "_view_name": "StyleView",
      "description_width": ""
     }
    },
    "ccd9483aed64416882fa037c6e5cf803": {
     "model_module": "@jupyter-widgets/controls",
     "model_name": "HBoxModel",
     "state": {
      "_dom_classes": [],
      "_model_module": "@jupyter-widgets/controls",
      "_model_module_version": "1.5.0",
      "_model_name": "HBoxModel",
      "_view_count": null,
      "_view_module": "@jupyter-widgets/controls",
      "_view_module_version": "1.5.0",
      "_view_name": "HBoxView",
      "box_style": "",
      "children": [
       "IPY_MODEL_e90f5da9c3574cf5ae16d40c0427c5d1",
       "IPY_MODEL_818427b63b9d4ed6b3479d1cbe7110ed"
      ],
      "layout": "IPY_MODEL_e5b02479f66743469be3c3b9daa69723"
     }
    },
    "e5b02479f66743469be3c3b9daa69723": {
     "model_module": "@jupyter-widgets/base",
     "model_name": "LayoutModel",
     "state": {
      "_model_module": "@jupyter-widgets/base",
      "_model_module_version": "1.2.0",
      "_model_name": "LayoutModel",
      "_view_count": null,
      "_view_module": "@jupyter-widgets/base",
      "_view_module_version": "1.2.0",
      "_view_name": "LayoutView",
      "align_content": null,
      "align_items": null,
      "align_self": null,
      "border": null,
      "bottom": null,
      "display": null,
      "flex": null,
      "flex_flow": null,
      "grid_area": null,
      "grid_auto_columns": null,
      "grid_auto_flow": null,
      "grid_auto_rows": null,
      "grid_column": null,
      "grid_gap": null,
      "grid_row": null,
      "grid_template_areas": null,
      "grid_template_columns": null,
      "grid_template_rows": null,
      "height": null,
      "justify_content": null,
      "justify_items": null,
      "left": null,
      "margin": null,
      "max_height": null,
      "max_width": null,
      "min_height": null,
      "min_width": null,
      "object_fit": null,
      "object_position": null,
      "order": null,
      "overflow": null,
      "overflow_x": null,
      "overflow_y": null,
      "padding": null,
      "right": null,
      "top": null,
      "visibility": null,
      "width": null
     }
    },
    "e90f5da9c3574cf5ae16d40c0427c5d1": {
     "model_module": "@jupyter-widgets/controls",
     "model_name": "FloatProgressModel",
     "state": {
      "_dom_classes": [],
      "_model_module": "@jupyter-widgets/controls",
      "_model_module_version": "1.5.0",
      "_model_name": "FloatProgressModel",
      "_view_count": null,
      "_view_module": "@jupyter-widgets/controls",
      "_view_module_version": "1.5.0",
      "_view_name": "ProgressView",
      "bar_style": "success",
      "description": "100%",
      "description_tooltip": null,
      "layout": "IPY_MODEL_b49b6b96e10d45e7a17ee43448cff518",
      "max": 305584576,
      "min": 0,
      "orientation": "horizontal",
      "style": "IPY_MODEL_58e402f7aaa6459e8dfeb3c7c95951b0",
      "value": 305584576
     }
    }
   }
  }
 },
 "nbformat": 4,
 "nbformat_minor": 4
}
